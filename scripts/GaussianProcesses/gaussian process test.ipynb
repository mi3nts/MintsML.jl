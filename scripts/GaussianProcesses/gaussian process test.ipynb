{
 "cells": [
  {
   "cell_type": "code",
   "execution_count": 1,
   "id": "c4ee276d",
   "metadata": {},
   "outputs": [],
   "source": [
    "using LinearAlgebra\n",
    "using Distributions \n",
    "using Random\n",
    "using Plots"
   ]
  },
  {
   "cell_type": "markdown",
   "id": "674f9076",
   "metadata": {},
   "source": [
    "1. Generate some data $(\\mathbf{X}, \\vec{y})$ to fit our Gaussian process to. "
   ]
  },
  {
   "cell_type": "code",
   "execution_count": 41,
   "id": "4dead54f",
   "metadata": {
    "scrolled": true
   },
   "outputs": [
    {
     "data": {
      "image/svg+xml": [
       "<?xml version=\"1.0\" encoding=\"utf-8\"?>\n",
       "<svg xmlns=\"http://www.w3.org/2000/svg\" xmlns:xlink=\"http://www.w3.org/1999/xlink\" width=\"600\" height=\"400\" viewBox=\"0 0 2400 1600\">\n",
       "<defs>\n",
       "  <clipPath id=\"clip190\">\n",
       "    <rect x=\"0\" y=\"0\" width=\"2400\" height=\"1600\"/>\n",
       "  </clipPath>\n",
       "</defs>\n",
       "<path clip-path=\"url(#clip190)\" d=\"\n",
       "M0 1600 L2400 1600 L2400 0 L0 0  Z\n",
       "  \" fill=\"#ffffff\" fill-rule=\"evenodd\" fill-opacity=\"1\"/>\n",
       "<defs>\n",
       "  <clipPath id=\"clip191\">\n",
       "    <rect x=\"480\" y=\"0\" width=\"1681\" height=\"1600\"/>\n",
       "  </clipPath>\n",
       "</defs>\n",
       "<path clip-path=\"url(#clip190)\" d=\"\n",
       "M192.941 1486.45 L2352.76 1486.45 L2352.76 47.2441 L192.941 47.2441  Z\n",
       "  \" fill=\"#ffffff\" fill-rule=\"evenodd\" fill-opacity=\"1\"/>\n",
       "<defs>\n",
       "  <clipPath id=\"clip192\">\n",
       "    <rect x=\"192\" y=\"47\" width=\"2161\" height=\"1440\"/>\n",
       "  </clipPath>\n",
       "</defs>\n",
       "<polyline clip-path=\"url(#clip192)\" style=\"stroke:#000000; stroke-linecap:round; stroke-linejoin:round; stroke-width:2; stroke-opacity:0.1; fill:none\" points=\"\n",
       "  317.823,1486.45 317.823,47.2441 \n",
       "  \"/>\n",
       "<polyline clip-path=\"url(#clip192)\" style=\"stroke:#000000; stroke-linecap:round; stroke-linejoin:round; stroke-width:2; stroke-opacity:0.1; fill:none\" points=\"\n",
       "  756.228,1486.45 756.228,47.2441 \n",
       "  \"/>\n",
       "<polyline clip-path=\"url(#clip192)\" style=\"stroke:#000000; stroke-linecap:round; stroke-linejoin:round; stroke-width:2; stroke-opacity:0.1; fill:none\" points=\"\n",
       "  1194.63,1486.45 1194.63,47.2441 \n",
       "  \"/>\n",
       "<polyline clip-path=\"url(#clip192)\" style=\"stroke:#000000; stroke-linecap:round; stroke-linejoin:round; stroke-width:2; stroke-opacity:0.1; fill:none\" points=\"\n",
       "  1633.04,1486.45 1633.04,47.2441 \n",
       "  \"/>\n",
       "<polyline clip-path=\"url(#clip192)\" style=\"stroke:#000000; stroke-linecap:round; stroke-linejoin:round; stroke-width:2; stroke-opacity:0.1; fill:none\" points=\"\n",
       "  2071.44,1486.45 2071.44,47.2441 \n",
       "  \"/>\n",
       "<polyline clip-path=\"url(#clip190)\" style=\"stroke:#000000; stroke-linecap:round; stroke-linejoin:round; stroke-width:4; stroke-opacity:1; fill:none\" points=\"\n",
       "  192.941,1486.45 2352.76,1486.45 \n",
       "  \"/>\n",
       "<polyline clip-path=\"url(#clip190)\" style=\"stroke:#000000; stroke-linecap:round; stroke-linejoin:round; stroke-width:4; stroke-opacity:1; fill:none\" points=\"\n",
       "  317.823,1486.45 317.823,1467.55 \n",
       "  \"/>\n",
       "<polyline clip-path=\"url(#clip190)\" style=\"stroke:#000000; stroke-linecap:round; stroke-linejoin:round; stroke-width:4; stroke-opacity:1; fill:none\" points=\"\n",
       "  756.228,1486.45 756.228,1467.55 \n",
       "  \"/>\n",
       "<polyline clip-path=\"url(#clip190)\" style=\"stroke:#000000; stroke-linecap:round; stroke-linejoin:round; stroke-width:4; stroke-opacity:1; fill:none\" points=\"\n",
       "  1194.63,1486.45 1194.63,1467.55 \n",
       "  \"/>\n",
       "<polyline clip-path=\"url(#clip190)\" style=\"stroke:#000000; stroke-linecap:round; stroke-linejoin:round; stroke-width:4; stroke-opacity:1; fill:none\" points=\"\n",
       "  1633.04,1486.45 1633.04,1467.55 \n",
       "  \"/>\n",
       "<polyline clip-path=\"url(#clip190)\" style=\"stroke:#000000; stroke-linecap:round; stroke-linejoin:round; stroke-width:4; stroke-opacity:1; fill:none\" points=\"\n",
       "  2071.44,1486.45 2071.44,1467.55 \n",
       "  \"/>\n",
       "<path clip-path=\"url(#clip190)\" d=\"M308.205 1544.91 L315.844 1544.91 L315.844 1518.55 L307.534 1520.21 L307.534 1515.95 L315.797 1514.29 L320.473 1514.29 L320.473 1544.91 L328.112 1544.91 L328.112 1548.85 L308.205 1548.85 L308.205 1544.91 Z\" fill=\"#000000\" fill-rule=\"evenodd\" fill-opacity=\"1\" /><path clip-path=\"url(#clip190)\" d=\"M750.881 1544.91 L767.2 1544.91 L767.2 1548.85 L745.256 1548.85 L745.256 1544.91 Q747.918 1542.16 752.501 1537.53 Q757.108 1532.88 758.288 1531.53 Q760.533 1529.01 761.413 1527.27 Q762.316 1525.51 762.316 1523.82 Q762.316 1521.07 760.371 1519.33 Q758.45 1517.6 755.348 1517.6 Q753.149 1517.6 750.696 1518.36 Q748.265 1519.13 745.487 1520.68 L745.487 1515.95 Q748.311 1514.82 750.765 1514.24 Q753.219 1513.66 755.256 1513.66 Q760.626 1513.66 763.82 1516.35 Q767.015 1519.03 767.015 1523.52 Q767.015 1525.65 766.205 1527.57 Q765.418 1529.47 763.311 1532.07 Q762.732 1532.74 759.631 1535.95 Q756.529 1539.15 750.881 1544.91 Z\" fill=\"#000000\" fill-rule=\"evenodd\" fill-opacity=\"1\" /><path clip-path=\"url(#clip190)\" d=\"M1198.88 1530.21 Q1202.24 1530.93 1204.11 1533.2 Q1206.01 1535.47 1206.01 1538.8 Q1206.01 1543.92 1202.49 1546.72 Q1198.97 1549.52 1192.49 1549.52 Q1190.32 1549.52 1188 1549.08 Q1185.71 1548.66 1183.26 1547.81 L1183.26 1543.29 Q1185.2 1544.43 1187.51 1545.01 Q1189.83 1545.58 1192.35 1545.58 Q1196.75 1545.58 1199.04 1543.85 Q1201.36 1542.11 1201.36 1538.8 Q1201.36 1535.75 1199.2 1534.03 Q1197.08 1532.3 1193.26 1532.3 L1189.23 1532.3 L1189.23 1528.45 L1193.44 1528.45 Q1196.89 1528.45 1198.72 1527.09 Q1200.55 1525.7 1200.55 1523.11 Q1200.55 1520.45 1198.65 1519.03 Q1196.77 1517.6 1193.26 1517.6 Q1191.33 1517.6 1189.14 1518.01 Q1186.94 1518.43 1184.3 1519.31 L1184.3 1515.14 Q1186.96 1514.4 1189.27 1514.03 Q1191.61 1513.66 1193.67 1513.66 Q1199 1513.66 1202.1 1516.09 Q1205.2 1518.5 1205.2 1522.62 Q1205.2 1525.49 1203.56 1527.48 Q1201.91 1529.45 1198.88 1530.21 Z\" fill=\"#000000\" fill-rule=\"evenodd\" fill-opacity=\"1\" /><path clip-path=\"url(#clip190)\" d=\"M1636.05 1518.36 L1624.24 1536.81 L1636.05 1536.81 L1636.05 1518.36 M1634.82 1514.29 L1640.7 1514.29 L1640.7 1536.81 L1645.63 1536.81 L1645.63 1540.7 L1640.7 1540.7 L1640.7 1548.85 L1636.05 1548.85 L1636.05 1540.7 L1620.45 1540.7 L1620.45 1536.19 L1634.82 1514.29 Z\" fill=\"#000000\" fill-rule=\"evenodd\" fill-opacity=\"1\" /><path clip-path=\"url(#clip190)\" d=\"M2061.72 1514.29 L2080.08 1514.29 L2080.08 1518.22 L2066 1518.22 L2066 1526.7 Q2067.02 1526.35 2068.04 1526.19 Q2069.06 1526 2070.08 1526 Q2075.86 1526 2079.24 1529.17 Q2082.62 1532.34 2082.62 1537.76 Q2082.62 1543.34 2079.15 1546.44 Q2075.68 1549.52 2069.36 1549.52 Q2067.18 1549.52 2064.92 1549.15 Q2062.67 1548.78 2060.26 1548.04 L2060.26 1543.34 Q2062.35 1544.47 2064.57 1545.03 Q2066.79 1545.58 2069.27 1545.58 Q2073.27 1545.58 2075.61 1543.48 Q2077.95 1541.37 2077.95 1537.76 Q2077.95 1534.15 2075.61 1532.04 Q2073.27 1529.94 2069.27 1529.94 Q2067.39 1529.94 2065.52 1530.35 Q2063.67 1530.77 2061.72 1531.65 L2061.72 1514.29 Z\" fill=\"#000000\" fill-rule=\"evenodd\" fill-opacity=\"1\" /><polyline clip-path=\"url(#clip192)\" style=\"stroke:#000000; stroke-linecap:round; stroke-linejoin:round; stroke-width:2; stroke-opacity:0.1; fill:none\" points=\"\n",
       "  192.941,1147.47 2352.76,1147.47 \n",
       "  \"/>\n",
       "<polyline clip-path=\"url(#clip192)\" style=\"stroke:#000000; stroke-linecap:round; stroke-linejoin:round; stroke-width:2; stroke-opacity:0.1; fill:none\" points=\"\n",
       "  192.941,799.95 2352.76,799.95 \n",
       "  \"/>\n",
       "<polyline clip-path=\"url(#clip192)\" style=\"stroke:#000000; stroke-linecap:round; stroke-linejoin:round; stroke-width:2; stroke-opacity:0.1; fill:none\" points=\"\n",
       "  192.941,452.429 2352.76,452.429 \n",
       "  \"/>\n",
       "<polyline clip-path=\"url(#clip192)\" style=\"stroke:#000000; stroke-linecap:round; stroke-linejoin:round; stroke-width:2; stroke-opacity:0.1; fill:none\" points=\"\n",
       "  192.941,104.909 2352.76,104.909 \n",
       "  \"/>\n",
       "<polyline clip-path=\"url(#clip190)\" style=\"stroke:#000000; stroke-linecap:round; stroke-linejoin:round; stroke-width:4; stroke-opacity:1; fill:none\" points=\"\n",
       "  192.941,1486.45 192.941,47.2441 \n",
       "  \"/>\n",
       "<polyline clip-path=\"url(#clip190)\" style=\"stroke:#000000; stroke-linecap:round; stroke-linejoin:round; stroke-width:4; stroke-opacity:1; fill:none\" points=\"\n",
       "  192.941,1147.47 211.838,1147.47 \n",
       "  \"/>\n",
       "<polyline clip-path=\"url(#clip190)\" style=\"stroke:#000000; stroke-linecap:round; stroke-linejoin:round; stroke-width:4; stroke-opacity:1; fill:none\" points=\"\n",
       "  192.941,799.95 211.838,799.95 \n",
       "  \"/>\n",
       "<polyline clip-path=\"url(#clip190)\" style=\"stroke:#000000; stroke-linecap:round; stroke-linejoin:round; stroke-width:4; stroke-opacity:1; fill:none\" points=\"\n",
       "  192.941,452.429 211.838,452.429 \n",
       "  \"/>\n",
       "<polyline clip-path=\"url(#clip190)\" style=\"stroke:#000000; stroke-linecap:round; stroke-linejoin:round; stroke-width:4; stroke-opacity:1; fill:none\" points=\"\n",
       "  192.941,104.909 211.838,104.909 \n",
       "  \"/>\n",
       "<path clip-path=\"url(#clip190)\" d=\"M50.9921 1147.92 L80.6679 1147.92 L80.6679 1151.86 L50.9921 1151.86 L50.9921 1147.92 Z\" fill=\"#000000\" fill-rule=\"evenodd\" fill-opacity=\"1\" /><path clip-path=\"url(#clip190)\" d=\"M100.76 1133.27 Q97.1493 1133.27 95.3206 1136.83 Q93.515 1140.37 93.515 1147.5 Q93.515 1154.61 95.3206 1158.18 Q97.1493 1161.72 100.76 1161.72 Q104.395 1161.72 106.2 1158.18 Q108.029 1154.61 108.029 1147.5 Q108.029 1140.37 106.2 1136.83 Q104.395 1133.27 100.76 1133.27 M100.76 1129.56 Q106.571 1129.56 109.626 1134.17 Q112.705 1138.75 112.705 1147.5 Q112.705 1156.23 109.626 1160.84 Q106.571 1165.42 100.76 1165.42 Q94.9502 1165.42 91.8715 1160.84 Q88.816 1156.23 88.816 1147.5 Q88.816 1138.75 91.8715 1134.17 Q94.9502 1129.56 100.76 1129.56 Z\" fill=\"#000000\" fill-rule=\"evenodd\" fill-opacity=\"1\" /><path clip-path=\"url(#clip190)\" d=\"M120.922 1158.87 L125.807 1158.87 L125.807 1164.75 L120.922 1164.75 L120.922 1158.87 Z\" fill=\"#000000\" fill-rule=\"evenodd\" fill-opacity=\"1\" /><path clip-path=\"url(#clip190)\" d=\"M136.038 1130.19 L154.394 1130.19 L154.394 1134.12 L140.32 1134.12 L140.32 1142.6 Q141.339 1142.25 142.357 1142.09 Q143.376 1141.9 144.394 1141.9 Q150.181 1141.9 153.561 1145.07 Q156.941 1148.25 156.941 1153.66 Q156.941 1159.24 153.468 1162.34 Q149.996 1165.42 143.677 1165.42 Q141.501 1165.42 139.232 1165.05 Q136.987 1164.68 134.58 1163.94 L134.58 1159.24 Q136.663 1160.37 138.885 1160.93 Q141.107 1161.49 143.584 1161.49 Q147.589 1161.49 149.927 1159.38 Q152.265 1157.27 152.265 1153.66 Q152.265 1150.05 149.927 1147.94 Q147.589 1145.84 143.584 1145.84 Q141.709 1145.84 139.834 1146.25 Q137.982 1146.67 136.038 1147.55 L136.038 1130.19 Z\" fill=\"#000000\" fill-rule=\"evenodd\" fill-opacity=\"1\" /><path clip-path=\"url(#clip190)\" d=\"M99.765 785.748 Q96.1539 785.748 94.3252 789.313 Q92.5197 792.855 92.5197 799.984 Q92.5197 807.091 94.3252 810.655 Q96.1539 814.197 99.765 814.197 Q103.399 814.197 105.205 810.655 Q107.033 807.091 107.033 799.984 Q107.033 792.855 105.205 789.313 Q103.399 785.748 99.765 785.748 M99.765 782.045 Q105.575 782.045 108.631 786.651 Q111.709 791.234 111.709 799.984 Q111.709 808.711 108.631 813.317 Q105.575 817.901 99.765 817.901 Q93.9549 817.901 90.8762 813.317 Q87.8206 808.711 87.8206 799.984 Q87.8206 791.234 90.8762 786.651 Q93.9549 782.045 99.765 782.045 Z\" fill=\"#000000\" fill-rule=\"evenodd\" fill-opacity=\"1\" /><path clip-path=\"url(#clip190)\" d=\"M119.927 811.35 L124.811 811.35 L124.811 817.23 L119.927 817.23 L119.927 811.35 Z\" fill=\"#000000\" fill-rule=\"evenodd\" fill-opacity=\"1\" /><path clip-path=\"url(#clip190)\" d=\"M144.996 785.748 Q141.385 785.748 139.556 789.313 Q137.751 792.855 137.751 799.984 Q137.751 807.091 139.556 810.655 Q141.385 814.197 144.996 814.197 Q148.63 814.197 150.436 810.655 Q152.265 807.091 152.265 799.984 Q152.265 792.855 150.436 789.313 Q148.63 785.748 144.996 785.748 M144.996 782.045 Q150.806 782.045 153.862 786.651 Q156.941 791.234 156.941 799.984 Q156.941 808.711 153.862 813.317 Q150.806 817.901 144.996 817.901 Q139.186 817.901 136.107 813.317 Q133.052 808.711 133.052 799.984 Q133.052 791.234 136.107 786.651 Q139.186 782.045 144.996 782.045 Z\" fill=\"#000000\" fill-rule=\"evenodd\" fill-opacity=\"1\" /><path clip-path=\"url(#clip190)\" d=\"M100.76 438.228 Q97.1493 438.228 95.3206 441.793 Q93.515 445.335 93.515 452.464 Q93.515 459.571 95.3206 463.135 Q97.1493 466.677 100.76 466.677 Q104.395 466.677 106.2 463.135 Q108.029 459.571 108.029 452.464 Q108.029 445.335 106.2 441.793 Q104.395 438.228 100.76 438.228 M100.76 434.524 Q106.571 434.524 109.626 439.131 Q112.705 443.714 112.705 452.464 Q112.705 461.191 109.626 465.797 Q106.571 470.381 100.76 470.381 Q94.9502 470.381 91.8715 465.797 Q88.816 461.191 88.816 452.464 Q88.816 443.714 91.8715 439.131 Q94.9502 434.524 100.76 434.524 Z\" fill=\"#000000\" fill-rule=\"evenodd\" fill-opacity=\"1\" /><path clip-path=\"url(#clip190)\" d=\"M120.922 463.83 L125.807 463.83 L125.807 469.709 L120.922 469.709 L120.922 463.83 Z\" fill=\"#000000\" fill-rule=\"evenodd\" fill-opacity=\"1\" /><path clip-path=\"url(#clip190)\" d=\"M136.038 435.149 L154.394 435.149 L154.394 439.085 L140.32 439.085 L140.32 447.557 Q141.339 447.209 142.357 447.047 Q143.376 446.862 144.394 446.862 Q150.181 446.862 153.561 450.034 Q156.941 453.205 156.941 458.621 Q156.941 464.2 153.468 467.302 Q149.996 470.381 143.677 470.381 Q141.501 470.381 139.232 470.01 Q136.987 469.64 134.58 468.899 L134.58 464.2 Q136.663 465.334 138.885 465.89 Q141.107 466.445 143.584 466.445 Q147.589 466.445 149.927 464.339 Q152.265 462.233 152.265 458.621 Q152.265 455.01 149.927 452.904 Q147.589 450.797 143.584 450.797 Q141.709 450.797 139.834 451.214 Q137.982 451.631 136.038 452.51 L136.038 435.149 Z\" fill=\"#000000\" fill-rule=\"evenodd\" fill-opacity=\"1\" /><path clip-path=\"url(#clip190)\" d=\"M90.5752 118.254 L98.2141 118.254 L98.2141 91.8885 L89.904 93.5551 L89.904 89.2959 L98.1678 87.6292 L102.844 87.6292 L102.844 118.254 L110.483 118.254 L110.483 122.189 L90.5752 122.189 L90.5752 118.254 Z\" fill=\"#000000\" fill-rule=\"evenodd\" fill-opacity=\"1\" /><path clip-path=\"url(#clip190)\" d=\"M119.927 116.31 L124.811 116.31 L124.811 122.189 L119.927 122.189 L119.927 116.31 Z\" fill=\"#000000\" fill-rule=\"evenodd\" fill-opacity=\"1\" /><path clip-path=\"url(#clip190)\" d=\"M144.996 90.7079 Q141.385 90.7079 139.556 94.2727 Q137.751 97.8144 137.751 104.944 Q137.751 112.05 139.556 115.615 Q141.385 119.157 144.996 119.157 Q148.63 119.157 150.436 115.615 Q152.265 112.05 152.265 104.944 Q152.265 97.8144 150.436 94.2727 Q148.63 90.7079 144.996 90.7079 M144.996 87.0042 Q150.806 87.0042 153.862 91.6107 Q156.941 96.194 156.941 104.944 Q156.941 113.671 153.862 118.277 Q150.806 122.861 144.996 122.861 Q139.186 122.861 136.107 118.277 Q133.052 113.671 133.052 104.944 Q133.052 96.194 136.107 91.6107 Q139.186 87.0042 144.996 87.0042 Z\" fill=\"#000000\" fill-rule=\"evenodd\" fill-opacity=\"1\" /><circle clip-path=\"url(#clip192)\" cx=\"2291.63\" cy=\"1156.91\" r=\"14.4\" fill=\"#009af9\" fill-rule=\"evenodd\" fill-opacity=\"1\" stroke=\"#000000\" stroke-opacity=\"1\" stroke-width=\"3.2\"/>\n",
       "<circle clip-path=\"url(#clip192)\" cx=\"598.536\" cy=\"87.9763\" r=\"14.4\" fill=\"#009af9\" fill-rule=\"evenodd\" fill-opacity=\"1\" stroke=\"#000000\" stroke-opacity=\"1\" stroke-width=\"3.2\"/>\n",
       "<circle clip-path=\"url(#clip192)\" cx=\"342.791\" cy=\"192.994\" r=\"14.4\" fill=\"#009af9\" fill-rule=\"evenodd\" fill-opacity=\"1\" stroke=\"#000000\" stroke-opacity=\"1\" stroke-width=\"3.2\"/>\n",
       "<circle clip-path=\"url(#clip192)\" cx=\"254.067\" cy=\"207.383\" r=\"14.4\" fill=\"#009af9\" fill-rule=\"evenodd\" fill-opacity=\"1\" stroke=\"#000000\" stroke-opacity=\"1\" stroke-width=\"3.2\"/>\n",
       "<circle clip-path=\"url(#clip192)\" cx=\"1812.7\" cy=\"1445.72\" r=\"14.4\" fill=\"#009af9\" fill-rule=\"evenodd\" fill-opacity=\"1\" stroke=\"#000000\" stroke-opacity=\"1\" stroke-width=\"3.2\"/>\n",
       "<circle clip-path=\"url(#clip192)\" cx=\"1230.42\" cy=\"634.327\" r=\"14.4\" fill=\"#009af9\" fill-rule=\"evenodd\" fill-opacity=\"1\" stroke=\"#000000\" stroke-opacity=\"1\" stroke-width=\"3.2\"/>\n",
       "<circle clip-path=\"url(#clip192)\" cx=\"1497.34\" cy=\"1130.09\" r=\"14.4\" fill=\"#009af9\" fill-rule=\"evenodd\" fill-opacity=\"1\" stroke=\"#000000\" stroke-opacity=\"1\" stroke-width=\"3.2\"/>\n",
       "<circle clip-path=\"url(#clip192)\" cx=\"1220.71\" cy=\"643.721\" r=\"14.4\" fill=\"#009af9\" fill-rule=\"evenodd\" fill-opacity=\"1\" stroke=\"#000000\" stroke-opacity=\"1\" stroke-width=\"3.2\"/>\n",
       "<circle clip-path=\"url(#clip192)\" cx=\"1840.64\" cy=\"1328.71\" r=\"14.4\" fill=\"#009af9\" fill-rule=\"evenodd\" fill-opacity=\"1\" stroke=\"#000000\" stroke-opacity=\"1\" stroke-width=\"3.2\"/>\n",
       "<circle clip-path=\"url(#clip192)\" cx=\"1460.68\" cy=\"947.511\" r=\"14.4\" fill=\"#009af9\" fill-rule=\"evenodd\" fill-opacity=\"1\" stroke=\"#000000\" stroke-opacity=\"1\" stroke-width=\"3.2\"/>\n",
       "</svg>\n"
      ]
     },
     "execution_count": 41,
     "metadata": {},
     "output_type": "execute_result"
    }
   ],
   "source": [
    "# function to sample from: \n",
    "hyperparams = (0.3, 1.08, 0.00005)\n",
    "# hyperparams = (1.0, 1.0, 0.1)\n",
    "# hyperparams = (3.0, 1.16, 0.89)\n",
    "\n",
    "\n",
    "σₙ² = (hyperparams[3])^2\n",
    "σf² = (hyperparams[2])^2\n",
    "ℓ = hyperparams[1]\n",
    "\n",
    "#σₙ² = (0.00005)^2\n",
    "#σf² = (1.08)^2\n",
    "#ℓ= 0.3\n",
    "\n",
    "y(x) = sin(x) + 0.25*rand()\n",
    "\n",
    "#X = 0:0.5:2π\n",
    "X = 2π*rand(10)\n",
    "yvec = y.(X)\n",
    "X = X'\n",
    "\n",
    "\n",
    "plot(X', yvec, seriestype=:scatter, label=\"\")"
   ]
  },
  {
   "cell_type": "markdown",
   "id": "dda4bf8b",
   "metadata": {},
   "source": [
    "2. Compute Kernel matrix on sample data. We will use RBF kernel given by \n",
    "\\begin{equation}\n",
    "k(\\vec{x},\\vec{x}') = \\sigma_f^2 \\exp\\left(-\\frac{1}{2\\ell^2}(\\vec{x}-\\vec{x}')^2\\right) + \\sigma_n^2 \\delta_{\\vec{x},\\vec{x}'}\n",
    "\\end{equation}"
   ]
  },
  {
   "cell_type": "code",
   "execution_count": 42,
   "id": "c09d867d",
   "metadata": {},
   "outputs": [
    {
     "data": {
      "text/plain": [
       "1.2072410619235907e-36"
      ]
     },
     "execution_count": 42,
     "metadata": {},
     "output_type": "execute_result"
    }
   ],
   "source": [
    "# first define how copute elemnt i,j \n",
    "function rbf_ij(X₁::AbstractMatrix, X₂::AbstractMatrix, i::Int, j::Int)\n",
    "    return σf²*exp(-(X₁[:,i] .- X₂[:,j])' * (X₁[:,i] .- X₂[:,j])/(2ℓ^2))\n",
    "end\n",
    "\n",
    "rbf_ij(X,X, 1, 2)"
   ]
  },
  {
   "cell_type": "code",
   "execution_count": 43,
   "id": "7cc4fef3",
   "metadata": {},
   "outputs": [
    {
     "data": {
      "text/plain": [
       "10×10 Matrix{Float64}:\n",
       " 1.1664       1.20724e-36  2.45189e-48  …  0.00326319   2.50598e-9\n",
       " 1.20724e-36  1.1664       0.176111        5.00161e-20  5.4461e-10\n",
       " 2.45189e-48  0.176111     1.1664          7.99032e-29  2.39485e-16\n",
       " 8.90248e-53  0.0377813    0.929027        2.93207e-32  6.17007e-19\n",
       " 0.00153987   3.63603e-19  8.77975e-28     1.14038      0.0324489\n",
       " 8.50476e-15  1.13391e-5   1.50052e-10  …  2.46776e-5   0.251933\n",
       " 1.4025e-8    8.42776e-11  2.15536e-17     0.0386639    1.12196\n",
       " 4.67446e-15  1.61236e-5   2.46309e-10     1.74716e-5   0.22078\n",
       " 0.00326319   5.00161e-20  7.99032e-29     1.1664       0.0179663\n",
       " 2.50598e-9   5.4461e-10   2.39485e-16     0.0179663    1.1664"
      ]
     },
     "execution_count": 43,
     "metadata": {},
     "output_type": "execute_result"
    }
   ],
   "source": [
    "function RBF(X₁::AbstractMatrix, X₂::AbstractMatrix)\n",
    "    (d₁,n₁) = size(X₁)\n",
    "    (d₂,n₂) = size(X₂)\n",
    "    # we need to require d₁ == d₂\n",
    "    K = zeros(n₁, n₂)\n",
    " \n",
    "    @inline for j ∈ 1:n₂, i ∈ 1:n₁\n",
    "        K[i,j] = rbf_ij(X₁, X₂, i, j)\n",
    "    end\n",
    "    \n",
    "    return K \n",
    "end\n",
    "\n",
    "K = RBF(X,X) + σₙ²*I"
   ]
  },
  {
   "cell_type": "code",
   "execution_count": 44,
   "id": "feb34af5",
   "metadata": {},
   "outputs": [
    {
     "ename": "LoadError",
     "evalue": "UndefVarError: title not defined",
     "output_type": "error",
     "traceback": [
      "UndefVarError: title not defined",
      "",
      "Stacktrace:",
      " [1] top-level scope",
      "   @ In[44]:3",
      " [2] eval",
      "   @ ./boot.jl:368 [inlined]",
      " [3] include_string(mapexpr::typeof(REPL.softscope), mod::Module, code::String, filename::String)",
      "   @ Base ./loading.jl:1428"
     ]
    }
   ],
   "source": [
    "# visualize the covariance matrix\n",
    "# heatmap(log10.(K), yflip=true)\n",
    "heatmap(log10.(K), yflip=true, title)"
   ]
  },
  {
   "cell_type": "code",
   "execution_count": 45,
   "id": "ec6b63c2",
   "metadata": {},
   "outputs": [
    {
     "data": {
      "text/plain": [
       "10×10 LowerTriangular{Float64, Matrix{Float64}}:\n",
       " 1.08          ⋅             ⋅           …    ⋅           ⋅         ⋅ \n",
       " 1.11782e-36  1.08           ⋅                ⋅           ⋅         ⋅ \n",
       " 2.27027e-48  0.163066      1.06762           ⋅           ⋅         ⋅ \n",
       " 8.24304e-53  0.0349827     0.864843          ⋅           ⋅         ⋅ \n",
       " 0.00142581   3.36669e-19  -5.14222e-20       ⋅           ⋅         ⋅ \n",
       " 7.87478e-15  1.04992e-5   -1.60348e-6   …    ⋅           ⋅         ⋅ \n",
       " 1.29862e-8   7.80348e-11  -1.19189e-11       ⋅           ⋅         ⋅ \n",
       " 4.3282e-15   1.49293e-5   -2.28004e-6       0.0772625    ⋅         ⋅ \n",
       " 0.00302147   4.63112e-20  -7.07348e-21     -0.00586413  0.225511   ⋅ \n",
       " 2.32035e-9   5.04268e-10  -7.70207e-11     -0.140141    0.043703  0.233529"
      ]
     },
     "execution_count": 45,
     "metadata": {},
     "output_type": "execute_result"
    }
   ],
   "source": [
    "L = cholesky(K).L"
   ]
  },
  {
   "cell_type": "code",
   "execution_count": 46,
   "id": "d46e4c75",
   "metadata": {},
   "outputs": [
    {
     "data": {
      "text/plain": [
       "(10,)"
      ]
     },
     "execution_count": 46,
     "metadata": {},
     "output_type": "execute_result"
    }
   ],
   "source": [
    "# compute expansion coefficients\n",
    "α = (L')\\(L\\yvec)\n",
    "\n",
    "size(α)"
   ]
  },
  {
   "cell_type": "code",
   "execution_count": 47,
   "id": "a32e70ee",
   "metadata": {},
   "outputs": [
    {
     "data": {
      "text/plain": [
       "126-element Vector{Float64}:\n",
       "  0.011873175332329991\n",
       "  0.01890005895861529\n",
       "  0.029275026692160967\n",
       "  0.04412581281161417\n",
       "  0.06472557190046956\n",
       "  0.09240107743940938\n",
       "  0.12838993168043683\n",
       "  0.17365146860976152\n",
       "  0.22864836701689936\n",
       "  0.29312919996405884\n",
       "  0.36595296075628786\n",
       "  0.44500127417216745\n",
       "  0.5272193314511612\n",
       "  ⋮\n",
       " -0.41527299446123206\n",
       " -0.3670383209332232\n",
       " -0.31548213256313207\n",
       " -0.26372082713435513\n",
       " -0.21440390231560852\n",
       " -0.16953010032397228\n",
       " -0.13037404125378832\n",
       " -0.09751426248271047\n",
       " -0.0709380654448476\n",
       " -0.05019097082140306\n",
       " -0.03453881343590737\n",
       " -0.02311666012716409"
      ]
     },
     "execution_count": 47,
     "metadata": {},
     "output_type": "execute_result"
    }
   ],
   "source": [
    "# now we need a function to compue mean \n",
    "Xnew = (0:0.05:2π)'\n",
    "Koldnew = RBF(X, Xnew)\n",
    "ynew = Koldnew'*α"
   ]
  },
  {
   "cell_type": "code",
   "execution_count": 48,
   "id": "a5c36fa4",
   "metadata": {},
   "outputs": [
    {
     "data": {
      "text/plain": [
       "126-element Vector{Float64}:\n",
       " 2.1592545853547938\n",
       " 2.1581688885378147\n",
       " 2.1557556804492393\n",
       " 2.1507175572698447\n",
       " 2.140842386561098\n",
       " 2.122672697234614\n",
       " 2.0912852992217474\n",
       " 2.0403503665638447\n",
       " 1.962632122015842\n",
       " 1.8510108007326496\n",
       " 1.6999608355567488\n",
       " 1.5072570596808714\n",
       " 1.2755518334534017\n",
       " ⋮\n",
       " 1.2822521528445716\n",
       " 1.5187573900207985\n",
       " 1.7097856150446578\n",
       " 1.856987495435703\n",
       " 1.9649861253594365\n",
       " 2.040267977163634\n",
       " 2.090020959461591\n",
       " 2.1211362947515373\n",
       " 2.1395214201422843\n",
       " 2.1497728464784647\n",
       " 2.1551630269520623\n",
       " 2.1578345950990916"
      ]
     },
     "execution_count": 48,
     "metadata": {},
     "output_type": "execute_result"
    }
   ],
   "source": [
    "# compute the variance\n",
    "vvec = L\\Koldnew\n",
    "\n",
    "Knewnew = RBF(Xnew, Xnew)\n",
    "varnew =Knewnew .- vvec'*vvec; \n",
    "\n",
    "twostdevs = [2*sqrt(varnew[i,i]) for i ∈ 1:size(Xnew,2)]"
   ]
  },
  {
   "cell_type": "code",
   "execution_count": 49,
   "id": "65c1f91b",
   "metadata": {},
   "outputs": [
    {
     "data": {
      "image/svg+xml": [
       "<?xml version=\"1.0\" encoding=\"utf-8\"?>\n",
       "<svg xmlns=\"http://www.w3.org/2000/svg\" xmlns:xlink=\"http://www.w3.org/1999/xlink\" width=\"600\" height=\"400\" viewBox=\"0 0 2400 1600\">\n",
       "<defs>\n",
       "  <clipPath id=\"clip230\">\n",
       "    <rect x=\"0\" y=\"0\" width=\"2400\" height=\"1600\"/>\n",
       "  </clipPath>\n",
       "</defs>\n",
       "<path clip-path=\"url(#clip230)\" d=\"\n",
       "M0 1600 L2400 1600 L2400 0 L0 0  Z\n",
       "  \" fill=\"#ffffff\" fill-rule=\"evenodd\" fill-opacity=\"1\"/>\n",
       "<defs>\n",
       "  <clipPath id=\"clip231\">\n",
       "    <rect x=\"480\" y=\"0\" width=\"1681\" height=\"1600\"/>\n",
       "  </clipPath>\n",
       "</defs>\n",
       "<path clip-path=\"url(#clip230)\" d=\"\n",
       "M147.478 1486.45 L2352.76 1486.45 L2352.76 47.2441 L147.478 47.2441  Z\n",
       "  \" fill=\"#ffffff\" fill-rule=\"evenodd\" fill-opacity=\"1\"/>\n",
       "<defs>\n",
       "  <clipPath id=\"clip232\">\n",
       "    <rect x=\"147\" y=\"47\" width=\"2206\" height=\"1440\"/>\n",
       "  </clipPath>\n",
       "</defs>\n",
       "<polyline clip-path=\"url(#clip232)\" style=\"stroke:#000000; stroke-linecap:round; stroke-linejoin:round; stroke-width:2; stroke-opacity:0.1; fill:none\" points=\"\n",
       "  209.891,1486.45 209.891,47.2441 \n",
       "  \"/>\n",
       "<polyline clip-path=\"url(#clip232)\" style=\"stroke:#000000; stroke-linecap:round; stroke-linejoin:round; stroke-width:2; stroke-opacity:0.1; fill:none\" points=\"\n",
       "  542.764,1486.45 542.764,47.2441 \n",
       "  \"/>\n",
       "<polyline clip-path=\"url(#clip232)\" style=\"stroke:#000000; stroke-linecap:round; stroke-linejoin:round; stroke-width:2; stroke-opacity:0.1; fill:none\" points=\"\n",
       "  875.636,1486.45 875.636,47.2441 \n",
       "  \"/>\n",
       "<polyline clip-path=\"url(#clip232)\" style=\"stroke:#000000; stroke-linecap:round; stroke-linejoin:round; stroke-width:2; stroke-opacity:0.1; fill:none\" points=\"\n",
       "  1208.51,1486.45 1208.51,47.2441 \n",
       "  \"/>\n",
       "<polyline clip-path=\"url(#clip232)\" style=\"stroke:#000000; stroke-linecap:round; stroke-linejoin:round; stroke-width:2; stroke-opacity:0.1; fill:none\" points=\"\n",
       "  1541.38,1486.45 1541.38,47.2441 \n",
       "  \"/>\n",
       "<polyline clip-path=\"url(#clip232)\" style=\"stroke:#000000; stroke-linecap:round; stroke-linejoin:round; stroke-width:2; stroke-opacity:0.1; fill:none\" points=\"\n",
       "  1874.25,1486.45 1874.25,47.2441 \n",
       "  \"/>\n",
       "<polyline clip-path=\"url(#clip232)\" style=\"stroke:#000000; stroke-linecap:round; stroke-linejoin:round; stroke-width:2; stroke-opacity:0.1; fill:none\" points=\"\n",
       "  2207.12,1486.45 2207.12,47.2441 \n",
       "  \"/>\n",
       "<polyline clip-path=\"url(#clip230)\" style=\"stroke:#000000; stroke-linecap:round; stroke-linejoin:round; stroke-width:4; stroke-opacity:1; fill:none\" points=\"\n",
       "  147.478,1486.45 2352.76,1486.45 \n",
       "  \"/>\n",
       "<polyline clip-path=\"url(#clip230)\" style=\"stroke:#000000; stroke-linecap:round; stroke-linejoin:round; stroke-width:4; stroke-opacity:1; fill:none\" points=\"\n",
       "  209.891,1486.45 209.891,1467.55 \n",
       "  \"/>\n",
       "<polyline clip-path=\"url(#clip230)\" style=\"stroke:#000000; stroke-linecap:round; stroke-linejoin:round; stroke-width:4; stroke-opacity:1; fill:none\" points=\"\n",
       "  542.764,1486.45 542.764,1467.55 \n",
       "  \"/>\n",
       "<polyline clip-path=\"url(#clip230)\" style=\"stroke:#000000; stroke-linecap:round; stroke-linejoin:round; stroke-width:4; stroke-opacity:1; fill:none\" points=\"\n",
       "  875.636,1486.45 875.636,1467.55 \n",
       "  \"/>\n",
       "<polyline clip-path=\"url(#clip230)\" style=\"stroke:#000000; stroke-linecap:round; stroke-linejoin:round; stroke-width:4; stroke-opacity:1; fill:none\" points=\"\n",
       "  1208.51,1486.45 1208.51,1467.55 \n",
       "  \"/>\n",
       "<polyline clip-path=\"url(#clip230)\" style=\"stroke:#000000; stroke-linecap:round; stroke-linejoin:round; stroke-width:4; stroke-opacity:1; fill:none\" points=\"\n",
       "  1541.38,1486.45 1541.38,1467.55 \n",
       "  \"/>\n",
       "<polyline clip-path=\"url(#clip230)\" style=\"stroke:#000000; stroke-linecap:round; stroke-linejoin:round; stroke-width:4; stroke-opacity:1; fill:none\" points=\"\n",
       "  1874.25,1486.45 1874.25,1467.55 \n",
       "  \"/>\n",
       "<polyline clip-path=\"url(#clip230)\" style=\"stroke:#000000; stroke-linecap:round; stroke-linejoin:round; stroke-width:4; stroke-opacity:1; fill:none\" points=\"\n",
       "  2207.12,1486.45 2207.12,1467.55 \n",
       "  \"/>\n",
       "<path clip-path=\"url(#clip230)\" d=\"M209.891 1517.37 Q206.28 1517.37 204.452 1520.93 Q202.646 1524.47 202.646 1531.6 Q202.646 1538.71 204.452 1542.27 Q206.28 1545.82 209.891 1545.82 Q213.526 1545.82 215.331 1542.27 Q217.16 1538.71 217.16 1531.6 Q217.16 1524.47 215.331 1520.93 Q213.526 1517.37 209.891 1517.37 M209.891 1513.66 Q215.702 1513.66 218.757 1518.27 Q221.836 1522.85 221.836 1531.6 Q221.836 1540.33 218.757 1544.94 Q215.702 1549.52 209.891 1549.52 Q204.081 1549.52 201.003 1544.94 Q197.947 1540.33 197.947 1531.6 Q197.947 1522.85 201.003 1518.27 Q204.081 1513.66 209.891 1513.66 Z\" fill=\"#000000\" fill-rule=\"evenodd\" fill-opacity=\"1\" /><path clip-path=\"url(#clip230)\" d=\"M533.146 1544.91 L540.784 1544.91 L540.784 1518.55 L532.474 1520.21 L532.474 1515.95 L540.738 1514.29 L545.414 1514.29 L545.414 1544.91 L553.053 1544.91 L553.053 1548.85 L533.146 1548.85 L533.146 1544.91 Z\" fill=\"#000000\" fill-rule=\"evenodd\" fill-opacity=\"1\" /><path clip-path=\"url(#clip230)\" d=\"M870.289 1544.91 L886.608 1544.91 L886.608 1548.85 L864.664 1548.85 L864.664 1544.91 Q867.326 1542.16 871.909 1537.53 Q876.515 1532.88 877.696 1531.53 Q879.941 1529.01 880.821 1527.27 Q881.724 1525.51 881.724 1523.82 Q881.724 1521.07 879.779 1519.33 Q877.858 1517.6 874.756 1517.6 Q872.557 1517.6 870.103 1518.36 Q867.673 1519.13 864.895 1520.68 L864.895 1515.95 Q867.719 1514.82 870.173 1514.24 Q872.626 1513.66 874.664 1513.66 Q880.034 1513.66 883.228 1516.35 Q886.423 1519.03 886.423 1523.52 Q886.423 1525.65 885.613 1527.57 Q884.826 1529.47 882.719 1532.07 Q882.14 1532.74 879.039 1535.95 Q875.937 1539.15 870.289 1544.91 Z\" fill=\"#000000\" fill-rule=\"evenodd\" fill-opacity=\"1\" /><path clip-path=\"url(#clip230)\" d=\"M1212.76 1530.21 Q1216.11 1530.93 1217.99 1533.2 Q1219.89 1535.47 1219.89 1538.8 Q1219.89 1543.92 1216.37 1546.72 Q1212.85 1549.52 1206.37 1549.52 Q1204.19 1549.52 1201.88 1549.08 Q1199.58 1548.66 1197.13 1547.81 L1197.13 1543.29 Q1199.08 1544.43 1201.39 1545.01 Q1203.7 1545.58 1206.23 1545.58 Q1210.63 1545.58 1212.92 1543.85 Q1215.23 1542.11 1215.23 1538.8 Q1215.23 1535.75 1213.08 1534.03 Q1210.95 1532.3 1207.13 1532.3 L1203.1 1532.3 L1203.1 1528.45 L1207.32 1528.45 Q1210.76 1528.45 1212.59 1527.09 Q1214.42 1525.7 1214.42 1523.11 Q1214.42 1520.45 1212.52 1519.03 Q1210.65 1517.6 1207.13 1517.6 Q1205.21 1517.6 1203.01 1518.01 Q1200.81 1518.43 1198.17 1519.31 L1198.17 1515.14 Q1200.83 1514.4 1203.15 1514.03 Q1205.49 1513.66 1207.55 1513.66 Q1212.87 1513.66 1215.97 1516.09 Q1219.07 1518.5 1219.07 1522.62 Q1219.07 1525.49 1217.43 1527.48 Q1215.79 1529.45 1212.76 1530.21 Z\" fill=\"#000000\" fill-rule=\"evenodd\" fill-opacity=\"1\" /><path clip-path=\"url(#clip230)\" d=\"M1544.39 1518.36 L1532.58 1536.81 L1544.39 1536.81 L1544.39 1518.36 M1543.16 1514.29 L1549.04 1514.29 L1549.04 1536.81 L1553.97 1536.81 L1553.97 1540.7 L1549.04 1540.7 L1549.04 1548.85 L1544.39 1548.85 L1544.39 1540.7 L1528.79 1540.7 L1528.79 1536.19 L1543.16 1514.29 Z\" fill=\"#000000\" fill-rule=\"evenodd\" fill-opacity=\"1\" /><path clip-path=\"url(#clip230)\" d=\"M1864.53 1514.29 L1882.89 1514.29 L1882.89 1518.22 L1868.81 1518.22 L1868.81 1526.7 Q1869.83 1526.35 1870.85 1526.19 Q1871.87 1526 1872.89 1526 Q1878.67 1526 1882.05 1529.17 Q1885.43 1532.34 1885.43 1537.76 Q1885.43 1543.34 1881.96 1546.44 Q1878.49 1549.52 1872.17 1549.52 Q1869.99 1549.52 1867.72 1549.15 Q1865.48 1548.78 1863.07 1548.04 L1863.07 1543.34 Q1865.16 1544.47 1867.38 1545.03 Q1869.6 1545.58 1872.08 1545.58 Q1876.08 1545.58 1878.42 1543.48 Q1880.76 1541.37 1880.76 1537.76 Q1880.76 1534.15 1878.42 1532.04 Q1876.08 1529.94 1872.08 1529.94 Q1870.2 1529.94 1868.33 1530.35 Q1866.47 1530.77 1864.53 1531.65 L1864.53 1514.29 Z\" fill=\"#000000\" fill-rule=\"evenodd\" fill-opacity=\"1\" /><path clip-path=\"url(#clip230)\" d=\"M2207.53 1529.7 Q2204.38 1529.7 2202.53 1531.86 Q2200.7 1534.01 2200.7 1537.76 Q2200.7 1541.49 2202.53 1543.66 Q2204.38 1545.82 2207.53 1545.82 Q2210.68 1545.82 2212.51 1543.66 Q2214.36 1541.49 2214.36 1537.76 Q2214.36 1534.01 2212.51 1531.86 Q2210.68 1529.7 2207.53 1529.7 M2216.81 1515.05 L2216.81 1519.31 Q2215.05 1518.48 2213.25 1518.04 Q2211.46 1517.6 2209.71 1517.6 Q2205.08 1517.6 2202.62 1520.72 Q2200.19 1523.85 2199.84 1530.17 Q2201.21 1528.15 2203.27 1527.09 Q2205.33 1526 2207.81 1526 Q2213.02 1526 2216.02 1529.17 Q2219.06 1532.32 2219.06 1537.76 Q2219.06 1543.08 2215.91 1546.3 Q2212.76 1549.52 2207.53 1549.52 Q2201.53 1549.52 2198.36 1544.94 Q2195.19 1540.33 2195.19 1531.6 Q2195.19 1523.41 2199.08 1518.55 Q2202.97 1513.66 2209.52 1513.66 Q2211.28 1513.66 2213.06 1514.01 Q2214.87 1514.36 2216.81 1515.05 Z\" fill=\"#000000\" fill-rule=\"evenodd\" fill-opacity=\"1\" /><polyline clip-path=\"url(#clip232)\" style=\"stroke:#000000; stroke-linecap:round; stroke-linejoin:round; stroke-width:2; stroke-opacity:0.1; fill:none\" points=\"\n",
       "  147.478,1380.43 2352.76,1380.43 \n",
       "  \"/>\n",
       "<polyline clip-path=\"url(#clip232)\" style=\"stroke:#000000; stroke-linecap:round; stroke-linejoin:round; stroke-width:2; stroke-opacity:0.1; fill:none\" points=\"\n",
       "  147.478,1084.22 2352.76,1084.22 \n",
       "  \"/>\n",
       "<polyline clip-path=\"url(#clip232)\" style=\"stroke:#000000; stroke-linecap:round; stroke-linejoin:round; stroke-width:2; stroke-opacity:0.1; fill:none\" points=\"\n",
       "  147.478,788.007 2352.76,788.007 \n",
       "  \"/>\n",
       "<polyline clip-path=\"url(#clip232)\" style=\"stroke:#000000; stroke-linecap:round; stroke-linejoin:round; stroke-width:2; stroke-opacity:0.1; fill:none\" points=\"\n",
       "  147.478,491.795 2352.76,491.795 \n",
       "  \"/>\n",
       "<polyline clip-path=\"url(#clip232)\" style=\"stroke:#000000; stroke-linecap:round; stroke-linejoin:round; stroke-width:2; stroke-opacity:0.1; fill:none\" points=\"\n",
       "  147.478,195.583 2352.76,195.583 \n",
       "  \"/>\n",
       "<polyline clip-path=\"url(#clip230)\" style=\"stroke:#000000; stroke-linecap:round; stroke-linejoin:round; stroke-width:4; stroke-opacity:1; fill:none\" points=\"\n",
       "  147.478,1486.45 147.478,47.2441 \n",
       "  \"/>\n",
       "<polyline clip-path=\"url(#clip230)\" style=\"stroke:#000000; stroke-linecap:round; stroke-linejoin:round; stroke-width:4; stroke-opacity:1; fill:none\" points=\"\n",
       "  147.478,1380.43 166.376,1380.43 \n",
       "  \"/>\n",
       "<polyline clip-path=\"url(#clip230)\" style=\"stroke:#000000; stroke-linecap:round; stroke-linejoin:round; stroke-width:4; stroke-opacity:1; fill:none\" points=\"\n",
       "  147.478,1084.22 166.376,1084.22 \n",
       "  \"/>\n",
       "<polyline clip-path=\"url(#clip230)\" style=\"stroke:#000000; stroke-linecap:round; stroke-linejoin:round; stroke-width:4; stroke-opacity:1; fill:none\" points=\"\n",
       "  147.478,788.007 166.376,788.007 \n",
       "  \"/>\n",
       "<polyline clip-path=\"url(#clip230)\" style=\"stroke:#000000; stroke-linecap:round; stroke-linejoin:round; stroke-width:4; stroke-opacity:1; fill:none\" points=\"\n",
       "  147.478,491.795 166.376,491.795 \n",
       "  \"/>\n",
       "<polyline clip-path=\"url(#clip230)\" style=\"stroke:#000000; stroke-linecap:round; stroke-linejoin:round; stroke-width:4; stroke-opacity:1; fill:none\" points=\"\n",
       "  147.478,195.583 166.376,195.583 \n",
       "  \"/>\n",
       "<path clip-path=\"url(#clip230)\" d=\"M51.3625 1380.88 L81.0383 1380.88 L81.0383 1384.82 L51.3625 1384.82 L51.3625 1380.88 Z\" fill=\"#000000\" fill-rule=\"evenodd\" fill-opacity=\"1\" /><path clip-path=\"url(#clip230)\" d=\"M95.1586 1393.78 L111.478 1393.78 L111.478 1397.71 L89.5336 1397.71 L89.5336 1393.78 Q92.1956 1391.02 96.7789 1386.39 Q101.385 1381.74 102.566 1380.4 Q104.811 1377.87 105.691 1376.14 Q106.594 1374.38 106.594 1372.69 Q106.594 1369.93 104.649 1368.2 Q102.728 1366.46 99.6261 1366.46 Q97.4271 1366.46 94.9734 1367.23 Q92.5428 1367.99 89.7651 1369.54 L89.7651 1364.82 Q92.5891 1363.68 95.0428 1363.11 Q97.4965 1362.53 99.5335 1362.53 Q104.904 1362.53 108.098 1365.21 Q111.293 1367.9 111.293 1372.39 Q111.293 1374.52 110.483 1376.44 Q109.696 1378.34 107.589 1380.93 Q107.01 1381.6 103.909 1384.82 Q100.807 1388.01 95.1586 1393.78 Z\" fill=\"#000000\" fill-rule=\"evenodd\" fill-opacity=\"1\" /><path clip-path=\"url(#clip230)\" d=\"M50.9921 1084.67 L80.6679 1084.67 L80.6679 1088.61 L50.9921 1088.61 L50.9921 1084.67 Z\" fill=\"#000000\" fill-rule=\"evenodd\" fill-opacity=\"1\" /><path clip-path=\"url(#clip230)\" d=\"M91.5706 1097.56 L99.2095 1097.56 L99.2095 1071.2 L90.8993 1072.87 L90.8993 1068.61 L99.1632 1066.94 L103.839 1066.94 L103.839 1097.56 L111.478 1097.56 L111.478 1101.5 L91.5706 1101.5 L91.5706 1097.56 Z\" fill=\"#000000\" fill-rule=\"evenodd\" fill-opacity=\"1\" /><path clip-path=\"url(#clip230)\" d=\"M99.5335 773.806 Q95.9224 773.806 94.0937 777.371 Q92.2882 780.913 92.2882 788.042 Q92.2882 795.149 94.0937 798.713 Q95.9224 802.255 99.5335 802.255 Q103.168 802.255 104.973 798.713 Q106.802 795.149 106.802 788.042 Q106.802 780.913 104.973 777.371 Q103.168 773.806 99.5335 773.806 M99.5335 770.102 Q105.344 770.102 108.399 774.709 Q111.478 779.292 111.478 788.042 Q111.478 796.769 108.399 801.375 Q105.344 805.959 99.5335 805.959 Q93.7234 805.959 90.6447 801.375 Q87.5892 796.769 87.5892 788.042 Q87.5892 779.292 90.6447 774.709 Q93.7234 770.102 99.5335 770.102 Z\" fill=\"#000000\" fill-rule=\"evenodd\" fill-opacity=\"1\" /><path clip-path=\"url(#clip230)\" d=\"M91.5706 505.14 L99.2095 505.14 L99.2095 478.774 L90.8993 480.441 L90.8993 476.182 L99.1632 474.515 L103.839 474.515 L103.839 505.14 L111.478 505.14 L111.478 509.075 L91.5706 509.075 L91.5706 505.14 Z\" fill=\"#000000\" fill-rule=\"evenodd\" fill-opacity=\"1\" /><path clip-path=\"url(#clip230)\" d=\"M95.1586 208.928 L111.478 208.928 L111.478 212.863 L89.5336 212.863 L89.5336 208.928 Q92.1956 206.173 96.7789 201.543 Q101.385 196.891 102.566 195.548 Q104.811 193.025 105.691 191.289 Q106.594 189.53 106.594 187.84 Q106.594 185.085 104.649 183.349 Q102.728 181.613 99.6261 181.613 Q97.4271 181.613 94.9734 182.377 Q92.5428 183.141 89.7651 184.692 L89.7651 179.969 Q92.5891 178.835 95.0428 178.257 Q97.4965 177.678 99.5335 177.678 Q104.904 177.678 108.098 180.363 Q111.293 183.048 111.293 187.539 Q111.293 189.668 110.483 191.59 Q109.696 193.488 107.589 196.08 Q107.01 196.752 103.909 199.969 Q100.807 203.164 95.1586 208.928 Z\" fill=\"#000000\" fill-rule=\"evenodd\" fill-opacity=\"1\" /><polyline clip-path=\"url(#clip232)\" style=\"stroke:#808080; stroke-linecap:round; stroke-linejoin:round; stroke-width:4; stroke-opacity:1; fill:none\" points=\"\n",
       "  209.891,144.893 226.535,143.133 243.179,140.774 259.822,137.868 276.466,134.691 293.109,131.875 309.753,130.512 326.397,132.193 343.04,138.923 359.684,152.887 \n",
       "  376.328,176.058 392.971,209.724 409.615,254.004 426.258,307.485 442.902,367.076 459.546,428.169 476.189,485.1 492.833,531.89 509.476,494.645 526.12,476.661 \n",
       "  542.764,487.066 559.407,522.701 576.051,487.492 592.694,428.169 609.338,364.076 625.982,302.94 642.625,252.291 659.269,218.663 675.912,206.973 692.556,220.115 \n",
       "  709.2,258.796 725.843,321.594 742.487,405.212 759.13,466.681 775.774,376.691 792.418,294.644 809.061,224.796 825.705,169.614 842.349,129.773 858.992,104.379 \n",
       "  875.636,91.3643 892.279,87.9763 908.923,91.2695 925.567,98.5393 942.21,107.645 958.854,117.208 975.497,126.709 992.141,136.493 1008.78,147.727 1025.43,162.264 \n",
       "  1042.07,182.425 1058.72,210.629 1075.36,248.906 1092,298.322 1108.65,358.448 1125.29,426.991 1141.93,499.751 1158.58,570.971 1175.22,634.121 1191.86,682.997 \n",
       "  1208.51,712.954 1225.15,722.011 1241.8,711.537 1258.44,686.32 1275.08,653.92 1291.73,623.384 1308.37,603.555 1325.01,601.333 1341.66,620.27 1358.3,659.815 \n",
       "  1374.94,715.415 1391.59,779.445 1408.23,842.781 1424.87,884.841 1441.52,934.471 1458.16,952.965 1474.81,952.859 1491.45,938.515 1508.09,916.924 1524.74,896.183 \n",
       "  1541.38,883.795 1558.02,885.121 1574.67,902.288 1591.31,933.717 1607.95,974.363 1624.6,1016.59 1641.24,1051.52 1657.89,1070.57 1674.53,1066.97 1691.17,1028.01 \n",
       "  1707.82,980.072 1724.46,899.7 1741.1,801.901 1757.75,694.616 1774.39,586.361 1791.03,485.028 1807.68,396.966 1824.32,326.484 1840.96,275.799 1857.61,245.388 \n",
       "  1874.25,234.571 1890.9,242.147 1907.54,266.902 1924.18,307.853 1940.83,364.212 1957.47,435.12 1974.11,519.289 1990.76,614.696 2007.4,718.428 2024.04,826.742 \n",
       "  2040.69,935.331 2057.33,837.352 2073.98,729.724 2090.62,626.416 2107.26,531.198 2123.91,446.854 2140.55,374.998 2157.19,316.062 2173.84,269.463 2190.48,233.872 \n",
       "  2207.12,207.536 2223.77,188.586 2240.41,175.268 2257.06,166.085 2273.7,159.852 2290.34,155.678 \n",
       "  \"/>\n",
       "<path clip-path=\"url(#clip232)\" d=\"\n",
       "M209.891 1424.09 L226.535 1421.69 L243.179 1417.9 L259.822 1412.01 L276.466 1402.98 L293.109 1389.4 L309.753 1369.44 L326.397 1340.95 L343.04 1301.63 L359.684 1249.47 \n",
       "  L376.328 1183.16 L392.971 1102.66 L409.615 1009.67 L426.258 907.855 L442.902 802.778 L459.546 701.484 L476.189 611.698 L492.833 540.79 L509.476 563.127 L526.12 574.845 \n",
       "  L542.764 565.229 L559.407 535.012 L576.051 577.336 L592.694 642.452 L609.338 708.38 L625.982 765.569 L642.625 805.8 L659.269 823.143 L675.912 814.543 L692.556 779.986 \n",
       "  L709.2 722.257 L725.843 646.381 L742.487 558.837 L759.13 504.903 L775.774 614.998 L792.418 729.51 L809.061 842.723 L825.705 949.704 L842.349 1046.68 L858.992 1131.24 \n",
       "  L875.636 1202.32 L892.279 1260.01 L908.923 1305.32 L925.567 1339.72 L942.21 1364.87 L958.854 1382.23 L975.497 1392.82 L992.141 1397.07 L1008.78 1394.71 L1025.43 1384.77 \n",
       "  L1042.07 1365.76 L1058.72 1335.97 L1075.36 1294 L1092 1239.24 L1108.65 1172.46 L1125.29 1096.13 L1141.93 1014.46 L1158.58 933.054 L1175.22 858.192 L1191.86 795.805 \n",
       "  L1208.51 750.416 L1225.15 724.227 L1241.8 716.642 L1258.44 724.357 L1275.08 742.062 L1291.73 763.625 L1308.37 783.497 L1325.01 798.009 L1341.66 806.231 L1358.3 810.191 \n",
       "  L1374.94 814.372 L1391.59 824.617 L1408.23 846.689 L1424.87 896.667 L1441.52 940.697 L1458.16 1012.69 L1474.81 1096.15 L1491.45 1183.99 L1508.09 1267.76 L1524.74 1339 \n",
       "  L1541.38 1390.44 L1558.02 1417.02 L1574.67 1416.59 L1591.31 1390.12 L1607.95 1341.58 L1624.6 1277.4 L1641.24 1205.66 L1657.89 1135.01 L1674.53 1073.59 L1691.17 1036.9 \n",
       "  L1707.82 1002.57 L1724.46 998.873 L1741.1 1015.85 L1757.75 1050.19 L1774.39 1097.05 L1791.03 1151.01 L1807.68 1206.78 L1824.32 1259.92 L1840.96 1307.1 L1857.61 1346.09 \n",
       "  L1874.25 1375.47 L1890.9 1394.24 L1907.54 1401.42 L1924.18 1395.84 L1940.83 1376.19 L1957.47 1341.27 L1974.11 1290.32 L1990.76 1223.43 L2007.4 1141.79 L2024.04 1047.79 \n",
       "  L2040.69 944.897 L2057.33 1039.74 L2073.98 1135.83 L2090.62 1220.27 L2107.26 1290.84 L2123.91 1346.6 L2140.55 1387.92 L2157.19 1416.19 L2173.84 1433.57 L2190.48 1442.58 \n",
       "  L2207.12 1445.72 L2223.77 1445.2 L2240.41 1442.77 L2257.06 1439.66 L2273.7 1436.62 L2290.34 1434.03 L2290.34 155.678 L2273.7 159.852 L2257.06 166.085 L2240.41 175.268 \n",
       "  L2223.77 188.586 L2207.12 207.536 L2190.48 233.872 L2173.84 269.463 L2157.19 316.062 L2140.55 374.998 L2123.91 446.854 L2107.26 531.198 L2090.62 626.416 L2073.98 729.724 \n",
       "  L2057.33 837.352 L2040.69 935.331 L2024.04 826.742 L2007.4 718.428 L1990.76 614.696 L1974.11 519.289 L1957.47 435.12 L1940.83 364.212 L1924.18 307.853 L1907.54 266.902 \n",
       "  L1890.9 242.147 L1874.25 234.571 L1857.61 245.388 L1840.96 275.799 L1824.32 326.484 L1807.68 396.966 L1791.03 485.028 L1774.39 586.361 L1757.75 694.616 L1741.1 801.901 \n",
       "  L1724.46 899.7 L1707.82 980.072 L1691.17 1028.01 L1674.53 1066.97 L1657.89 1070.57 L1641.24 1051.52 L1624.6 1016.59 L1607.95 974.363 L1591.31 933.717 L1574.67 902.288 \n",
       "  L1558.02 885.121 L1541.38 883.795 L1524.74 896.183 L1508.09 916.924 L1491.45 938.515 L1474.81 952.859 L1458.16 952.965 L1441.52 934.471 L1424.87 884.841 L1408.23 842.781 \n",
       "  L1391.59 779.445 L1374.94 715.415 L1358.3 659.815 L1341.66 620.27 L1325.01 601.333 L1308.37 603.555 L1291.73 623.384 L1275.08 653.92 L1258.44 686.32 L1241.8 711.537 \n",
       "  L1225.15 722.011 L1208.51 712.954 L1191.86 682.997 L1175.22 634.121 L1158.58 570.971 L1141.93 499.751 L1125.29 426.991 L1108.65 358.448 L1092 298.322 L1075.36 248.906 \n",
       "  L1058.72 210.629 L1042.07 182.425 L1025.43 162.264 L1008.78 147.727 L992.141 136.493 L975.497 126.709 L958.854 117.208 L942.21 107.645 L925.567 98.5393 L908.923 91.2695 \n",
       "  L892.279 87.9763 L875.636 91.3643 L858.992 104.379 L842.349 129.773 L825.705 169.614 L809.061 224.796 L792.418 294.644 L775.774 376.691 L759.13 466.681 L742.487 405.212 \n",
       "  L725.843 321.594 L709.2 258.796 L692.556 220.115 L675.912 206.973 L659.269 218.663 L642.625 252.291 L625.982 302.94 L609.338 364.076 L592.694 428.169 L576.051 487.492 \n",
       "  L559.407 522.701 L542.764 487.066 L526.12 476.661 L509.476 494.645 L492.833 531.89 L476.189 485.1 L459.546 428.169 L442.902 367.076 L426.258 307.485 L409.615 254.004 \n",
       "  L392.971 209.724 L376.328 176.058 L359.684 152.887 L343.04 138.923 L326.397 132.193 L309.753 130.512 L293.109 131.875 L276.466 134.691 L259.822 137.868 L243.179 140.774 \n",
       "  L226.535 143.133 L209.891 144.893  Z\n",
       "  \" fill=\"#808080\" fill-rule=\"evenodd\" fill-opacity=\"0.25\"/>\n",
       "<polyline clip-path=\"url(#clip232)\" style=\"stroke:#808080; stroke-linecap:round; stroke-linejoin:round; stroke-width:4; stroke-opacity:1; fill:none\" points=\"\n",
       "  209.891,1424.09 226.535,1421.69 243.179,1417.9 259.822,1412.01 276.466,1402.98 293.109,1389.4 309.753,1369.44 326.397,1340.95 343.04,1301.63 359.684,1249.47 \n",
       "  376.328,1183.16 392.971,1102.66 409.615,1009.67 426.258,907.855 442.902,802.778 459.546,701.484 476.189,611.698 492.833,540.79 509.476,563.127 526.12,574.845 \n",
       "  542.764,565.229 559.407,535.012 576.051,577.336 592.694,642.452 609.338,708.38 625.982,765.569 642.625,805.8 659.269,823.143 675.912,814.543 692.556,779.986 \n",
       "  709.2,722.257 725.843,646.381 742.487,558.837 759.13,504.903 775.774,614.998 792.418,729.51 809.061,842.723 825.705,949.704 842.349,1046.68 858.992,1131.24 \n",
       "  875.636,1202.32 892.279,1260.01 908.923,1305.32 925.567,1339.72 942.21,1364.87 958.854,1382.23 975.497,1392.82 992.141,1397.07 1008.78,1394.71 1025.43,1384.77 \n",
       "  1042.07,1365.76 1058.72,1335.97 1075.36,1294 1092,1239.24 1108.65,1172.46 1125.29,1096.13 1141.93,1014.46 1158.58,933.054 1175.22,858.192 1191.86,795.805 \n",
       "  1208.51,750.416 1225.15,724.227 1241.8,716.642 1258.44,724.357 1275.08,742.062 1291.73,763.625 1308.37,783.497 1325.01,798.009 1341.66,806.231 1358.3,810.191 \n",
       "  1374.94,814.372 1391.59,824.617 1408.23,846.689 1424.87,896.667 1441.52,940.697 1458.16,1012.69 1474.81,1096.15 1491.45,1183.99 1508.09,1267.76 1524.74,1339 \n",
       "  1541.38,1390.44 1558.02,1417.02 1574.67,1416.59 1591.31,1390.12 1607.95,1341.58 1624.6,1277.4 1641.24,1205.66 1657.89,1135.01 1674.53,1073.59 1691.17,1036.9 \n",
       "  1707.82,1002.57 1724.46,998.873 1741.1,1015.85 1757.75,1050.19 1774.39,1097.05 1791.03,1151.01 1807.68,1206.78 1824.32,1259.92 1840.96,1307.1 1857.61,1346.09 \n",
       "  1874.25,1375.47 1890.9,1394.24 1907.54,1401.42 1924.18,1395.84 1940.83,1376.19 1957.47,1341.27 1974.11,1290.32 1990.76,1223.43 2007.4,1141.79 2024.04,1047.79 \n",
       "  2040.69,944.897 2057.33,1039.74 2073.98,1135.83 2090.62,1220.27 2107.26,1290.84 2123.91,1346.6 2140.55,1387.92 2157.19,1416.19 2173.84,1433.57 2190.48,1442.58 \n",
       "  2207.12,1445.72 2223.77,1445.2 2240.41,1442.77 2257.06,1439.66 2273.7,1436.62 2290.34,1434.03 \n",
       "  \"/>\n",
       "<polyline clip-path=\"url(#clip232)\" style=\"stroke:#0000ff; stroke-linecap:round; stroke-linejoin:round; stroke-width:8; stroke-opacity:1; fill:none\" points=\"\n",
       "  209.891,784.49 226.535,782.409 243.179,779.336 259.822,774.937 276.466,768.835 293.109,760.637 309.753,749.977 326.397,736.57 343.04,720.279 359.684,701.179 \n",
       "  376.328,679.608 392.971,656.193 409.615,631.839 426.258,607.67 442.902,584.927 459.546,564.826 476.189,548.399 492.833,536.34 509.476,528.886 526.12,525.753 \n",
       "  542.764,526.147 559.407,528.856 576.051,532.414 592.694,535.311 609.338,536.228 625.982,534.255 642.625,529.045 659.269,520.903 675.912,510.758 692.556,500.05 \n",
       "  709.2,490.527 725.843,483.988 742.487,482.025 759.13,485.792 775.774,495.845 792.418,512.077 809.061,533.759 825.705,559.659 842.349,588.228 858.992,617.811 \n",
       "  875.636,646.841 892.279,673.995 908.923,698.294 925.567,719.132 942.21,736.258 958.854,749.717 975.497,759.763 992.141,766.783 1008.78,771.22 1025.43,773.518 \n",
       "  1042.07,774.092 1058.72,773.302 1075.36,771.452 1092,768.78 1108.65,765.453 1125.29,761.559 1141.93,757.104 1158.58,752.012 1175.22,746.156 1191.86,739.401 \n",
       "  1208.51,731.685 1225.15,723.119 1241.8,714.09 1258.44,705.338 1275.08,697.991 1291.73,693.504 1308.37,693.526 1325.01,699.671 1341.66,713.25 1358.3,735.003 \n",
       "  1374.94,764.894 1391.59,802.031 1408.23,844.735 1424.87,890.754 1441.52,937.584 1458.16,982.828 1474.81,1024.51 1491.45,1061.25 1508.09,1092.34 1524.74,1117.59 \n",
       "  1541.38,1137.12 1558.02,1151.07 1574.67,1159.44 1591.31,1161.92 1607.95,1157.97 1624.6,1147 1641.24,1128.59 1657.89,1102.79 1674.53,1070.28 1691.17,1032.46 \n",
       "  1707.82,991.319 1724.46,949.287 1741.1,908.876 1757.75,872.401 1774.39,841.708 1791.03,818.017 1807.68,801.871 1824.32,793.2 1840.96,791.448 1857.61,795.737 \n",
       "  1874.25,805.021 1890.9,818.194 1907.54,834.159 1924.18,851.845 1940.83,870.203 1957.47,888.197 1974.11,904.806 1990.76,919.064 2007.4,930.109 2024.04,937.266 \n",
       "  2040.69,940.114 2057.33,938.544 2073.98,932.777 2090.62,923.342 2107.26,911.016 2123.91,896.729 2140.55,881.457 2157.19,866.125 2173.84,851.516 2190.48,838.224 \n",
       "  2207.12,826.626 2223.77,816.892 2240.41,809.02 2257.06,802.875 2273.7,798.238 2290.34,794.855 \n",
       "  \"/>\n",
       "<circle clip-path=\"url(#clip232)\" cx=\"2041.44\" cy=\"940.138\" r=\"14.4\" fill=\"#ff0000\" fill-rule=\"evenodd\" fill-opacity=\"1\" stroke=\"#000000\" stroke-opacity=\"1\" stroke-width=\"3.2\"/>\n",
       "<circle clip-path=\"url(#clip232)\" cx=\"755.904\" cy=\"484.579\" r=\"14.4\" fill=\"#ff0000\" fill-rule=\"evenodd\" fill-opacity=\"1\" stroke=\"#000000\" stroke-opacity=\"1\" stroke-width=\"3.2\"/>\n",
       "<circle clip-path=\"url(#clip232)\" cx=\"561.722\" cy=\"529.335\" r=\"14.4\" fill=\"#ff0000\" fill-rule=\"evenodd\" fill-opacity=\"1\" stroke=\"#000000\" stroke-opacity=\"1\" stroke-width=\"3.2\"/>\n",
       "<circle clip-path=\"url(#clip232)\" cx=\"494.355\" cy=\"535.467\" r=\"14.4\" fill=\"#ff0000\" fill-rule=\"evenodd\" fill-opacity=\"1\" stroke=\"#000000\" stroke-opacity=\"1\" stroke-width=\"3.2\"/>\n",
       "<circle clip-path=\"url(#clip232)\" cx=\"1677.8\" cy=\"1063.22\" r=\"14.4\" fill=\"#ff0000\" fill-rule=\"evenodd\" fill-opacity=\"1\" stroke=\"#000000\" stroke-opacity=\"1\" stroke-width=\"3.2\"/>\n",
       "<circle clip-path=\"url(#clip232)\" cx=\"1235.68\" cy=\"717.422\" r=\"14.4\" fill=\"#ff0000\" fill-rule=\"evenodd\" fill-opacity=\"1\" stroke=\"#000000\" stroke-opacity=\"1\" stroke-width=\"3.2\"/>\n",
       "<circle clip-path=\"url(#clip232)\" cx=\"1438.34\" cy=\"928.707\" r=\"14.4\" fill=\"#ff0000\" fill-rule=\"evenodd\" fill-opacity=\"1\" stroke=\"#000000\" stroke-opacity=\"1\" stroke-width=\"3.2\"/>\n",
       "<circle clip-path=\"url(#clip232)\" cx=\"1228.31\" cy=\"721.426\" r=\"14.4\" fill=\"#ff0000\" fill-rule=\"evenodd\" fill-opacity=\"1\" stroke=\"#000000\" stroke-opacity=\"1\" stroke-width=\"3.2\"/>\n",
       "<circle clip-path=\"url(#clip232)\" cx=\"1699.01\" cy=\"1013.35\" r=\"14.4\" fill=\"#ff0000\" fill-rule=\"evenodd\" fill-opacity=\"1\" stroke=\"#000000\" stroke-opacity=\"1\" stroke-width=\"3.2\"/>\n",
       "<circle clip-path=\"url(#clip232)\" cx=\"1410.51\" cy=\"850.895\" r=\"14.4\" fill=\"#ff0000\" fill-rule=\"evenodd\" fill-opacity=\"1\" stroke=\"#000000\" stroke-opacity=\"1\" stroke-width=\"3.2\"/>\n",
       "<path clip-path=\"url(#clip230)\" d=\"\n",
       "M1565.82 302.578 L2279.25 302.578 L2279.25 95.2176 L1565.82 95.2176  Z\n",
       "  \" fill=\"#ffffff\" fill-rule=\"evenodd\" fill-opacity=\"1\"/>\n",
       "<polyline clip-path=\"url(#clip230)\" style=\"stroke:#000000; stroke-linecap:round; stroke-linejoin:round; stroke-width:4; stroke-opacity:1; fill:none\" points=\"\n",
       "  1565.82,302.578 2279.25,302.578 2279.25,95.2176 1565.82,95.2176 1565.82,302.578 \n",
       "  \"/>\n",
       "<path clip-path=\"url(#clip230)\" d=\"\n",
       "M1590.32 167.794 L1737.34 167.794 L1737.34 126.322 L1590.32 126.322 L1590.32 167.794  Z\n",
       "  \" fill=\"#808080\" fill-rule=\"evenodd\" fill-opacity=\"0.25\"/>\n",
       "<polyline clip-path=\"url(#clip230)\" style=\"stroke:#808080; stroke-linecap:round; stroke-linejoin:round; stroke-width:4; stroke-opacity:1; fill:none\" points=\"\n",
       "  1590.32,126.322 1737.34,126.322 \n",
       "  \"/>\n",
       "<path clip-path=\"url(#clip230)\" d=\"M1767.47 160.402 L1783.78 160.402 L1783.78 164.338 L1761.84 164.338 L1761.84 160.402 Q1764.5 157.648 1769.09 153.018 Q1773.69 148.365 1774.87 147.023 Q1777.12 144.5 1778 142.764 Q1778.9 141.004 1778.9 139.315 Q1778.9 136.56 1776.96 134.824 Q1775.03 133.088 1771.93 133.088 Q1769.73 133.088 1767.28 133.852 Q1764.85 134.615 1762.07 136.166 L1762.07 131.444 Q1764.9 130.31 1767.35 129.731 Q1769.8 129.153 1771.84 129.153 Q1777.21 129.153 1780.4 131.838 Q1783.6 134.523 1783.6 139.014 Q1783.6 141.143 1782.79 143.065 Q1782 144.963 1779.9 147.555 Q1779.32 148.227 1776.22 151.444 Q1773.11 154.639 1767.47 160.402 Z\" fill=\"#000000\" fill-rule=\"evenodd\" fill-opacity=\"1\" /><path clip-path=\"url(#clip230)\" d=\"M1803.04 141.791 Q1799.53 141.791 1797.63 144.338 Q1795.64 147 1795.64 151.398 Q1795.64 156.051 1797.6 158.736 Q1799.59 161.398 1803.04 161.398 Q1806.45 161.398 1808.44 158.713 Q1810.43 156.027 1810.43 151.398 Q1810.43 147.162 1808.44 144.338 Q1806.61 141.791 1803.04 141.791 M1803.04 138.412 L1817.19 138.412 L1817.19 142.671 L1812.42 142.671 Q1814.94 146.282 1814.94 151.398 Q1814.94 157.764 1811.77 161.375 Q1808.6 165.009 1803.04 165.009 Q1797.47 165.009 1794.32 161.375 Q1791.15 157.764 1791.15 151.398 Q1791.15 144.986 1794.32 141.398 Q1796.93 138.412 1803.04 138.412 Z\" fill=\"#000000\" fill-rule=\"evenodd\" fill-opacity=\"1\" /><path clip-path=\"url(#clip230)\" d=\"M1864.18 132.44 L1864.18 137.37 Q1861.82 135.171 1859.13 134.083 Q1856.47 132.995 1853.46 132.995 Q1847.53 132.995 1844.39 136.629 Q1841.24 140.24 1841.24 147.092 Q1841.24 153.921 1844.39 157.555 Q1847.53 161.166 1853.46 161.166 Q1856.47 161.166 1859.13 160.078 Q1861.82 158.99 1864.18 156.791 L1864.18 161.676 Q1861.72 163.342 1858.97 164.176 Q1856.24 165.009 1853.18 165.009 Q1845.34 165.009 1840.82 160.217 Q1836.31 155.402 1836.31 147.092 Q1836.31 138.759 1840.82 133.967 Q1845.34 129.153 1853.18 129.153 Q1856.28 129.153 1859.02 129.986 Q1861.77 130.796 1864.18 132.44 Z\" fill=\"#000000\" fill-rule=\"evenodd\" fill-opacity=\"1\" /><path clip-path=\"url(#clip230)\" d=\"M1881.26 141.398 Q1877.83 141.398 1875.84 144.083 Q1873.85 146.745 1873.85 151.398 Q1873.85 156.051 1875.82 158.736 Q1877.81 161.398 1881.26 161.398 Q1884.66 161.398 1886.65 158.713 Q1888.65 156.027 1888.65 151.398 Q1888.65 146.791 1886.65 144.106 Q1884.66 141.398 1881.26 141.398 M1881.26 137.787 Q1886.82 137.787 1889.99 141.398 Q1893.16 145.009 1893.16 151.398 Q1893.16 157.764 1889.99 161.398 Q1886.82 165.009 1881.26 165.009 Q1875.68 165.009 1872.51 161.398 Q1869.36 157.764 1869.36 151.398 Q1869.36 145.009 1872.51 141.398 Q1875.68 137.787 1881.26 137.787 Z\" fill=\"#000000\" fill-rule=\"evenodd\" fill-opacity=\"1\" /><path clip-path=\"url(#clip230)\" d=\"M1921.77 148.689 L1921.77 164.338 L1917.51 164.338 L1917.51 148.828 Q1917.51 145.148 1916.08 143.319 Q1914.64 141.49 1911.77 141.49 Q1908.32 141.49 1906.33 143.69 Q1904.34 145.889 1904.34 149.685 L1904.34 164.338 L1900.06 164.338 L1900.06 138.412 L1904.34 138.412 L1904.34 142.44 Q1905.87 140.102 1907.93 138.944 Q1910.01 137.787 1912.72 137.787 Q1917.19 137.787 1919.48 140.565 Q1921.77 143.319 1921.77 148.689 Z\" fill=\"#000000\" fill-rule=\"evenodd\" fill-opacity=\"1\" /><path clip-path=\"url(#clip230)\" d=\"M1943.39 128.319 L1943.39 131.861 L1939.32 131.861 Q1937.02 131.861 1936.12 132.787 Q1935.24 133.713 1935.24 136.12 L1935.24 138.412 L1942.26 138.412 L1942.26 141.722 L1935.24 141.722 L1935.24 164.338 L1930.96 164.338 L1930.96 141.722 L1926.89 141.722 L1926.89 138.412 L1930.96 138.412 L1930.96 136.606 Q1930.96 132.278 1932.97 130.31 Q1934.99 128.319 1939.36 128.319 L1943.39 128.319 Z\" fill=\"#000000\" fill-rule=\"evenodd\" fill-opacity=\"1\" /><path clip-path=\"url(#clip230)\" d=\"M1946.95 138.412 L1951.21 138.412 L1951.21 164.338 L1946.95 164.338 L1946.95 138.412 M1946.95 128.319 L1951.21 128.319 L1951.21 133.713 L1946.95 133.713 L1946.95 128.319 Z\" fill=\"#000000\" fill-rule=\"evenodd\" fill-opacity=\"1\" /><path clip-path=\"url(#clip230)\" d=\"M1977.19 142.347 L1977.19 128.319 L1981.45 128.319 L1981.45 164.338 L1977.19 164.338 L1977.19 160.449 Q1975.84 162.763 1973.78 163.898 Q1971.75 165.009 1968.88 165.009 Q1964.18 165.009 1961.21 161.259 Q1958.27 157.509 1958.27 151.398 Q1958.27 145.287 1961.21 141.537 Q1964.18 137.787 1968.88 137.787 Q1971.75 137.787 1973.78 138.921 Q1975.84 140.032 1977.19 142.347 M1962.67 151.398 Q1962.67 156.097 1964.59 158.782 Q1966.54 161.444 1969.92 161.444 Q1973.3 161.444 1975.24 158.782 Q1977.19 156.097 1977.19 151.398 Q1977.19 146.699 1975.24 144.037 Q1973.3 141.352 1969.92 141.352 Q1966.54 141.352 1964.59 144.037 Q1962.67 146.699 1962.67 151.398 Z\" fill=\"#000000\" fill-rule=\"evenodd\" fill-opacity=\"1\" /><path clip-path=\"url(#clip230)\" d=\"M2012.39 150.31 L2012.39 152.393 L1992.81 152.393 Q1993.09 156.791 1995.45 159.106 Q1997.83 161.398 2002.07 161.398 Q2004.52 161.398 2006.82 160.796 Q2009.13 160.194 2011.4 158.99 L2011.4 163.018 Q2009.11 163.99 2006.7 164.5 Q2004.29 165.009 2001.82 165.009 Q1995.61 165.009 1991.98 161.398 Q1988.37 157.787 1988.37 151.629 Q1988.37 145.264 1991.79 141.537 Q1995.24 137.787 2001.08 137.787 Q2006.31 137.787 2009.34 141.166 Q2012.39 144.523 2012.39 150.31 M2008.14 149.06 Q2008.09 145.565 2006.17 143.481 Q2004.27 141.398 2001.12 141.398 Q1997.56 141.398 1995.4 143.412 Q1993.27 145.426 1992.95 149.083 L2008.14 149.06 Z\" fill=\"#000000\" fill-rule=\"evenodd\" fill-opacity=\"1\" /><path clip-path=\"url(#clip230)\" d=\"M2040.94 148.689 L2040.94 164.338 L2036.68 164.338 L2036.68 148.828 Q2036.68 145.148 2035.24 143.319 Q2033.81 141.49 2030.94 141.49 Q2027.49 141.49 2025.5 143.69 Q2023.51 145.889 2023.51 149.685 L2023.51 164.338 L2019.22 164.338 L2019.22 138.412 L2023.51 138.412 L2023.51 142.44 Q2025.03 140.102 2027.09 138.944 Q2029.18 137.787 2031.89 137.787 Q2036.35 137.787 2038.64 140.565 Q2040.94 143.319 2040.94 148.689 Z\" fill=\"#000000\" fill-rule=\"evenodd\" fill-opacity=\"1\" /><path clip-path=\"url(#clip230)\" d=\"M2068.09 139.407 L2068.09 143.389 Q2066.28 142.393 2064.45 141.907 Q2062.65 141.398 2060.8 141.398 Q2056.65 141.398 2054.36 144.037 Q2052.07 146.652 2052.07 151.398 Q2052.07 156.143 2054.36 158.782 Q2056.65 161.398 2060.8 161.398 Q2062.65 161.398 2064.45 160.912 Q2066.28 160.402 2068.09 159.407 L2068.09 163.342 Q2066.31 164.176 2064.38 164.592 Q2062.49 165.009 2060.33 165.009 Q2054.48 165.009 2051.03 161.328 Q2047.58 157.648 2047.58 151.398 Q2047.58 145.055 2051.05 141.421 Q2054.55 137.787 2060.61 137.787 Q2062.58 137.787 2064.45 138.203 Q2066.33 138.597 2068.09 139.407 Z\" fill=\"#000000\" fill-rule=\"evenodd\" fill-opacity=\"1\" /><path clip-path=\"url(#clip230)\" d=\"M2097.67 150.31 L2097.67 152.393 L2078.09 152.393 Q2078.37 156.791 2080.73 159.106 Q2083.11 161.398 2087.35 161.398 Q2089.8 161.398 2092.09 160.796 Q2094.41 160.194 2096.68 158.99 L2096.68 163.018 Q2094.38 163.99 2091.98 164.5 Q2089.57 165.009 2087.09 165.009 Q2080.89 165.009 2077.26 161.398 Q2073.64 157.787 2073.64 151.629 Q2073.64 145.264 2077.07 141.537 Q2080.52 137.787 2086.35 137.787 Q2091.58 137.787 2094.62 141.166 Q2097.67 144.523 2097.67 150.31 M2093.41 149.06 Q2093.37 145.565 2091.44 143.481 Q2089.55 141.398 2086.4 141.398 Q2082.83 141.398 2080.68 143.412 Q2078.55 145.426 2078.23 149.083 L2093.41 149.06 Z\" fill=\"#000000\" fill-rule=\"evenodd\" fill-opacity=\"1\" /><path clip-path=\"url(#clip230)\" d=\"M2138.34 151.398 Q2138.34 146.699 2136.4 144.037 Q2134.48 141.352 2131.1 141.352 Q2127.72 141.352 2125.77 144.037 Q2123.85 146.699 2123.85 151.398 Q2123.85 156.097 2125.77 158.782 Q2127.72 161.444 2131.1 161.444 Q2134.48 161.444 2136.4 158.782 Q2138.34 156.097 2138.34 151.398 M2123.85 142.347 Q2125.19 140.032 2127.23 138.921 Q2129.29 137.787 2132.14 137.787 Q2136.86 137.787 2139.8 141.537 Q2142.76 145.287 2142.76 151.398 Q2142.76 157.509 2139.8 161.259 Q2136.86 165.009 2132.14 165.009 Q2129.29 165.009 2127.23 163.898 Q2125.19 162.763 2123.85 160.449 L2123.85 164.338 L2119.57 164.338 L2119.57 128.319 L2123.85 128.319 L2123.85 142.347 Z\" fill=\"#000000\" fill-rule=\"evenodd\" fill-opacity=\"1\" /><path clip-path=\"url(#clip230)\" d=\"M2161.61 151.305 Q2156.44 151.305 2154.45 152.486 Q2152.46 153.666 2152.46 156.514 Q2152.46 158.782 2153.94 160.125 Q2155.45 161.444 2158.02 161.444 Q2161.56 161.444 2163.69 158.944 Q2165.84 156.421 2165.84 152.254 L2165.84 151.305 L2161.61 151.305 M2170.1 149.546 L2170.1 164.338 L2165.84 164.338 L2165.84 160.402 Q2164.38 162.763 2162.21 163.898 Q2160.03 165.009 2156.88 165.009 Q2152.9 165.009 2150.54 162.787 Q2148.2 160.541 2148.2 156.791 Q2148.2 152.416 2151.12 150.194 Q2154.06 147.972 2159.87 147.972 L2165.84 147.972 L2165.84 147.555 Q2165.84 144.615 2163.9 143.018 Q2161.98 141.398 2158.48 141.398 Q2156.26 141.398 2154.15 141.93 Q2152.05 142.463 2150.1 143.527 L2150.1 139.592 Q2152.44 138.69 2154.64 138.25 Q2156.84 137.787 2158.92 137.787 Q2164.55 137.787 2167.32 140.703 Q2170.1 143.62 2170.1 149.546 Z\" fill=\"#000000\" fill-rule=\"evenodd\" fill-opacity=\"1\" /><path clip-path=\"url(#clip230)\" d=\"M2200.43 148.689 L2200.43 164.338 L2196.17 164.338 L2196.17 148.828 Q2196.17 145.148 2194.73 143.319 Q2193.3 141.49 2190.43 141.49 Q2186.98 141.49 2184.99 143.69 Q2183 145.889 2183 149.685 L2183 164.338 L2178.71 164.338 L2178.71 138.412 L2183 138.412 L2183 142.44 Q2184.52 140.102 2186.58 138.944 Q2188.67 137.787 2191.37 137.787 Q2195.84 137.787 2198.13 140.565 Q2200.43 143.319 2200.43 148.689 Z\" fill=\"#000000\" fill-rule=\"evenodd\" fill-opacity=\"1\" /><path clip-path=\"url(#clip230)\" d=\"M2225.98 142.347 L2225.98 128.319 L2230.24 128.319 L2230.24 164.338 L2225.98 164.338 L2225.98 160.449 Q2224.64 162.763 2222.58 163.898 Q2220.54 165.009 2217.67 165.009 Q2212.97 165.009 2210.01 161.259 Q2207.07 157.509 2207.07 151.398 Q2207.07 145.287 2210.01 141.537 Q2212.97 137.787 2217.67 137.787 Q2220.54 137.787 2222.58 138.921 Q2224.64 140.032 2225.98 142.347 M2211.47 151.398 Q2211.47 156.097 2213.39 158.782 Q2215.33 161.444 2218.71 161.444 Q2222.09 161.444 2224.04 158.782 Q2225.98 156.097 2225.98 151.398 Q2225.98 146.699 2224.04 144.037 Q2222.09 141.352 2218.71 141.352 Q2215.33 141.352 2213.39 144.037 Q2211.47 146.699 2211.47 151.398 Z\" fill=\"#000000\" fill-rule=\"evenodd\" fill-opacity=\"1\" /><polyline clip-path=\"url(#clip230)\" style=\"stroke:#0000ff; stroke-linecap:round; stroke-linejoin:round; stroke-width:4; stroke-opacity:1; fill:none\" points=\"\n",
       "  1590.32,198.898 1737.34,198.898 \n",
       "  \"/>\n",
       "<path clip-path=\"url(#clip230)\" d=\"M1782.19 195.229 Q1783.78 192.358 1786.01 190.993 Q1788.23 189.627 1791.24 189.627 Q1795.29 189.627 1797.49 192.474 Q1799.69 195.298 1799.69 200.529 L1799.69 216.178 L1795.4 216.178 L1795.4 200.668 Q1795.4 196.942 1794.09 195.136 Q1792.77 193.33 1790.06 193.33 Q1786.75 193.33 1784.83 195.53 Q1782.9 197.729 1782.9 201.525 L1782.9 216.178 L1778.62 216.178 L1778.62 200.668 Q1778.62 196.918 1777.3 195.136 Q1775.98 193.33 1773.23 193.33 Q1769.97 193.33 1768.04 195.553 Q1766.12 197.752 1766.12 201.525 L1766.12 216.178 L1761.84 216.178 L1761.84 190.252 L1766.12 190.252 L1766.12 194.28 Q1767.58 191.895 1769.62 190.761 Q1771.65 189.627 1774.46 189.627 Q1777.28 189.627 1779.25 191.062 Q1781.24 192.497 1782.19 195.229 Z\" fill=\"#000000\" fill-rule=\"evenodd\" fill-opacity=\"1\" /><path clip-path=\"url(#clip230)\" d=\"M1830.36 202.15 L1830.36 204.233 L1810.78 204.233 Q1811.05 208.631 1813.41 210.946 Q1815.8 213.238 1820.03 213.238 Q1822.49 213.238 1824.78 212.636 Q1827.09 212.034 1829.36 210.83 L1829.36 214.858 Q1827.07 215.83 1824.66 216.34 Q1822.26 216.849 1819.78 216.849 Q1813.58 216.849 1809.94 213.238 Q1806.33 209.627 1806.33 203.469 Q1806.33 197.104 1809.76 193.377 Q1813.21 189.627 1819.04 189.627 Q1824.27 189.627 1827.3 193.006 Q1830.36 196.363 1830.36 202.15 M1826.1 200.9 Q1826.05 197.405 1824.13 195.321 Q1822.23 193.238 1819.09 193.238 Q1815.52 193.238 1813.37 195.252 Q1811.24 197.266 1810.91 200.923 L1826.1 200.9 Z\" fill=\"#000000\" fill-rule=\"evenodd\" fill-opacity=\"1\" /><path clip-path=\"url(#clip230)\" d=\"M1849.13 203.145 Q1843.97 203.145 1841.98 204.326 Q1839.99 205.506 1839.99 208.354 Q1839.99 210.622 1841.47 211.965 Q1842.97 213.284 1845.54 213.284 Q1849.09 213.284 1851.21 210.784 Q1853.37 208.261 1853.37 204.094 L1853.37 203.145 L1849.13 203.145 M1857.63 201.386 L1857.63 216.178 L1853.37 216.178 L1853.37 212.242 Q1851.91 214.603 1849.73 215.738 Q1847.56 216.849 1844.41 216.849 Q1840.43 216.849 1838.07 214.627 Q1835.73 212.381 1835.73 208.631 Q1835.73 204.256 1838.65 202.034 Q1841.59 199.812 1847.4 199.812 L1853.37 199.812 L1853.37 199.395 Q1853.37 196.455 1851.42 194.858 Q1849.5 193.238 1846.01 193.238 Q1843.78 193.238 1841.68 193.77 Q1839.57 194.303 1837.63 195.367 L1837.63 191.432 Q1839.96 190.53 1842.16 190.09 Q1844.36 189.627 1846.45 189.627 Q1852.07 189.627 1854.85 192.543 Q1857.63 195.46 1857.63 201.386 Z\" fill=\"#000000\" fill-rule=\"evenodd\" fill-opacity=\"1\" /><path clip-path=\"url(#clip230)\" d=\"M1887.95 200.529 L1887.95 216.178 L1883.69 216.178 L1883.69 200.668 Q1883.69 196.988 1882.26 195.159 Q1880.82 193.33 1877.95 193.33 Q1874.5 193.33 1872.51 195.53 Q1870.52 197.729 1870.52 201.525 L1870.52 216.178 L1866.24 216.178 L1866.24 190.252 L1870.52 190.252 L1870.52 194.28 Q1872.05 191.942 1874.11 190.784 Q1876.19 189.627 1878.9 189.627 Q1883.37 189.627 1885.66 192.405 Q1887.95 195.159 1887.95 200.529 Z\" fill=\"#000000\" fill-rule=\"evenodd\" fill-opacity=\"1\" /><path clip-path=\"url(#clip230)\" d=\"M1915.64 212.289 L1915.64 226.039 L1911.35 226.039 L1911.35 190.252 L1915.64 190.252 L1915.64 194.187 Q1916.98 191.872 1919.02 190.761 Q1921.08 189.627 1923.92 189.627 Q1928.64 189.627 1931.58 193.377 Q1934.55 197.127 1934.55 203.238 Q1934.55 209.349 1931.58 213.099 Q1928.64 216.849 1923.92 216.849 Q1921.08 216.849 1919.02 215.738 Q1916.98 214.603 1915.64 212.289 M1930.13 203.238 Q1930.13 198.539 1928.18 195.877 Q1926.26 193.192 1922.88 193.192 Q1919.5 193.192 1917.56 195.877 Q1915.64 198.539 1915.64 203.238 Q1915.64 207.937 1917.56 210.622 Q1919.5 213.284 1922.88 213.284 Q1926.26 213.284 1928.18 210.622 Q1930.13 207.937 1930.13 203.238 Z\" fill=\"#000000\" fill-rule=\"evenodd\" fill-opacity=\"1\" /><path clip-path=\"url(#clip230)\" d=\"M1956.63 194.233 Q1955.91 193.817 1955.06 193.631 Q1954.22 193.423 1953.2 193.423 Q1949.59 193.423 1947.65 195.784 Q1945.73 198.122 1945.73 202.52 L1945.73 216.178 L1941.45 216.178 L1941.45 190.252 L1945.73 190.252 L1945.73 194.28 Q1947.07 191.918 1949.22 190.784 Q1951.38 189.627 1954.45 189.627 Q1954.89 189.627 1955.43 189.696 Q1955.96 189.743 1956.61 189.858 L1956.63 194.233 Z\" fill=\"#000000\" fill-rule=\"evenodd\" fill-opacity=\"1\" /><path clip-path=\"url(#clip230)\" d=\"M1982.23 202.15 L1982.23 204.233 L1962.65 204.233 Q1962.93 208.631 1965.29 210.946 Q1967.67 213.238 1971.91 213.238 Q1974.36 213.238 1976.65 212.636 Q1978.97 212.034 1981.24 210.83 L1981.24 214.858 Q1978.95 215.83 1976.54 216.34 Q1974.13 216.849 1971.65 216.849 Q1965.45 216.849 1961.82 213.238 Q1958.2 209.627 1958.2 203.469 Q1958.2 197.104 1961.63 193.377 Q1965.08 189.627 1970.91 189.627 Q1976.14 189.627 1979.18 193.006 Q1982.23 196.363 1982.23 202.15 M1977.97 200.9 Q1977.93 197.405 1976.01 195.321 Q1974.11 193.238 1970.96 193.238 Q1967.39 193.238 1965.24 195.252 Q1963.11 197.266 1962.79 200.923 L1977.97 200.9 Z\" fill=\"#000000\" fill-rule=\"evenodd\" fill-opacity=\"1\" /><path clip-path=\"url(#clip230)\" d=\"M2006.28 194.187 L2006.28 180.159 L2010.54 180.159 L2010.54 216.178 L2006.28 216.178 L2006.28 212.289 Q2004.94 214.603 2002.88 215.738 Q2000.84 216.849 1997.97 216.849 Q1993.27 216.849 1990.31 213.099 Q1987.37 209.349 1987.37 203.238 Q1987.37 197.127 1990.31 193.377 Q1993.27 189.627 1997.97 189.627 Q2000.84 189.627 2002.88 190.761 Q2004.94 191.872 2006.28 194.187 M1991.77 203.238 Q1991.77 207.937 1993.69 210.622 Q1995.64 213.284 1999.01 213.284 Q2002.39 213.284 2004.34 210.622 Q2006.28 207.937 2006.28 203.238 Q2006.28 198.539 2004.34 195.877 Q2002.39 193.192 1999.01 193.192 Q1995.64 193.192 1993.69 195.877 Q1991.77 198.539 1991.77 203.238 Z\" fill=\"#000000\" fill-rule=\"evenodd\" fill-opacity=\"1\" /><path clip-path=\"url(#clip230)\" d=\"M2019.32 190.252 L2023.57 190.252 L2023.57 216.178 L2019.32 216.178 L2019.32 190.252 M2019.32 180.159 L2023.57 180.159 L2023.57 185.553 L2019.32 185.553 L2019.32 180.159 Z\" fill=\"#000000\" fill-rule=\"evenodd\" fill-opacity=\"1\" /><path clip-path=\"url(#clip230)\" d=\"M2051.14 191.247 L2051.14 195.229 Q2049.34 194.233 2047.51 193.747 Q2045.7 193.238 2043.85 193.238 Q2039.71 193.238 2037.42 195.877 Q2035.13 198.492 2035.13 203.238 Q2035.13 207.983 2037.42 210.622 Q2039.71 213.238 2043.85 213.238 Q2045.7 213.238 2047.51 212.752 Q2049.34 212.242 2051.14 211.247 L2051.14 215.182 Q2049.36 216.016 2047.44 216.432 Q2045.54 216.849 2043.39 216.849 Q2037.53 216.849 2034.08 213.168 Q2030.64 209.488 2030.64 203.238 Q2030.64 196.895 2034.11 193.261 Q2037.6 189.627 2043.67 189.627 Q2045.63 189.627 2047.51 190.043 Q2049.38 190.437 2051.14 191.247 Z\" fill=\"#000000\" fill-rule=\"evenodd\" fill-opacity=\"1\" /><path clip-path=\"url(#clip230)\" d=\"M2062.76 182.891 L2062.76 190.252 L2071.54 190.252 L2071.54 193.562 L2062.76 193.562 L2062.76 207.636 Q2062.76 210.807 2063.62 211.71 Q2064.5 212.613 2067.16 212.613 L2071.54 212.613 L2071.54 216.178 L2067.16 216.178 Q2062.23 216.178 2060.36 214.349 Q2058.48 212.497 2058.48 207.636 L2058.48 193.562 L2055.36 193.562 L2055.36 190.252 L2058.48 190.252 L2058.48 182.891 L2062.76 182.891 Z\" fill=\"#000000\" fill-rule=\"evenodd\" fill-opacity=\"1\" /><path clip-path=\"url(#clip230)\" d=\"M2077.14 190.252 L2081.4 190.252 L2081.4 216.178 L2077.14 216.178 L2077.14 190.252 M2077.14 180.159 L2081.4 180.159 L2081.4 185.553 L2077.14 185.553 L2077.14 180.159 Z\" fill=\"#000000\" fill-rule=\"evenodd\" fill-opacity=\"1\" /><path clip-path=\"url(#clip230)\" d=\"M2100.36 193.238 Q2096.93 193.238 2094.94 195.923 Q2092.95 198.585 2092.95 203.238 Q2092.95 207.891 2094.92 210.576 Q2096.91 213.238 2100.36 213.238 Q2103.76 213.238 2105.75 210.553 Q2107.74 207.867 2107.74 203.238 Q2107.74 198.631 2105.75 195.946 Q2103.76 193.238 2100.36 193.238 M2100.36 189.627 Q2105.91 189.627 2109.08 193.238 Q2112.25 196.849 2112.25 203.238 Q2112.25 209.604 2109.08 213.238 Q2105.91 216.849 2100.36 216.849 Q2094.78 216.849 2091.61 213.238 Q2088.46 209.604 2088.46 203.238 Q2088.46 196.849 2091.61 193.238 Q2094.78 189.627 2100.36 189.627 Z\" fill=\"#000000\" fill-rule=\"evenodd\" fill-opacity=\"1\" /><path clip-path=\"url(#clip230)\" d=\"M2140.87 200.529 L2140.87 216.178 L2136.61 216.178 L2136.61 200.668 Q2136.61 196.988 2135.17 195.159 Q2133.74 193.33 2130.87 193.33 Q2127.42 193.33 2125.43 195.53 Q2123.44 197.729 2123.44 201.525 L2123.44 216.178 L2119.15 216.178 L2119.15 190.252 L2123.44 190.252 L2123.44 194.28 Q2124.96 191.942 2127.02 190.784 Q2129.11 189.627 2131.82 189.627 Q2136.28 189.627 2138.57 192.405 Q2140.87 195.159 2140.87 200.529 Z\" fill=\"#000000\" fill-rule=\"evenodd\" fill-opacity=\"1\" /><circle clip-path=\"url(#clip230)\" cx=\"1663.83\" cy=\"250.738\" r=\"23.04\" fill=\"#ff0000\" fill-rule=\"evenodd\" fill-opacity=\"1\" stroke=\"#000000\" stroke-opacity=\"1\" stroke-width=\"5.12\"/>\n",
       "<path clip-path=\"url(#clip230)\" d=\"M1766.52 237.3 L1766.52 264.175 L1772.16 264.175 Q1779.32 264.175 1782.63 260.934 Q1785.96 257.694 1785.96 250.703 Q1785.96 243.758 1782.63 240.541 Q1779.32 237.3 1772.16 237.3 L1766.52 237.3 M1761.84 233.458 L1771.45 233.458 Q1781.49 233.458 1786.19 237.647 Q1790.89 241.814 1790.89 250.703 Q1790.89 259.638 1786.17 263.828 Q1781.45 268.018 1771.45 268.018 L1761.84 268.018 L1761.84 233.458 Z\" fill=\"#000000\" fill-rule=\"evenodd\" fill-opacity=\"1\" /><path clip-path=\"url(#clip230)\" d=\"M1809.94 254.985 Q1804.78 254.985 1802.79 256.166 Q1800.8 257.346 1800.8 260.194 Q1800.8 262.462 1802.28 263.805 Q1803.78 265.124 1806.35 265.124 Q1809.9 265.124 1812.03 262.624 Q1814.18 260.101 1814.18 255.934 L1814.18 254.985 L1809.94 254.985 M1818.44 253.226 L1818.44 268.018 L1814.18 268.018 L1814.18 264.082 Q1812.72 266.443 1810.54 267.578 Q1808.37 268.689 1805.22 268.689 Q1801.24 268.689 1798.88 266.467 Q1796.54 264.221 1796.54 260.471 Q1796.54 256.096 1799.46 253.874 Q1802.4 251.652 1808.21 251.652 L1814.18 251.652 L1814.18 251.235 Q1814.18 248.295 1812.23 246.698 Q1810.31 245.078 1806.82 245.078 Q1804.59 245.078 1802.49 245.61 Q1800.38 246.143 1798.44 247.207 L1798.44 243.272 Q1800.78 242.37 1802.97 241.93 Q1805.17 241.467 1807.26 241.467 Q1812.88 241.467 1815.66 244.383 Q1818.44 247.3 1818.44 253.226 Z\" fill=\"#000000\" fill-rule=\"evenodd\" fill-opacity=\"1\" /><path clip-path=\"url(#clip230)\" d=\"M1831.42 234.731 L1831.42 242.092 L1840.2 242.092 L1840.2 245.402 L1831.42 245.402 L1831.42 259.476 Q1831.42 262.647 1832.28 263.55 Q1833.16 264.453 1835.82 264.453 L1840.2 264.453 L1840.2 268.018 L1835.82 268.018 Q1830.89 268.018 1829.02 266.189 Q1827.14 264.337 1827.14 259.476 L1827.14 245.402 L1824.02 245.402 L1824.02 242.092 L1827.14 242.092 L1827.14 234.731 L1831.42 234.731 Z\" fill=\"#000000\" fill-rule=\"evenodd\" fill-opacity=\"1\" /><path clip-path=\"url(#clip230)\" d=\"M1857.58 254.985 Q1852.42 254.985 1850.43 256.166 Q1848.44 257.346 1848.44 260.194 Q1848.44 262.462 1849.92 263.805 Q1851.42 265.124 1853.99 265.124 Q1857.53 265.124 1859.66 262.624 Q1861.82 260.101 1861.82 255.934 L1861.82 254.985 L1857.58 254.985 M1866.08 253.226 L1866.08 268.018 L1861.82 268.018 L1861.82 264.082 Q1860.36 266.443 1858.18 267.578 Q1856.01 268.689 1852.86 268.689 Q1848.88 268.689 1846.52 266.467 Q1844.18 264.221 1844.18 260.471 Q1844.18 256.096 1847.09 253.874 Q1850.03 251.652 1855.84 251.652 L1861.82 251.652 L1861.82 251.235 Q1861.82 248.295 1859.87 246.698 Q1857.95 245.078 1854.46 245.078 Q1852.23 245.078 1850.13 245.61 Q1848.02 246.143 1846.08 247.207 L1846.08 243.272 Q1848.41 242.37 1850.61 241.93 Q1852.81 241.467 1854.9 241.467 Q1860.52 241.467 1863.3 244.383 Q1866.08 247.3 1866.08 253.226 Z\" fill=\"#000000\" fill-rule=\"evenodd\" fill-opacity=\"1\" /></svg>\n"
      ]
     },
     "execution_count": 49,
     "metadata": {},
     "output_type": "execute_result"
    }
   ],
   "source": [
    "plot(Xnew', ynew .+ twostdevs, c=:gray, label=\"\")\n",
    "plot!(Xnew', ynew .- twostdevs, fillrange = ynew .+ twostdevs, fillalpha = 0.25, c = :gray, label = \"2σ Confidence band\")\n",
    "plot!(Xnew', ynew, c=:blue, lw=2, label=\"mean prediction\")\n",
    "plot!(X', yvec, seriestype=:scatter, color=:red, label=\"Data\")"
   ]
  },
  {
   "cell_type": "code",
   "execution_count": 50,
   "id": "05484e2a",
   "metadata": {},
   "outputs": [],
   "source": [
    "savefig(\"gpr_demo.pdf\")"
   ]
  },
  {
   "cell_type": "code",
   "execution_count": 51,
   "id": "23f7ccfc",
   "metadata": {},
   "outputs": [],
   "source": [
    "savefig(\"gpr_demo.png\")"
   ]
  },
  {
   "cell_type": "code",
   "execution_count": null,
   "id": "a604e9f4",
   "metadata": {},
   "outputs": [],
   "source": []
  }
 ],
 "metadata": {
  "kernelspec": {
   "display_name": "Julia 1.8.2",
   "language": "julia",
   "name": "julia-1.8"
  },
  "language_info": {
   "file_extension": ".jl",
   "mimetype": "application/julia",
   "name": "julia",
   "version": "1.8.2"
  }
 },
 "nbformat": 4,
 "nbformat_minor": 5
}
