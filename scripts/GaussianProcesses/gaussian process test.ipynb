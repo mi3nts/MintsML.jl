{
 "cells": [
  {
   "cell_type": "code",
   "execution_count": 1,
   "id": "c4ee276d",
   "metadata": {},
   "outputs": [],
   "source": [
    "using LinearAlgebra\n",
    "using Distributions \n",
    "using Random\n",
    "using Plots"
   ]
  },
  {
   "cell_type": "markdown",
   "id": "674f9076",
   "metadata": {},
   "source": [
    "1. Generate some data $(\\mathbf{X}, \\vec{y})$ to fit our Gaussian process to. "
   ]
  },
  {
   "cell_type": "code",
   "execution_count": 2,
   "id": "4dead54f",
   "metadata": {
    "scrolled": true
   },
   "outputs": [
    {
     "data": {
      "image/svg+xml": [
       "<?xml version=\"1.0\" encoding=\"utf-8\"?>\n",
       "<svg xmlns=\"http://www.w3.org/2000/svg\" xmlns:xlink=\"http://www.w3.org/1999/xlink\" width=\"600\" height=\"400\" viewBox=\"0 0 2400 1600\">\n",
       "<defs>\n",
       "  <clipPath id=\"clip030\">\n",
       "    <rect x=\"0\" y=\"0\" width=\"2400\" height=\"1600\"/>\n",
       "  </clipPath>\n",
       "</defs>\n",
       "<path clip-path=\"url(#clip030)\" d=\"\n",
       "M0 1600 L2400 1600 L2400 0 L0 0  Z\n",
       "  \" fill=\"#ffffff\" fill-rule=\"evenodd\" fill-opacity=\"1\"/>\n",
       "<defs>\n",
       "  <clipPath id=\"clip031\">\n",
       "    <rect x=\"480\" y=\"0\" width=\"1681\" height=\"1600\"/>\n",
       "  </clipPath>\n",
       "</defs>\n",
       "<path clip-path=\"url(#clip030)\" d=\"\n",
       "M192.941 1486.45 L2352.76 1486.45 L2352.76 47.2441 L192.941 47.2441  Z\n",
       "  \" fill=\"#ffffff\" fill-rule=\"evenodd\" fill-opacity=\"1\"/>\n",
       "<defs>\n",
       "  <clipPath id=\"clip032\">\n",
       "    <rect x=\"192\" y=\"47\" width=\"2161\" height=\"1440\"/>\n",
       "  </clipPath>\n",
       "</defs>\n",
       "<polyline clip-path=\"url(#clip032)\" style=\"stroke:#000000; stroke-linecap:round; stroke-linejoin:round; stroke-width:2; stroke-opacity:0.1; fill:none\" points=\"\n",
       "  549.339,1486.45 549.339,47.2441 \n",
       "  \"/>\n",
       "<polyline clip-path=\"url(#clip032)\" style=\"stroke:#000000; stroke-linecap:round; stroke-linejoin:round; stroke-width:2; stroke-opacity:0.1; fill:none\" points=\"\n",
       "  910.109,1486.45 910.109,47.2441 \n",
       "  \"/>\n",
       "<polyline clip-path=\"url(#clip032)\" style=\"stroke:#000000; stroke-linecap:round; stroke-linejoin:round; stroke-width:2; stroke-opacity:0.1; fill:none\" points=\"\n",
       "  1270.88,1486.45 1270.88,47.2441 \n",
       "  \"/>\n",
       "<polyline clip-path=\"url(#clip032)\" style=\"stroke:#000000; stroke-linecap:round; stroke-linejoin:round; stroke-width:2; stroke-opacity:0.1; fill:none\" points=\"\n",
       "  1631.65,1486.45 1631.65,47.2441 \n",
       "  \"/>\n",
       "<polyline clip-path=\"url(#clip032)\" style=\"stroke:#000000; stroke-linecap:round; stroke-linejoin:round; stroke-width:2; stroke-opacity:0.1; fill:none\" points=\"\n",
       "  1992.42,1486.45 1992.42,47.2441 \n",
       "  \"/>\n",
       "<polyline clip-path=\"url(#clip030)\" style=\"stroke:#000000; stroke-linecap:round; stroke-linejoin:round; stroke-width:4; stroke-opacity:1; fill:none\" points=\"\n",
       "  192.941,1486.45 2352.76,1486.45 \n",
       "  \"/>\n",
       "<polyline clip-path=\"url(#clip030)\" style=\"stroke:#000000; stroke-linecap:round; stroke-linejoin:round; stroke-width:4; stroke-opacity:1; fill:none\" points=\"\n",
       "  549.339,1486.45 549.339,1467.55 \n",
       "  \"/>\n",
       "<polyline clip-path=\"url(#clip030)\" style=\"stroke:#000000; stroke-linecap:round; stroke-linejoin:round; stroke-width:4; stroke-opacity:1; fill:none\" points=\"\n",
       "  910.109,1486.45 910.109,1467.55 \n",
       "  \"/>\n",
       "<polyline clip-path=\"url(#clip030)\" style=\"stroke:#000000; stroke-linecap:round; stroke-linejoin:round; stroke-width:4; stroke-opacity:1; fill:none\" points=\"\n",
       "  1270.88,1486.45 1270.88,1467.55 \n",
       "  \"/>\n",
       "<polyline clip-path=\"url(#clip030)\" style=\"stroke:#000000; stroke-linecap:round; stroke-linejoin:round; stroke-width:4; stroke-opacity:1; fill:none\" points=\"\n",
       "  1631.65,1486.45 1631.65,1467.55 \n",
       "  \"/>\n",
       "<polyline clip-path=\"url(#clip030)\" style=\"stroke:#000000; stroke-linecap:round; stroke-linejoin:round; stroke-width:4; stroke-opacity:1; fill:none\" points=\"\n",
       "  1992.42,1486.45 1992.42,1467.55 \n",
       "  \"/>\n",
       "<path clip-path=\"url(#clip030)\" d=\"M539.721 1544.91 L547.36 1544.91 L547.36 1518.55 L539.049 1520.21 L539.049 1515.95 L547.313 1514.29 L551.989 1514.29 L551.989 1544.91 L559.628 1544.91 L559.628 1548.85 L539.721 1548.85 L539.721 1544.91 Z\" fill=\"#000000\" fill-rule=\"evenodd\" fill-opacity=\"1\" /><path clip-path=\"url(#clip030)\" d=\"M904.761 1544.91 L921.081 1544.91 L921.081 1548.85 L899.137 1548.85 L899.137 1544.91 Q901.799 1542.16 906.382 1537.53 Q910.988 1532.88 912.169 1531.53 Q914.414 1529.01 915.294 1527.27 Q916.197 1525.51 916.197 1523.82 Q916.197 1521.07 914.252 1519.33 Q912.331 1517.6 909.229 1517.6 Q907.03 1517.6 904.576 1518.36 Q902.146 1519.13 899.368 1520.68 L899.368 1515.95 Q902.192 1514.82 904.646 1514.24 Q907.099 1513.66 909.136 1513.66 Q914.507 1513.66 917.701 1516.35 Q920.896 1519.03 920.896 1523.52 Q920.896 1525.65 920.085 1527.57 Q919.298 1529.47 917.192 1532.07 Q916.613 1532.74 913.511 1535.95 Q910.41 1539.15 904.761 1544.91 Z\" fill=\"#000000\" fill-rule=\"evenodd\" fill-opacity=\"1\" /><path clip-path=\"url(#clip030)\" d=\"M1275.13 1530.21 Q1278.48 1530.93 1280.36 1533.2 Q1282.26 1535.47 1282.26 1538.8 Q1282.26 1543.92 1278.74 1546.72 Q1275.22 1549.52 1268.74 1549.52 Q1266.56 1549.52 1264.25 1549.08 Q1261.96 1548.66 1259.5 1547.81 L1259.5 1543.29 Q1261.45 1544.43 1263.76 1545.01 Q1266.08 1545.58 1268.6 1545.58 Q1273 1545.58 1275.29 1543.85 Q1277.6 1542.11 1277.6 1538.8 Q1277.6 1535.75 1275.45 1534.03 Q1273.32 1532.3 1269.5 1532.3 L1265.47 1532.3 L1265.47 1528.45 L1269.69 1528.45 Q1273.14 1528.45 1274.96 1527.09 Q1276.79 1525.7 1276.79 1523.11 Q1276.79 1520.45 1274.89 1519.03 Q1273.02 1517.6 1269.5 1517.6 Q1267.58 1517.6 1265.38 1518.01 Q1263.18 1518.43 1260.54 1519.31 L1260.54 1515.14 Q1263.21 1514.4 1265.52 1514.03 Q1267.86 1513.66 1269.92 1513.66 Q1275.24 1513.66 1278.34 1516.09 Q1281.45 1518.5 1281.45 1522.62 Q1281.45 1525.49 1279.8 1527.48 Q1278.16 1529.45 1275.13 1530.21 Z\" fill=\"#000000\" fill-rule=\"evenodd\" fill-opacity=\"1\" /><path clip-path=\"url(#clip030)\" d=\"M1634.66 1518.36 L1622.85 1536.81 L1634.66 1536.81 L1634.66 1518.36 M1633.43 1514.29 L1639.31 1514.29 L1639.31 1536.81 L1644.24 1536.81 L1644.24 1540.7 L1639.31 1540.7 L1639.31 1548.85 L1634.66 1548.85 L1634.66 1540.7 L1619.06 1540.7 L1619.06 1536.19 L1633.43 1514.29 Z\" fill=\"#000000\" fill-rule=\"evenodd\" fill-opacity=\"1\" /><path clip-path=\"url(#clip030)\" d=\"M1982.7 1514.29 L2001.05 1514.29 L2001.05 1518.22 L1986.98 1518.22 L1986.98 1526.7 Q1988 1526.35 1989.02 1526.19 Q1990.03 1526 1991.05 1526 Q1996.84 1526 2000.22 1529.17 Q2003.6 1532.34 2003.6 1537.76 Q2003.6 1543.34 2000.13 1546.44 Q1996.65 1549.52 1990.34 1549.52 Q1988.16 1549.52 1985.89 1549.15 Q1983.65 1548.78 1981.24 1548.04 L1981.24 1543.34 Q1983.32 1544.47 1985.54 1545.03 Q1987.77 1545.58 1990.24 1545.58 Q1994.25 1545.58 1996.59 1543.48 Q1998.92 1541.37 1998.92 1537.76 Q1998.92 1534.15 1996.59 1532.04 Q1994.25 1529.94 1990.24 1529.94 Q1988.37 1529.94 1986.49 1530.35 Q1984.64 1530.77 1982.7 1531.65 L1982.7 1514.29 Z\" fill=\"#000000\" fill-rule=\"evenodd\" fill-opacity=\"1\" /><polyline clip-path=\"url(#clip032)\" style=\"stroke:#000000; stroke-linecap:round; stroke-linejoin:round; stroke-width:2; stroke-opacity:0.1; fill:none\" points=\"\n",
       "  192.941,1219.8 2352.76,1219.8 \n",
       "  \"/>\n",
       "<polyline clip-path=\"url(#clip032)\" style=\"stroke:#000000; stroke-linecap:round; stroke-linejoin:round; stroke-width:2; stroke-opacity:0.1; fill:none\" points=\"\n",
       "  192.941,893.313 2352.76,893.313 \n",
       "  \"/>\n",
       "<polyline clip-path=\"url(#clip032)\" style=\"stroke:#000000; stroke-linecap:round; stroke-linejoin:round; stroke-width:2; stroke-opacity:0.1; fill:none\" points=\"\n",
       "  192.941,566.831 2352.76,566.831 \n",
       "  \"/>\n",
       "<polyline clip-path=\"url(#clip032)\" style=\"stroke:#000000; stroke-linecap:round; stroke-linejoin:round; stroke-width:2; stroke-opacity:0.1; fill:none\" points=\"\n",
       "  192.941,240.349 2352.76,240.349 \n",
       "  \"/>\n",
       "<polyline clip-path=\"url(#clip030)\" style=\"stroke:#000000; stroke-linecap:round; stroke-linejoin:round; stroke-width:4; stroke-opacity:1; fill:none\" points=\"\n",
       "  192.941,1486.45 192.941,47.2441 \n",
       "  \"/>\n",
       "<polyline clip-path=\"url(#clip030)\" style=\"stroke:#000000; stroke-linecap:round; stroke-linejoin:round; stroke-width:4; stroke-opacity:1; fill:none\" points=\"\n",
       "  192.941,1219.8 211.838,1219.8 \n",
       "  \"/>\n",
       "<polyline clip-path=\"url(#clip030)\" style=\"stroke:#000000; stroke-linecap:round; stroke-linejoin:round; stroke-width:4; stroke-opacity:1; fill:none\" points=\"\n",
       "  192.941,893.313 211.838,893.313 \n",
       "  \"/>\n",
       "<polyline clip-path=\"url(#clip030)\" style=\"stroke:#000000; stroke-linecap:round; stroke-linejoin:round; stroke-width:4; stroke-opacity:1; fill:none\" points=\"\n",
       "  192.941,566.831 211.838,566.831 \n",
       "  \"/>\n",
       "<polyline clip-path=\"url(#clip030)\" style=\"stroke:#000000; stroke-linecap:round; stroke-linejoin:round; stroke-width:4; stroke-opacity:1; fill:none\" points=\"\n",
       "  192.941,240.349 211.838,240.349 \n",
       "  \"/>\n",
       "<path clip-path=\"url(#clip030)\" d=\"M50.9921 1220.25 L80.6679 1220.25 L80.6679 1224.18 L50.9921 1224.18 L50.9921 1220.25 Z\" fill=\"#000000\" fill-rule=\"evenodd\" fill-opacity=\"1\" /><path clip-path=\"url(#clip030)\" d=\"M100.76 1205.59 Q97.1493 1205.59 95.3206 1209.16 Q93.515 1212.7 93.515 1219.83 Q93.515 1226.94 95.3206 1230.5 Q97.1493 1234.04 100.76 1234.04 Q104.395 1234.04 106.2 1230.5 Q108.029 1226.94 108.029 1219.83 Q108.029 1212.7 106.2 1209.16 Q104.395 1205.59 100.76 1205.59 M100.76 1201.89 Q106.571 1201.89 109.626 1206.5 Q112.705 1211.08 112.705 1219.83 Q112.705 1228.56 109.626 1233.16 Q106.571 1237.75 100.76 1237.75 Q94.9502 1237.75 91.8715 1233.16 Q88.816 1228.56 88.816 1219.83 Q88.816 1211.08 91.8715 1206.5 Q94.9502 1201.89 100.76 1201.89 Z\" fill=\"#000000\" fill-rule=\"evenodd\" fill-opacity=\"1\" /><path clip-path=\"url(#clip030)\" d=\"M120.922 1231.2 L125.807 1231.2 L125.807 1237.08 L120.922 1237.08 L120.922 1231.2 Z\" fill=\"#000000\" fill-rule=\"evenodd\" fill-opacity=\"1\" /><path clip-path=\"url(#clip030)\" d=\"M136.038 1202.52 L154.394 1202.52 L154.394 1206.45 L140.32 1206.45 L140.32 1214.92 Q141.339 1214.58 142.357 1214.41 Q143.376 1214.23 144.394 1214.23 Q150.181 1214.23 153.561 1217.4 Q156.941 1220.57 156.941 1225.99 Q156.941 1231.57 153.468 1234.67 Q149.996 1237.75 143.677 1237.75 Q141.501 1237.75 139.232 1237.38 Q136.987 1237.01 134.58 1236.27 L134.58 1231.57 Q136.663 1232.7 138.885 1233.26 Q141.107 1233.81 143.584 1233.81 Q147.589 1233.81 149.927 1231.71 Q152.265 1229.6 152.265 1225.99 Q152.265 1222.38 149.927 1220.27 Q147.589 1218.16 143.584 1218.16 Q141.709 1218.16 139.834 1218.58 Q137.982 1219 136.038 1219.88 L136.038 1202.52 Z\" fill=\"#000000\" fill-rule=\"evenodd\" fill-opacity=\"1\" /><path clip-path=\"url(#clip030)\" d=\"M99.765 879.112 Q96.1539 879.112 94.3252 882.677 Q92.5197 886.219 92.5197 893.348 Q92.5197 900.455 94.3252 904.019 Q96.1539 907.561 99.765 907.561 Q103.399 907.561 105.205 904.019 Q107.033 900.455 107.033 893.348 Q107.033 886.219 105.205 882.677 Q103.399 879.112 99.765 879.112 M99.765 875.408 Q105.575 875.408 108.631 880.015 Q111.709 884.598 111.709 893.348 Q111.709 902.075 108.631 906.681 Q105.575 911.265 99.765 911.265 Q93.9549 911.265 90.8762 906.681 Q87.8206 902.075 87.8206 893.348 Q87.8206 884.598 90.8762 880.015 Q93.9549 875.408 99.765 875.408 Z\" fill=\"#000000\" fill-rule=\"evenodd\" fill-opacity=\"1\" /><path clip-path=\"url(#clip030)\" d=\"M119.927 904.714 L124.811 904.714 L124.811 910.593 L119.927 910.593 L119.927 904.714 Z\" fill=\"#000000\" fill-rule=\"evenodd\" fill-opacity=\"1\" /><path clip-path=\"url(#clip030)\" d=\"M144.996 879.112 Q141.385 879.112 139.556 882.677 Q137.751 886.219 137.751 893.348 Q137.751 900.455 139.556 904.019 Q141.385 907.561 144.996 907.561 Q148.63 907.561 150.436 904.019 Q152.265 900.455 152.265 893.348 Q152.265 886.219 150.436 882.677 Q148.63 879.112 144.996 879.112 M144.996 875.408 Q150.806 875.408 153.862 880.015 Q156.941 884.598 156.941 893.348 Q156.941 902.075 153.862 906.681 Q150.806 911.265 144.996 911.265 Q139.186 911.265 136.107 906.681 Q133.052 902.075 133.052 893.348 Q133.052 884.598 136.107 880.015 Q139.186 875.408 144.996 875.408 Z\" fill=\"#000000\" fill-rule=\"evenodd\" fill-opacity=\"1\" /><path clip-path=\"url(#clip030)\" d=\"M100.76 552.63 Q97.1493 552.63 95.3206 556.195 Q93.515 559.737 93.515 566.866 Q93.515 573.973 95.3206 577.537 Q97.1493 581.079 100.76 581.079 Q104.395 581.079 106.2 577.537 Q108.029 573.973 108.029 566.866 Q108.029 559.737 106.2 556.195 Q104.395 552.63 100.76 552.63 M100.76 548.926 Q106.571 548.926 109.626 553.533 Q112.705 558.116 112.705 566.866 Q112.705 575.593 109.626 580.199 Q106.571 584.783 100.76 584.783 Q94.9502 584.783 91.8715 580.199 Q88.816 575.593 88.816 566.866 Q88.816 558.116 91.8715 553.533 Q94.9502 548.926 100.76 548.926 Z\" fill=\"#000000\" fill-rule=\"evenodd\" fill-opacity=\"1\" /><path clip-path=\"url(#clip030)\" d=\"M120.922 578.232 L125.807 578.232 L125.807 584.111 L120.922 584.111 L120.922 578.232 Z\" fill=\"#000000\" fill-rule=\"evenodd\" fill-opacity=\"1\" /><path clip-path=\"url(#clip030)\" d=\"M136.038 549.551 L154.394 549.551 L154.394 553.487 L140.32 553.487 L140.32 561.959 Q141.339 561.612 142.357 561.449 Q143.376 561.264 144.394 561.264 Q150.181 561.264 153.561 564.436 Q156.941 567.607 156.941 573.024 Q156.941 578.602 153.468 581.704 Q149.996 584.783 143.677 584.783 Q141.501 584.783 139.232 584.412 Q136.987 584.042 134.58 583.301 L134.58 578.602 Q136.663 579.736 138.885 580.292 Q141.107 580.848 143.584 580.848 Q147.589 580.848 149.927 578.741 Q152.265 576.635 152.265 573.024 Q152.265 569.412 149.927 567.306 Q147.589 565.199 143.584 565.199 Q141.709 565.199 139.834 565.616 Q137.982 566.033 136.038 566.912 L136.038 549.551 Z\" fill=\"#000000\" fill-rule=\"evenodd\" fill-opacity=\"1\" /><path clip-path=\"url(#clip030)\" d=\"M90.5752 253.694 L98.2141 253.694 L98.2141 227.329 L89.904 228.995 L89.904 224.736 L98.1678 223.069 L102.844 223.069 L102.844 253.694 L110.483 253.694 L110.483 257.629 L90.5752 257.629 L90.5752 253.694 Z\" fill=\"#000000\" fill-rule=\"evenodd\" fill-opacity=\"1\" /><path clip-path=\"url(#clip030)\" d=\"M119.927 251.75 L124.811 251.75 L124.811 257.629 L119.927 257.629 L119.927 251.75 Z\" fill=\"#000000\" fill-rule=\"evenodd\" fill-opacity=\"1\" /><path clip-path=\"url(#clip030)\" d=\"M144.996 226.148 Q141.385 226.148 139.556 229.713 Q137.751 233.254 137.751 240.384 Q137.751 247.491 139.556 251.055 Q141.385 254.597 144.996 254.597 Q148.63 254.597 150.436 251.055 Q152.265 247.491 152.265 240.384 Q152.265 233.254 150.436 229.713 Q148.63 226.148 144.996 226.148 M144.996 222.444 Q150.806 222.444 153.862 227.051 Q156.941 231.634 156.941 240.384 Q156.941 249.111 153.862 253.717 Q150.806 258.301 144.996 258.301 Q139.186 258.301 136.107 253.717 Q133.052 249.111 133.052 240.384 Q133.052 231.634 136.107 227.051 Q139.186 222.444 144.996 222.444 Z\" fill=\"#000000\" fill-rule=\"evenodd\" fill-opacity=\"1\" /><circle clip-path=\"url(#clip032)\" cx=\"623.008\" cy=\"211.126\" r=\"14.4\" fill=\"#009af9\" fill-rule=\"evenodd\" fill-opacity=\"1\" stroke=\"#000000\" stroke-opacity=\"1\" stroke-width=\"3.2\"/>\n",
       "<circle clip-path=\"url(#clip032)\" cx=\"254.067\" cy=\"738.804\" r=\"14.4\" fill=\"#009af9\" fill-rule=\"evenodd\" fill-opacity=\"1\" stroke=\"#000000\" stroke-opacity=\"1\" stroke-width=\"3.2\"/>\n",
       "<circle clip-path=\"url(#clip032)\" cx=\"1508.61\" cy=\"1213.31\" r=\"14.4\" fill=\"#009af9\" fill-rule=\"evenodd\" fill-opacity=\"1\" stroke=\"#000000\" stroke-opacity=\"1\" stroke-width=\"3.2\"/>\n",
       "<circle clip-path=\"url(#clip032)\" cx=\"723.005\" cy=\"87.9763\" r=\"14.4\" fill=\"#009af9\" fill-rule=\"evenodd\" fill-opacity=\"1\" stroke=\"#000000\" stroke-opacity=\"1\" stroke-width=\"3.2\"/>\n",
       "<circle clip-path=\"url(#clip032)\" cx=\"2291.63\" cy=\"1128.38\" r=\"14.4\" fill=\"#009af9\" fill-rule=\"evenodd\" fill-opacity=\"1\" stroke=\"#000000\" stroke-opacity=\"1\" stroke-width=\"3.2\"/>\n",
       "<circle clip-path=\"url(#clip032)\" cx=\"1044.86\" cy=\"417.589\" r=\"14.4\" fill=\"#009af9\" fill-rule=\"evenodd\" fill-opacity=\"1\" stroke=\"#000000\" stroke-opacity=\"1\" stroke-width=\"3.2\"/>\n",
       "<circle clip-path=\"url(#clip032)\" cx=\"1821.82\" cy=\"1445.72\" r=\"14.4\" fill=\"#009af9\" fill-rule=\"evenodd\" fill-opacity=\"1\" stroke=\"#000000\" stroke-opacity=\"1\" stroke-width=\"3.2\"/>\n",
       "<circle clip-path=\"url(#clip032)\" cx=\"2153.13\" cy=\"1339.98\" r=\"14.4\" fill=\"#009af9\" fill-rule=\"evenodd\" fill-opacity=\"1\" stroke=\"#000000\" stroke-opacity=\"1\" stroke-width=\"3.2\"/>\n",
       "<circle clip-path=\"url(#clip032)\" cx=\"1134.3\" cy=\"416.403\" r=\"14.4\" fill=\"#009af9\" fill-rule=\"evenodd\" fill-opacity=\"1\" stroke=\"#000000\" stroke-opacity=\"1\" stroke-width=\"3.2\"/>\n",
       "<circle clip-path=\"url(#clip032)\" cx=\"2059.69\" cy=\"1337.24\" r=\"14.4\" fill=\"#009af9\" fill-rule=\"evenodd\" fill-opacity=\"1\" stroke=\"#000000\" stroke-opacity=\"1\" stroke-width=\"3.2\"/>\n",
       "</svg>\n"
      ]
     },
     "execution_count": 2,
     "metadata": {},
     "output_type": "execute_result"
    }
   ],
   "source": [
    "# function to sample from: \n",
    "hyperparams = (0.3, 1.08, 0.00005)\n",
    "# hyperparams = (1.0, 1.0, 0.1)\n",
    "# hyperparams = (3.0, 1.16, 0.89)\n",
    "\n",
    "\n",
    "σₙ² = (hyperparams[3])^2\n",
    "σf² = (hyperparams[2])^2\n",
    "ℓ = hyperparams[1]\n",
    "\n",
    "#σₙ² = (0.00005)^2\n",
    "#σf² = (1.08)^2\n",
    "#ℓ= 0.3\n",
    "\n",
    "y(x) = sin(x) + 0.25*rand()\n",
    "\n",
    "#X = 0:0.5:2π\n",
    "X = 2π*rand(10)\n",
    "yvec = y.(X)\n",
    "X = X'\n",
    "\n",
    "\n",
    "plot(X', yvec, seriestype=:scatter, label=\"\")"
   ]
  },
  {
   "cell_type": "markdown",
   "id": "dda4bf8b",
   "metadata": {},
   "source": [
    "2. Compute Kernel matrix on sample data. We will use RBF kernel given by \n",
    "\\begin{equation}\n",
    "k(\\vec{x},\\vec{x}') = \\sigma_f^2 \\exp\\left(-\\frac{1}{2\\ell^2}(\\vec{x}-\\vec{x}')^2\\right) + \\sigma_n^2 \\delta_{\\vec{x},\\vec{x}'}\n",
    "\\end{equation}"
   ]
  },
  {
   "cell_type": "code",
   "execution_count": 3,
   "id": "c09d867d",
   "metadata": {},
   "outputs": [
    {
     "data": {
      "text/plain": [
       "0.0034960996421173817"
      ]
     },
     "execution_count": 3,
     "metadata": {},
     "output_type": "execute_result"
    }
   ],
   "source": [
    "# first define how copute elemnt i,j \n",
    "function rbf_ij(X₁::AbstractMatrix, X₂::AbstractMatrix, i::Int, j::Int)\n",
    "    return σf²*exp(-(X₁[:,i] .- X₂[:,j])' * (X₁[:,i] .- X₂[:,j])/(2ℓ^2))\n",
    "end\n",
    "\n",
    "rbf_ij(X,X, 1, 2)"
   ]
  },
  {
   "cell_type": "code",
   "execution_count": 4,
   "id": "7cc4fef3",
   "metadata": {},
   "outputs": [
    {
     "data": {
      "text/plain": [
       "10×10 Matrix{Float64}:\n",
       " 1.1664       0.0034961    3.37331e-15  …  1.66244e-5   6.37707e-39\n",
       " 0.0034961    1.1664       7.7827e-30      5.05558e-15  4.26408e-61\n",
       " 3.37331e-15  7.7827e-30   1.1664          0.00294866   2.73706e-6\n",
       " 0.76117      9.78151e-5   4.22649e-12     0.000853012  8.82289e-34\n",
       " 2.8376e-52   1.27508e-77  5.0252e-12      1.72826e-25  0.117375\n",
       " 0.000586128  2.98195e-12  0.000120235  …  0.828966     9.45015e-20\n",
       " 2.66401e-27  3.19403e-46  0.0177122       2.01579e-9   0.104236\n",
       " 4.63028e-44  1.63183e-67  2.32437e-8      6.68045e-20  0.803508\n",
       " 1.66244e-5   5.05558e-15  0.00294866      1.1664       1.55782e-16\n",
       " 6.37707e-39  4.26408e-61  2.73706e-6      1.55782e-16  1.1664"
      ]
     },
     "execution_count": 4,
     "metadata": {},
     "output_type": "execute_result"
    }
   ],
   "source": [
    "function RBF(X₁::AbstractMatrix, X₂::AbstractMatrix)\n",
    "    (d₁,n₁) = size(X₁)\n",
    "    (d₂,n₂) = size(X₂)\n",
    "    # we need to require d₁ == d₂\n",
    "    K = zeros(n₁, n₂)\n",
    " \n",
    "    @inline for j ∈ 1:n₂, i ∈ 1:n₁\n",
    "        K[i,j] = rbf_ij(X₁, X₂, i, j)\n",
    "    end\n",
    "    \n",
    "    return K \n",
    "end\n",
    "\n",
    "K = RBF(X,X) + σₙ²*I"
   ]
  },
  {
   "cell_type": "code",
   "execution_count": 5,
   "id": "feb34af5",
   "metadata": {},
   "outputs": [
    {
     "ename": "LoadError",
     "evalue": "UndefVarError: title not defined",
     "output_type": "error",
     "traceback": [
      "UndefVarError: title not defined",
      "",
      "Stacktrace:",
      " [1] top-level scope",
      "   @ In[5]:3",
      " [2] eval",
      "   @ ./boot.jl:368 [inlined]",
      " [3] include_string(mapexpr::typeof(REPL.softscope), mod::Module, code::String, filename::String)",
      "   @ Base ./loading.jl:1428"
     ]
    }
   ],
   "source": [
    "# visualize the covariance matrix\n",
    "# heatmap(log10.(K), yflip=true)\n",
    "heatmap(log10.(K), yflip=true, title)"
   ]
  },
  {
   "cell_type": "code",
   "execution_count": 6,
   "id": "ec6b63c2",
   "metadata": {},
   "outputs": [
    {
     "data": {
      "text/plain": [
       "10×10 LowerTriangular{Float64, Matrix{Float64}}:\n",
       " 1.08           ⋅            ⋅           …   ⋅           ⋅          ⋅ \n",
       " 0.00323713    1.08          ⋅               ⋅           ⋅          ⋅ \n",
       " 3.12344e-15  -9.36205e-18  1.08             ⋅           ⋅          ⋅ \n",
       " 0.704787     -0.00202193   3.91138e-12      ⋅           ⋅          ⋅ \n",
       " 2.62741e-52  -7.87527e-55  4.65296e-12      ⋅           ⋅          ⋅ \n",
       " 0.000542711  -1.62669e-6   0.000111329  …   ⋅           ⋅          ⋅ \n",
       " 2.46668e-27  -7.3935e-30   0.0164002        ⋅           ⋅          ⋅ \n",
       " 4.2873e-44   -1.28506e-46  2.15219e-8      0.969276     ⋅          ⋅ \n",
       " 1.53929e-5   -4.6138e-8    0.00273024      4.12508e-7  0.759688    ⋅ \n",
       " 5.9047e-39   -1.76985e-41  2.53431e-6      0.77459     4.6856e-6  0.738433"
      ]
     },
     "execution_count": 6,
     "metadata": {},
     "output_type": "execute_result"
    }
   ],
   "source": [
    "L = cholesky(K).L"
   ]
  },
  {
   "cell_type": "code",
   "execution_count": 7,
   "id": "d46e4c75",
   "metadata": {},
   "outputs": [
    {
     "data": {
      "text/plain": [
       "(10,)"
      ]
     },
     "execution_count": 7,
     "metadata": {},
     "output_type": "execute_result"
    }
   ],
   "source": [
    "# compute expansion coefficients\n",
    "α = (L')\\(L\\yvec)\n",
    "\n",
    "size(α)"
   ]
  },
  {
   "cell_type": "code",
   "execution_count": 8,
   "id": "a32e70ee",
   "metadata": {},
   "outputs": [
    {
     "data": {
      "text/plain": [
       "126-element Vector{Float64}:\n",
       "  0.1960515508902834\n",
       "  0.2139836680863412\n",
       "  0.22725445506484623\n",
       "  0.2349146425624899\n",
       "  0.23649984642194954\n",
       "  0.23213011030300734\n",
       "  0.22254532370435906\n",
       "  0.20907375672003262\n",
       "  0.19354276350910835\n",
       "  0.17814941050555905\n",
       "  0.1653122621371333\n",
       "  0.15752328730890158\n",
       "  0.1572120389147258\n",
       "  ⋮\n",
       " -0.4863022334753577\n",
       " -0.437115503858837\n",
       " -0.3881801793714826\n",
       " -0.3405781644626105\n",
       " -0.2951317855410994\n",
       " -0.2524463908689842\n",
       " -0.2129593592933053\n",
       " -0.17698075518327971\n",
       " -0.14471807669995665\n",
       " -0.11628493584100667\n",
       " -0.09169902522012995\n",
       " -0.07087722400356473"
      ]
     },
     "execution_count": 8,
     "metadata": {},
     "output_type": "execute_result"
    }
   ],
   "source": [
    "# now we need a function to compue mean \n",
    "Xnew = (0:0.05:2π)'\n",
    "Koldnew = RBF(X, Xnew)\n",
    "ynew = Koldnew'*α"
   ]
  },
  {
   "cell_type": "code",
   "execution_count": 9,
   "id": "a5c36fa4",
   "metadata": {},
   "outputs": [
    {
     "data": {
      "text/plain": [
       "126-element Vector{Float64}:\n",
       " 1.1961294043526112\n",
       " 0.9033997367824896\n",
       " 0.5764764998054009\n",
       " 0.22653917594385456\n",
       " 0.13268055408841734\n",
       " 0.48638204159071213\n",
       " 0.8203489018421785\n",
       " 1.122477266573357\n",
       " 1.383904454816415\n",
       " 1.5995332149430252\n",
       " 1.7678599696440602\n",
       " 1.8901499271329663\n",
       " 1.9691413105994782\n",
       " ⋮\n",
       " 0.43625463741266823\n",
       " 0.32451054270675583\n",
       " 0.13837034535380272\n",
       " 0.1074718162178282\n",
       " 0.3926197012571215\n",
       " 0.6943742426265528\n",
       " 0.9910407084452688\n",
       " 1.2646067211586747\n",
       " 1.5024394219538597\n",
       " 1.69787947021669\n",
       " 1.8498263262747943\n",
       " 1.9615749770355344"
      ]
     },
     "execution_count": 9,
     "metadata": {},
     "output_type": "execute_result"
    }
   ],
   "source": [
    "# compute the variance\n",
    "vvec = L\\Koldnew\n",
    "\n",
    "Knewnew = RBF(Xnew, Xnew)\n",
    "varnew =Knewnew .- vvec'*vvec; \n",
    "\n",
    "twostdevs = [2*sqrt(varnew[i,i]) for i ∈ 1:size(Xnew,2)]"
   ]
  },
  {
   "cell_type": "code",
   "execution_count": 10,
   "id": "65c1f91b",
   "metadata": {},
   "outputs": [
    {
     "data": {
      "image/svg+xml": [
       "<?xml version=\"1.0\" encoding=\"utf-8\"?>\n",
       "<svg xmlns=\"http://www.w3.org/2000/svg\" xmlns:xlink=\"http://www.w3.org/1999/xlink\" width=\"600\" height=\"400\" viewBox=\"0 0 2400 1600\">\n",
       "<defs>\n",
       "  <clipPath id=\"clip070\">\n",
       "    <rect x=\"0\" y=\"0\" width=\"2400\" height=\"1600\"/>\n",
       "  </clipPath>\n",
       "</defs>\n",
       "<path clip-path=\"url(#clip070)\" d=\"\n",
       "M0 1600 L2400 1600 L2400 0 L0 0  Z\n",
       "  \" fill=\"#ffffff\" fill-rule=\"evenodd\" fill-opacity=\"1\"/>\n",
       "<defs>\n",
       "  <clipPath id=\"clip071\">\n",
       "    <rect x=\"480\" y=\"0\" width=\"1681\" height=\"1600\"/>\n",
       "  </clipPath>\n",
       "</defs>\n",
       "<path clip-path=\"url(#clip070)\" d=\"\n",
       "M147.478 1486.45 L2352.76 1486.45 L2352.76 47.2441 L147.478 47.2441  Z\n",
       "  \" fill=\"#ffffff\" fill-rule=\"evenodd\" fill-opacity=\"1\"/>\n",
       "<defs>\n",
       "  <clipPath id=\"clip072\">\n",
       "    <rect x=\"147\" y=\"47\" width=\"2206\" height=\"1440\"/>\n",
       "  </clipPath>\n",
       "</defs>\n",
       "<polyline clip-path=\"url(#clip072)\" style=\"stroke:#000000; stroke-linecap:round; stroke-linejoin:round; stroke-width:2; stroke-opacity:0.1; fill:none\" points=\"\n",
       "  209.891,1486.45 209.891,47.2441 \n",
       "  \"/>\n",
       "<polyline clip-path=\"url(#clip072)\" style=\"stroke:#000000; stroke-linecap:round; stroke-linejoin:round; stroke-width:2; stroke-opacity:0.1; fill:none\" points=\"\n",
       "  542.764,1486.45 542.764,47.2441 \n",
       "  \"/>\n",
       "<polyline clip-path=\"url(#clip072)\" style=\"stroke:#000000; stroke-linecap:round; stroke-linejoin:round; stroke-width:2; stroke-opacity:0.1; fill:none\" points=\"\n",
       "  875.636,1486.45 875.636,47.2441 \n",
       "  \"/>\n",
       "<polyline clip-path=\"url(#clip072)\" style=\"stroke:#000000; stroke-linecap:round; stroke-linejoin:round; stroke-width:2; stroke-opacity:0.1; fill:none\" points=\"\n",
       "  1208.51,1486.45 1208.51,47.2441 \n",
       "  \"/>\n",
       "<polyline clip-path=\"url(#clip072)\" style=\"stroke:#000000; stroke-linecap:round; stroke-linejoin:round; stroke-width:2; stroke-opacity:0.1; fill:none\" points=\"\n",
       "  1541.38,1486.45 1541.38,47.2441 \n",
       "  \"/>\n",
       "<polyline clip-path=\"url(#clip072)\" style=\"stroke:#000000; stroke-linecap:round; stroke-linejoin:round; stroke-width:2; stroke-opacity:0.1; fill:none\" points=\"\n",
       "  1874.25,1486.45 1874.25,47.2441 \n",
       "  \"/>\n",
       "<polyline clip-path=\"url(#clip072)\" style=\"stroke:#000000; stroke-linecap:round; stroke-linejoin:round; stroke-width:2; stroke-opacity:0.1; fill:none\" points=\"\n",
       "  2207.12,1486.45 2207.12,47.2441 \n",
       "  \"/>\n",
       "<polyline clip-path=\"url(#clip070)\" style=\"stroke:#000000; stroke-linecap:round; stroke-linejoin:round; stroke-width:4; stroke-opacity:1; fill:none\" points=\"\n",
       "  147.478,1486.45 2352.76,1486.45 \n",
       "  \"/>\n",
       "<polyline clip-path=\"url(#clip070)\" style=\"stroke:#000000; stroke-linecap:round; stroke-linejoin:round; stroke-width:4; stroke-opacity:1; fill:none\" points=\"\n",
       "  209.891,1486.45 209.891,1467.55 \n",
       "  \"/>\n",
       "<polyline clip-path=\"url(#clip070)\" style=\"stroke:#000000; stroke-linecap:round; stroke-linejoin:round; stroke-width:4; stroke-opacity:1; fill:none\" points=\"\n",
       "  542.764,1486.45 542.764,1467.55 \n",
       "  \"/>\n",
       "<polyline clip-path=\"url(#clip070)\" style=\"stroke:#000000; stroke-linecap:round; stroke-linejoin:round; stroke-width:4; stroke-opacity:1; fill:none\" points=\"\n",
       "  875.636,1486.45 875.636,1467.55 \n",
       "  \"/>\n",
       "<polyline clip-path=\"url(#clip070)\" style=\"stroke:#000000; stroke-linecap:round; stroke-linejoin:round; stroke-width:4; stroke-opacity:1; fill:none\" points=\"\n",
       "  1208.51,1486.45 1208.51,1467.55 \n",
       "  \"/>\n",
       "<polyline clip-path=\"url(#clip070)\" style=\"stroke:#000000; stroke-linecap:round; stroke-linejoin:round; stroke-width:4; stroke-opacity:1; fill:none\" points=\"\n",
       "  1541.38,1486.45 1541.38,1467.55 \n",
       "  \"/>\n",
       "<polyline clip-path=\"url(#clip070)\" style=\"stroke:#000000; stroke-linecap:round; stroke-linejoin:round; stroke-width:4; stroke-opacity:1; fill:none\" points=\"\n",
       "  1874.25,1486.45 1874.25,1467.55 \n",
       "  \"/>\n",
       "<polyline clip-path=\"url(#clip070)\" style=\"stroke:#000000; stroke-linecap:round; stroke-linejoin:round; stroke-width:4; stroke-opacity:1; fill:none\" points=\"\n",
       "  2207.12,1486.45 2207.12,1467.55 \n",
       "  \"/>\n",
       "<path clip-path=\"url(#clip070)\" d=\"M209.891 1517.37 Q206.28 1517.37 204.452 1520.93 Q202.646 1524.47 202.646 1531.6 Q202.646 1538.71 204.452 1542.27 Q206.28 1545.82 209.891 1545.82 Q213.526 1545.82 215.331 1542.27 Q217.16 1538.71 217.16 1531.6 Q217.16 1524.47 215.331 1520.93 Q213.526 1517.37 209.891 1517.37 M209.891 1513.66 Q215.702 1513.66 218.757 1518.27 Q221.836 1522.85 221.836 1531.6 Q221.836 1540.33 218.757 1544.94 Q215.702 1549.52 209.891 1549.52 Q204.081 1549.52 201.003 1544.94 Q197.947 1540.33 197.947 1531.6 Q197.947 1522.85 201.003 1518.27 Q204.081 1513.66 209.891 1513.66 Z\" fill=\"#000000\" fill-rule=\"evenodd\" fill-opacity=\"1\" /><path clip-path=\"url(#clip070)\" d=\"M533.146 1544.91 L540.784 1544.91 L540.784 1518.55 L532.474 1520.21 L532.474 1515.95 L540.738 1514.29 L545.414 1514.29 L545.414 1544.91 L553.053 1544.91 L553.053 1548.85 L533.146 1548.85 L533.146 1544.91 Z\" fill=\"#000000\" fill-rule=\"evenodd\" fill-opacity=\"1\" /><path clip-path=\"url(#clip070)\" d=\"M870.289 1544.91 L886.608 1544.91 L886.608 1548.85 L864.664 1548.85 L864.664 1544.91 Q867.326 1542.16 871.909 1537.53 Q876.515 1532.88 877.696 1531.53 Q879.941 1529.01 880.821 1527.27 Q881.724 1525.51 881.724 1523.82 Q881.724 1521.07 879.779 1519.33 Q877.858 1517.6 874.756 1517.6 Q872.557 1517.6 870.103 1518.36 Q867.673 1519.13 864.895 1520.68 L864.895 1515.95 Q867.719 1514.82 870.173 1514.24 Q872.626 1513.66 874.664 1513.66 Q880.034 1513.66 883.228 1516.35 Q886.423 1519.03 886.423 1523.52 Q886.423 1525.65 885.613 1527.57 Q884.826 1529.47 882.719 1532.07 Q882.14 1532.74 879.039 1535.95 Q875.937 1539.15 870.289 1544.91 Z\" fill=\"#000000\" fill-rule=\"evenodd\" fill-opacity=\"1\" /><path clip-path=\"url(#clip070)\" d=\"M1212.76 1530.21 Q1216.11 1530.93 1217.99 1533.2 Q1219.89 1535.47 1219.89 1538.8 Q1219.89 1543.92 1216.37 1546.72 Q1212.85 1549.52 1206.37 1549.52 Q1204.19 1549.52 1201.88 1549.08 Q1199.58 1548.66 1197.13 1547.81 L1197.13 1543.29 Q1199.08 1544.43 1201.39 1545.01 Q1203.7 1545.58 1206.23 1545.58 Q1210.63 1545.58 1212.92 1543.85 Q1215.23 1542.11 1215.23 1538.8 Q1215.23 1535.75 1213.08 1534.03 Q1210.95 1532.3 1207.13 1532.3 L1203.1 1532.3 L1203.1 1528.45 L1207.32 1528.45 Q1210.76 1528.45 1212.59 1527.09 Q1214.42 1525.7 1214.42 1523.11 Q1214.42 1520.45 1212.52 1519.03 Q1210.65 1517.6 1207.13 1517.6 Q1205.21 1517.6 1203.01 1518.01 Q1200.81 1518.43 1198.17 1519.31 L1198.17 1515.14 Q1200.83 1514.4 1203.15 1514.03 Q1205.49 1513.66 1207.55 1513.66 Q1212.87 1513.66 1215.97 1516.09 Q1219.07 1518.5 1219.07 1522.62 Q1219.07 1525.49 1217.43 1527.48 Q1215.79 1529.45 1212.76 1530.21 Z\" fill=\"#000000\" fill-rule=\"evenodd\" fill-opacity=\"1\" /><path clip-path=\"url(#clip070)\" d=\"M1544.39 1518.36 L1532.58 1536.81 L1544.39 1536.81 L1544.39 1518.36 M1543.16 1514.29 L1549.04 1514.29 L1549.04 1536.81 L1553.97 1536.81 L1553.97 1540.7 L1549.04 1540.7 L1549.04 1548.85 L1544.39 1548.85 L1544.39 1540.7 L1528.79 1540.7 L1528.79 1536.19 L1543.16 1514.29 Z\" fill=\"#000000\" fill-rule=\"evenodd\" fill-opacity=\"1\" /><path clip-path=\"url(#clip070)\" d=\"M1864.53 1514.29 L1882.89 1514.29 L1882.89 1518.22 L1868.81 1518.22 L1868.81 1526.7 Q1869.83 1526.35 1870.85 1526.19 Q1871.87 1526 1872.89 1526 Q1878.67 1526 1882.05 1529.17 Q1885.43 1532.34 1885.43 1537.76 Q1885.43 1543.34 1881.96 1546.44 Q1878.49 1549.52 1872.17 1549.52 Q1869.99 1549.52 1867.72 1549.15 Q1865.48 1548.78 1863.07 1548.04 L1863.07 1543.34 Q1865.16 1544.47 1867.38 1545.03 Q1869.6 1545.58 1872.08 1545.58 Q1876.08 1545.58 1878.42 1543.48 Q1880.76 1541.37 1880.76 1537.76 Q1880.76 1534.15 1878.42 1532.04 Q1876.08 1529.94 1872.08 1529.94 Q1870.2 1529.94 1868.33 1530.35 Q1866.47 1530.77 1864.53 1531.65 L1864.53 1514.29 Z\" fill=\"#000000\" fill-rule=\"evenodd\" fill-opacity=\"1\" /><path clip-path=\"url(#clip070)\" d=\"M2207.53 1529.7 Q2204.38 1529.7 2202.53 1531.86 Q2200.7 1534.01 2200.7 1537.76 Q2200.7 1541.49 2202.53 1543.66 Q2204.38 1545.82 2207.53 1545.82 Q2210.68 1545.82 2212.51 1543.66 Q2214.36 1541.49 2214.36 1537.76 Q2214.36 1534.01 2212.51 1531.86 Q2210.68 1529.7 2207.53 1529.7 M2216.81 1515.05 L2216.81 1519.31 Q2215.05 1518.48 2213.25 1518.04 Q2211.46 1517.6 2209.71 1517.6 Q2205.08 1517.6 2202.62 1520.72 Q2200.19 1523.85 2199.84 1530.17 Q2201.21 1528.15 2203.27 1527.09 Q2205.33 1526 2207.81 1526 Q2213.02 1526 2216.02 1529.17 Q2219.06 1532.32 2219.06 1537.76 Q2219.06 1543.08 2215.91 1546.3 Q2212.76 1549.52 2207.53 1549.52 Q2201.53 1549.52 2198.36 1544.94 Q2195.19 1540.33 2195.19 1531.6 Q2195.19 1523.41 2199.08 1518.55 Q2202.97 1513.66 2209.52 1513.66 Q2211.28 1513.66 2213.06 1514.01 Q2214.87 1514.36 2216.81 1515.05 Z\" fill=\"#000000\" fill-rule=\"evenodd\" fill-opacity=\"1\" /><polyline clip-path=\"url(#clip072)\" style=\"stroke:#000000; stroke-linecap:round; stroke-linejoin:round; stroke-width:2; stroke-opacity:0.1; fill:none\" points=\"\n",
       "  147.478,1348.4 2352.76,1348.4 \n",
       "  \"/>\n",
       "<polyline clip-path=\"url(#clip072)\" style=\"stroke:#000000; stroke-linecap:round; stroke-linejoin:round; stroke-width:2; stroke-opacity:0.1; fill:none\" points=\"\n",
       "  147.478,1056.12 2352.76,1056.12 \n",
       "  \"/>\n",
       "<polyline clip-path=\"url(#clip072)\" style=\"stroke:#000000; stroke-linecap:round; stroke-linejoin:round; stroke-width:2; stroke-opacity:0.1; fill:none\" points=\"\n",
       "  147.478,763.842 2352.76,763.842 \n",
       "  \"/>\n",
       "<polyline clip-path=\"url(#clip072)\" style=\"stroke:#000000; stroke-linecap:round; stroke-linejoin:round; stroke-width:2; stroke-opacity:0.1; fill:none\" points=\"\n",
       "  147.478,471.561 2352.76,471.561 \n",
       "  \"/>\n",
       "<polyline clip-path=\"url(#clip072)\" style=\"stroke:#000000; stroke-linecap:round; stroke-linejoin:round; stroke-width:2; stroke-opacity:0.1; fill:none\" points=\"\n",
       "  147.478,179.28 2352.76,179.28 \n",
       "  \"/>\n",
       "<polyline clip-path=\"url(#clip070)\" style=\"stroke:#000000; stroke-linecap:round; stroke-linejoin:round; stroke-width:4; stroke-opacity:1; fill:none\" points=\"\n",
       "  147.478,1486.45 147.478,47.2441 \n",
       "  \"/>\n",
       "<polyline clip-path=\"url(#clip070)\" style=\"stroke:#000000; stroke-linecap:round; stroke-linejoin:round; stroke-width:4; stroke-opacity:1; fill:none\" points=\"\n",
       "  147.478,1348.4 166.376,1348.4 \n",
       "  \"/>\n",
       "<polyline clip-path=\"url(#clip070)\" style=\"stroke:#000000; stroke-linecap:round; stroke-linejoin:round; stroke-width:4; stroke-opacity:1; fill:none\" points=\"\n",
       "  147.478,1056.12 166.376,1056.12 \n",
       "  \"/>\n",
       "<polyline clip-path=\"url(#clip070)\" style=\"stroke:#000000; stroke-linecap:round; stroke-linejoin:round; stroke-width:4; stroke-opacity:1; fill:none\" points=\"\n",
       "  147.478,763.842 166.376,763.842 \n",
       "  \"/>\n",
       "<polyline clip-path=\"url(#clip070)\" style=\"stroke:#000000; stroke-linecap:round; stroke-linejoin:round; stroke-width:4; stroke-opacity:1; fill:none\" points=\"\n",
       "  147.478,471.561 166.376,471.561 \n",
       "  \"/>\n",
       "<polyline clip-path=\"url(#clip070)\" style=\"stroke:#000000; stroke-linecap:round; stroke-linejoin:round; stroke-width:4; stroke-opacity:1; fill:none\" points=\"\n",
       "  147.478,179.28 166.376,179.28 \n",
       "  \"/>\n",
       "<path clip-path=\"url(#clip070)\" d=\"M51.3625 1348.85 L81.0383 1348.85 L81.0383 1352.79 L51.3625 1352.79 L51.3625 1348.85 Z\" fill=\"#000000\" fill-rule=\"evenodd\" fill-opacity=\"1\" /><path clip-path=\"url(#clip070)\" d=\"M95.1586 1361.75 L111.478 1361.75 L111.478 1365.68 L89.5336 1365.68 L89.5336 1361.75 Q92.1956 1358.99 96.7789 1354.36 Q101.385 1349.71 102.566 1348.37 Q104.811 1345.85 105.691 1344.11 Q106.594 1342.35 106.594 1340.66 Q106.594 1337.91 104.649 1336.17 Q102.728 1334.43 99.6261 1334.43 Q97.4271 1334.43 94.9734 1335.2 Q92.5428 1335.96 89.7651 1337.51 L89.7651 1332.79 Q92.5891 1331.66 95.0428 1331.08 Q97.4965 1330.5 99.5335 1330.5 Q104.904 1330.5 108.098 1333.18 Q111.293 1335.87 111.293 1340.36 Q111.293 1342.49 110.483 1344.41 Q109.696 1346.31 107.589 1348.9 Q107.01 1349.57 103.909 1352.79 Q100.807 1355.98 95.1586 1361.75 Z\" fill=\"#000000\" fill-rule=\"evenodd\" fill-opacity=\"1\" /><path clip-path=\"url(#clip070)\" d=\"M50.9921 1056.57 L80.6679 1056.57 L80.6679 1060.51 L50.9921 1060.51 L50.9921 1056.57 Z\" fill=\"#000000\" fill-rule=\"evenodd\" fill-opacity=\"1\" /><path clip-path=\"url(#clip070)\" d=\"M91.5706 1069.47 L99.2095 1069.47 L99.2095 1043.1 L90.8993 1044.77 L90.8993 1040.51 L99.1632 1038.84 L103.839 1038.84 L103.839 1069.47 L111.478 1069.47 L111.478 1073.4 L91.5706 1073.4 L91.5706 1069.47 Z\" fill=\"#000000\" fill-rule=\"evenodd\" fill-opacity=\"1\" /><path clip-path=\"url(#clip070)\" d=\"M99.5335 749.64 Q95.9224 749.64 94.0937 753.205 Q92.2882 756.747 92.2882 763.876 Q92.2882 770.983 94.0937 774.547 Q95.9224 778.089 99.5335 778.089 Q103.168 778.089 104.973 774.547 Q106.802 770.983 106.802 763.876 Q106.802 756.747 104.973 753.205 Q103.168 749.64 99.5335 749.64 M99.5335 745.937 Q105.344 745.937 108.399 750.543 Q111.478 755.126 111.478 763.876 Q111.478 772.603 108.399 777.21 Q105.344 781.793 99.5335 781.793 Q93.7234 781.793 90.6447 777.21 Q87.5892 772.603 87.5892 763.876 Q87.5892 755.126 90.6447 750.543 Q93.7234 745.937 99.5335 745.937 Z\" fill=\"#000000\" fill-rule=\"evenodd\" fill-opacity=\"1\" /><path clip-path=\"url(#clip070)\" d=\"M91.5706 484.905 L99.2095 484.905 L99.2095 458.54 L90.8993 460.207 L90.8993 455.947 L99.1632 454.281 L103.839 454.281 L103.839 484.905 L111.478 484.905 L111.478 488.841 L91.5706 488.841 L91.5706 484.905 Z\" fill=\"#000000\" fill-rule=\"evenodd\" fill-opacity=\"1\" /><path clip-path=\"url(#clip070)\" d=\"M95.1586 192.625 L111.478 192.625 L111.478 196.56 L89.5336 196.56 L89.5336 192.625 Q92.1956 189.87 96.7789 185.24 Q101.385 180.588 102.566 179.245 Q104.811 176.722 105.691 174.986 Q106.594 173.227 106.594 171.537 Q106.594 168.782 104.649 167.046 Q102.728 165.31 99.6261 165.31 Q97.4271 165.31 94.9734 166.074 Q92.5428 166.838 89.7651 168.389 L89.7651 163.666 Q92.5891 162.532 95.0428 161.953 Q97.4965 161.375 99.5335 161.375 Q104.904 161.375 108.098 164.06 Q111.293 166.745 111.293 171.236 Q111.293 173.365 110.483 175.287 Q109.696 177.185 107.589 179.777 Q107.01 180.449 103.909 183.666 Q100.807 186.861 95.1586 192.625 Z\" fill=\"#000000\" fill-rule=\"evenodd\" fill-opacity=\"1\" /><polyline clip-path=\"url(#clip072)\" style=\"stroke:#808080; stroke-linecap:round; stroke-linejoin:round; stroke-width:4; stroke-opacity:1; fill:none\" points=\"\n",
       "  209.891,356.934 226.535,437.252 243.179,528.926 259.822,628.967 276.466,655.937 293.109,553.834 309.753,459.023 326.397,374.655 343.04,302.784 359.684,244.259 \n",
       "  376.328,198.812 392.971,165.346 409.615,142.349 426.258,128.361 442.902,122.366 459.546,124.01 476.189,133.585 492.833,151.754 509.476,179.101 526.12,215.618 \n",
       "  542.764,260.252 559.407,310.646 576.051,363.144 592.694,413.098 609.338,455.428 625.982,384.322 642.625,329.585 659.269,306.769 675.912,317.742 692.556,361.236 \n",
       "  709.2,383.418 725.843,325.813 742.487,266.593 759.13,210.869 775.774,162.819 792.418,125.379 809.061,100.218 825.705,87.9763 842.349,88.6469 858.992,101.937 \n",
       "  875.636,127.477 892.279,164.799 908.923,213.08 925.567,270.783 942.21,335.321 958.854,402.918 975.497,468.747 992.141,527.376 1008.78,517.572 1025.43,474.318 \n",
       "  1042.07,460.197 1058.72,476.798 1075.36,522.688 1092,521.884 1108.65,464.115 1125.29,401.248 1141.93,338.997 1158.58,282.311 1175.22,234.88 1191.86,198.941 \n",
       "  1208.51,175.377 1225.15,164.066 1241.8,164.363 1258.44,175.595 1275.08,197.439 1291.73,230.076 1308.37,274.106 1325.01,330.256 1341.66,398.969 1358.3,480.008 \n",
       "  1374.94,572.164 1391.59,673.149 1408.23,779.698 1424.87,887.862 1441.52,821.751 1458.16,718.836 1474.81,621.597 1491.45,534.457 1508.09,461.104 1524.74,404.32 \n",
       "  1541.38,365.976 1558.02,347.159 1574.67,348.34 1591.31,369.517 1607.95,410.239 1624.6,469.523 1641.24,545.679 1657.89,636.136 1674.53,737.357 1691.17,844.89 \n",
       "  1707.82,953.585 1724.46,965.691 1741.1,867.299 1757.75,775.303 1774.39,695.958 1791.03,634.952 1807.68,596.788 1824.32,584.244 1840.96,597.922 1857.61,635.984 \n",
       "  1874.25,694.114 1890.9,765.773 1907.54,842.782 1924.18,916.219 1940.83,950.199 1957.47,916.401 1974.11,902.858 1990.76,909.378 2007.4,932.765 2024.04,959.227 \n",
       "  2040.69,905.882 2057.33,853.138 2073.98,809.874 2090.62,783.401 2107.26,778.469 2123.91,796.754 2140.55,836.856 2157.19,831.974 2173.84,735.348 2190.48,634.674 \n",
       "  2207.12,536.423 2223.77,445.949 2240.41,367.006 2257.06,301.572 2273.7,249.975 2290.34,211.227 \n",
       "  \"/>\n",
       "<path clip-path=\"url(#clip072)\" d=\"\n",
       "M209.891 1056.15 L226.535 965.345 L243.179 865.912 L259.822 761.394 L276.466 733.497 L293.109 838.155 L309.753 938.568 L326.397 1030.81 L343.04 1111.76 L359.684 1179.28 \n",
       "  L376.328 1232.24 L392.971 1270.26 L409.615 1293.43 L426.258 1301.92 L442.902 1295.58 L459.546 1273.87 L476.189 1235.89 L492.833 1180.73 L509.476 1108.03 L526.12 1018.55 \n",
       "  L542.764 914.662 L559.407 800.658 L576.051 682.702 L592.694 568.434 L609.338 466.247 L625.982 485.359 L642.625 499.173 L659.269 494.841 L675.912 472.397 L692.556 433.961 \n",
       "  L709.2 433.022 L725.843 526.485 L742.487 633.483 L759.13 745.332 L775.774 853.715 L792.418 951.386 L809.061 1032.58 L825.705 1093.11 L842.349 1130.26 L858.992 1142.6 \n",
       "  L875.636 1129.83 L892.279 1092.79 L908.923 1033.61 L925.567 955.898 L942.21 864.919 L958.854 767.467 L975.497 671.516 L992.141 585.531 L1008.78 573.451 L1025.43 602.477 \n",
       "  L1042.07 611.548 L1058.72 599.842 L1075.36 568.793 L1092 593.671 L1108.65 683.451 L1125.29 784.557 L1141.93 889.374 L1158.58 991.075 L1175.22 1084.31 L1191.86 1165.57 \n",
       "  L1208.51 1233.12 L1225.15 1286.71 L1241.8 1327.01 L1258.44 1354.94 L1275.08 1371.2 L1291.73 1375.85 L1308.37 1368.32 L1325.01 1347.54 L1341.66 1312.36 L1358.3 1261.98 \n",
       "  L1374.94 1196.41 L1391.59 1116.73 L1408.23 1025.28 L1424.87 925.504 L1441.52 993.44 L1458.16 1092.47 L1474.81 1181.65 L1491.45 1258.66 L1508.09 1322.3 L1524.74 1372.3 \n",
       "  L1541.38 1409.1 L1558.02 1433.35 L1574.67 1445.55 L1591.31 1445.72 L1607.95 1433.28 L1624.6 1407.28 L1641.24 1366.74 L1657.89 1311.11 L1674.53 1240.79 L1691.17 1157.48 \n",
       "  L1707.82 1064.28 L1724.46 1057.94 L1741.1 1152.52 L1757.75 1232.4 L1774.39 1293.5 L1791.03 1332.92 L1807.68 1349.12 L1824.32 1342.05 L1840.96 1313.27 L1857.61 1265.93 \n",
       "  L1874.25 1204.72 L1890.9 1135.64 L1907.54 1065.56 L1924.18 1001.58 L1940.83 977.527 L1957.47 1019.7 L1974.11 1038.31 L1990.76 1032.28 L2007.4 1004.03 L2024.04 967.162 \n",
       "  L2040.69 1004.85 L2057.33 1037.35 L2073.98 1056.71 L2090.62 1056.66 L2107.26 1033.49 L2123.91 986.45 L2140.55 917.742 L2157.19 894.798 L2173.84 964.858 L2190.48 1040.58 \n",
       "  L2207.12 1115.75 L2223.77 1185.19 L2240.41 1245.27 L2257.06 1294.09 L2273.7 1331.31 L2290.34 1357.89 L2290.34 211.227 L2273.7 249.975 L2257.06 301.572 L2240.41 367.006 \n",
       "  L2223.77 445.949 L2207.12 536.423 L2190.48 634.674 L2173.84 735.348 L2157.19 831.974 L2140.55 836.856 L2123.91 796.754 L2107.26 778.469 L2090.62 783.401 L2073.98 809.874 \n",
       "  L2057.33 853.138 L2040.69 905.882 L2024.04 959.227 L2007.4 932.765 L1990.76 909.378 L1974.11 902.858 L1957.47 916.401 L1940.83 950.199 L1924.18 916.219 L1907.54 842.782 \n",
       "  L1890.9 765.773 L1874.25 694.114 L1857.61 635.984 L1840.96 597.922 L1824.32 584.244 L1807.68 596.788 L1791.03 634.952 L1774.39 695.958 L1757.75 775.303 L1741.1 867.299 \n",
       "  L1724.46 965.691 L1707.82 953.585 L1691.17 844.89 L1674.53 737.357 L1657.89 636.136 L1641.24 545.679 L1624.6 469.523 L1607.95 410.239 L1591.31 369.517 L1574.67 348.34 \n",
       "  L1558.02 347.159 L1541.38 365.976 L1524.74 404.32 L1508.09 461.104 L1491.45 534.457 L1474.81 621.597 L1458.16 718.836 L1441.52 821.751 L1424.87 887.862 L1408.23 779.698 \n",
       "  L1391.59 673.149 L1374.94 572.164 L1358.3 480.008 L1341.66 398.969 L1325.01 330.256 L1308.37 274.106 L1291.73 230.076 L1275.08 197.439 L1258.44 175.595 L1241.8 164.363 \n",
       "  L1225.15 164.066 L1208.51 175.377 L1191.86 198.941 L1175.22 234.88 L1158.58 282.311 L1141.93 338.997 L1125.29 401.248 L1108.65 464.115 L1092 521.884 L1075.36 522.688 \n",
       "  L1058.72 476.798 L1042.07 460.197 L1025.43 474.318 L1008.78 517.572 L992.141 527.376 L975.497 468.747 L958.854 402.918 L942.21 335.321 L925.567 270.783 L908.923 213.08 \n",
       "  L892.279 164.799 L875.636 127.477 L858.992 101.937 L842.349 88.6469 L825.705 87.9763 L809.061 100.218 L792.418 125.379 L775.774 162.819 L759.13 210.869 L742.487 266.593 \n",
       "  L725.843 325.813 L709.2 383.418 L692.556 361.236 L675.912 317.742 L659.269 306.769 L642.625 329.585 L625.982 384.322 L609.338 455.428 L592.694 413.098 L576.051 363.144 \n",
       "  L559.407 310.646 L542.764 260.252 L526.12 215.618 L509.476 179.101 L492.833 151.754 L476.189 133.585 L459.546 124.01 L442.902 122.366 L426.258 128.361 L409.615 142.349 \n",
       "  L392.971 165.346 L376.328 198.812 L359.684 244.259 L343.04 302.784 L326.397 374.655 L309.753 459.023 L293.109 553.834 L276.466 655.937 L259.822 628.967 L243.179 528.926 \n",
       "  L226.535 437.252 L209.891 356.934  Z\n",
       "  \" fill=\"#808080\" fill-rule=\"evenodd\" fill-opacity=\"0.25\"/>\n",
       "<polyline clip-path=\"url(#clip072)\" style=\"stroke:#808080; stroke-linecap:round; stroke-linejoin:round; stroke-width:4; stroke-opacity:1; fill:none\" points=\"\n",
       "  209.891,1056.15 226.535,965.345 243.179,865.912 259.822,761.394 276.466,733.497 293.109,838.155 309.753,938.568 326.397,1030.81 343.04,1111.76 359.684,1179.28 \n",
       "  376.328,1232.24 392.971,1270.26 409.615,1293.43 426.258,1301.92 442.902,1295.58 459.546,1273.87 476.189,1235.89 492.833,1180.73 509.476,1108.03 526.12,1018.55 \n",
       "  542.764,914.662 559.407,800.658 576.051,682.702 592.694,568.434 609.338,466.247 625.982,485.359 642.625,499.173 659.269,494.841 675.912,472.397 692.556,433.961 \n",
       "  709.2,433.022 725.843,526.485 742.487,633.483 759.13,745.332 775.774,853.715 792.418,951.386 809.061,1032.58 825.705,1093.11 842.349,1130.26 858.992,1142.6 \n",
       "  875.636,1129.83 892.279,1092.79 908.923,1033.61 925.567,955.898 942.21,864.919 958.854,767.467 975.497,671.516 992.141,585.531 1008.78,573.451 1025.43,602.477 \n",
       "  1042.07,611.548 1058.72,599.842 1075.36,568.793 1092,593.671 1108.65,683.451 1125.29,784.557 1141.93,889.374 1158.58,991.075 1175.22,1084.31 1191.86,1165.57 \n",
       "  1208.51,1233.12 1225.15,1286.71 1241.8,1327.01 1258.44,1354.94 1275.08,1371.2 1291.73,1375.85 1308.37,1368.32 1325.01,1347.54 1341.66,1312.36 1358.3,1261.98 \n",
       "  1374.94,1196.41 1391.59,1116.73 1408.23,1025.28 1424.87,925.504 1441.52,993.44 1458.16,1092.47 1474.81,1181.65 1491.45,1258.66 1508.09,1322.3 1524.74,1372.3 \n",
       "  1541.38,1409.1 1558.02,1433.35 1574.67,1445.55 1591.31,1445.72 1607.95,1433.28 1624.6,1407.28 1641.24,1366.74 1657.89,1311.11 1674.53,1240.79 1691.17,1157.48 \n",
       "  1707.82,1064.28 1724.46,1057.94 1741.1,1152.52 1757.75,1232.4 1774.39,1293.5 1791.03,1332.92 1807.68,1349.12 1824.32,1342.05 1840.96,1313.27 1857.61,1265.93 \n",
       "  1874.25,1204.72 1890.9,1135.64 1907.54,1065.56 1924.18,1001.58 1940.83,977.527 1957.47,1019.7 1974.11,1038.31 1990.76,1032.28 2007.4,1004.03 2024.04,967.162 \n",
       "  2040.69,1004.85 2057.33,1037.35 2073.98,1056.71 2090.62,1056.66 2107.26,1033.49 2123.91,986.45 2140.55,917.742 2157.19,894.798 2173.84,964.858 2190.48,1040.58 \n",
       "  2207.12,1115.75 2223.77,1185.19 2240.41,1245.27 2257.06,1294.09 2273.7,1331.31 2290.34,1357.89 \n",
       "  \"/>\n",
       "<polyline clip-path=\"url(#clip072)\" style=\"stroke:#0000ff; stroke-linecap:round; stroke-linejoin:round; stroke-width:8; stroke-opacity:1; fill:none\" points=\"\n",
       "  209.891,706.539 226.535,701.298 243.179,697.419 259.822,695.18 276.466,694.717 293.109,695.994 309.753,698.796 326.397,702.733 343.04,707.273 359.684,711.772 \n",
       "  376.328,715.524 392.971,717.8 409.615,717.891 426.258,715.14 442.902,708.975 459.546,698.942 476.189,684.736 492.833,666.241 509.476,643.566 526.12,617.084 \n",
       "  542.764,587.457 559.407,555.652 576.051,522.923 592.694,490.766 609.338,460.838 625.982,434.84 642.625,414.379 659.269,400.805 675.912,395.069 692.556,397.599 \n",
       "  709.2,408.22 725.843,426.149 742.487,450.038 759.13,478.101 775.774,508.267 792.418,538.383 809.061,566.398 825.705,590.542 842.349,609.453 858.992,622.269 \n",
       "  875.636,628.655 892.279,628.795 908.923,623.343 925.567,613.341 942.21,600.12 958.854,585.193 975.497,570.131 992.141,556.454 1008.78,545.512 1025.43,538.398 \n",
       "  1042.07,535.873 1058.72,538.32 1075.36,545.74 1092,557.778 1108.65,573.783 1125.29,592.903 1141.93,614.185 1158.58,636.693 1175.22,659.596 1191.86,682.253 \n",
       "  1208.51,704.247 1225.15,725.389 1241.8,745.685 1258.44,765.27 1275.08,784.319 1291.73,802.965 1308.37,821.214 1325.01,838.899 1341.66,855.664 1358.3,870.995 \n",
       "  1374.94,884.286 1391.59,894.942 1408.23,902.489 1424.87,906.683 1441.52,907.595 1458.16,905.651 1474.81,901.621 1491.45,896.56 1508.09,891.701 1524.74,888.311 \n",
       "  1541.38,887.537 1558.02,890.255 1574.67,896.947 1591.31,907.616 1607.95,921.758 1624.6,938.402 1641.24,956.207 1657.89,973.622 1674.53,989.076 1691.17,1001.18 \n",
       "  1707.82,1008.93 1724.46,1011.82 1741.1,1009.91 1757.75,1003.85 1774.39,994.73 1791.03,983.937 1807.68,972.953 1824.32,963.149 1840.96,955.598 1857.61,950.959 \n",
       "  1874.25,949.42 1890.9,950.707 1907.54,954.171 1924.18,958.9 1940.83,963.863 1957.47,968.049 1974.11,970.586 1990.76,970.828 2007.4,968.398 2024.04,963.195 \n",
       "  2040.69,955.364 2057.33,945.242 2073.98,933.291 2090.62,920.031 2107.26,905.978 2123.91,891.602 2140.55,877.299 2157.19,863.386 2173.84,850.103 2190.48,837.627 \n",
       "  2207.12,826.085 2223.77,815.57 2240.41,806.14 2257.06,797.829 2273.7,790.643 2290.34,784.558 \n",
       "  \"/>\n",
       "<circle clip-path=\"url(#clip072)\" cx=\"610.736\" cy=\"458.48\" r=\"14.4\" fill=\"#ff0000\" fill-rule=\"evenodd\" fill-opacity=\"1\" stroke=\"#000000\" stroke-opacity=\"1\" stroke-width=\"3.2\"/>\n",
       "<circle clip-path=\"url(#clip072)\" cx=\"270.325\" cy=\"694.68\" r=\"14.4\" fill=\"#ff0000\" fill-rule=\"evenodd\" fill-opacity=\"1\" stroke=\"#000000\" stroke-opacity=\"1\" stroke-width=\"3.2\"/>\n",
       "<circle clip-path=\"url(#clip072)\" cx=\"1427.86\" cy=\"907.08\" r=\"14.4\" fill=\"#ff0000\" fill-rule=\"evenodd\" fill-opacity=\"1\" stroke=\"#000000\" stroke-opacity=\"1\" stroke-width=\"3.2\"/>\n",
       "<circle clip-path=\"url(#clip072)\" cx=\"703.001\" cy=\"403.355\" r=\"14.4\" fill=\"#ff0000\" fill-rule=\"evenodd\" fill-opacity=\"1\" stroke=\"#000000\" stroke-opacity=\"1\" stroke-width=\"3.2\"/>\n",
       "<circle clip-path=\"url(#clip072)\" cx=\"2150.33\" cy=\"869.063\" r=\"14.4\" fill=\"#ff0000\" fill-rule=\"evenodd\" fill-opacity=\"1\" stroke=\"#000000\" stroke-opacity=\"1\" stroke-width=\"3.2\"/>\n",
       "<circle clip-path=\"url(#clip072)\" cx=\"999.963\" cy=\"550.897\" r=\"14.4\" fill=\"#ff0000\" fill-rule=\"evenodd\" fill-opacity=\"1\" stroke=\"#000000\" stroke-opacity=\"1\" stroke-width=\"3.2\"/>\n",
       "<circle clip-path=\"url(#clip072)\" cx=\"1716.85\" cy=\"1011.11\" r=\"14.4\" fill=\"#ff0000\" fill-rule=\"evenodd\" fill-opacity=\"1\" stroke=\"#000000\" stroke-opacity=\"1\" stroke-width=\"3.2\"/>\n",
       "<circle clip-path=\"url(#clip072)\" cx=\"2022.53\" cy=\"963.779\" r=\"14.4\" fill=\"#ff0000\" fill-rule=\"evenodd\" fill-opacity=\"1\" stroke=\"#000000\" stroke-opacity=\"1\" stroke-width=\"3.2\"/>\n",
       "<circle clip-path=\"url(#clip072)\" cx=\"1082.49\" cy=\"550.366\" r=\"14.4\" fill=\"#ff0000\" fill-rule=\"evenodd\" fill-opacity=\"1\" stroke=\"#000000\" stroke-opacity=\"1\" stroke-width=\"3.2\"/>\n",
       "<circle clip-path=\"url(#clip072)\" cx=\"1936.32\" cy=\"962.555\" r=\"14.4\" fill=\"#ff0000\" fill-rule=\"evenodd\" fill-opacity=\"1\" stroke=\"#000000\" stroke-opacity=\"1\" stroke-width=\"3.2\"/>\n",
       "<path clip-path=\"url(#clip070)\" d=\"\n",
       "M1565.82 302.578 L2279.25 302.578 L2279.25 95.2176 L1565.82 95.2176  Z\n",
       "  \" fill=\"#ffffff\" fill-rule=\"evenodd\" fill-opacity=\"1\"/>\n",
       "<polyline clip-path=\"url(#clip070)\" style=\"stroke:#000000; stroke-linecap:round; stroke-linejoin:round; stroke-width:4; stroke-opacity:1; fill:none\" points=\"\n",
       "  1565.82,302.578 2279.25,302.578 2279.25,95.2176 1565.82,95.2176 1565.82,302.578 \n",
       "  \"/>\n",
       "<path clip-path=\"url(#clip070)\" d=\"\n",
       "M1590.32 167.794 L1737.34 167.794 L1737.34 126.322 L1590.32 126.322 L1590.32 167.794  Z\n",
       "  \" fill=\"#808080\" fill-rule=\"evenodd\" fill-opacity=\"0.25\"/>\n",
       "<polyline clip-path=\"url(#clip070)\" style=\"stroke:#808080; stroke-linecap:round; stroke-linejoin:round; stroke-width:4; stroke-opacity:1; fill:none\" points=\"\n",
       "  1590.32,126.322 1737.34,126.322 \n",
       "  \"/>\n",
       "<path clip-path=\"url(#clip070)\" d=\"M1767.47 160.402 L1783.78 160.402 L1783.78 164.338 L1761.84 164.338 L1761.84 160.402 Q1764.5 157.648 1769.09 153.018 Q1773.69 148.365 1774.87 147.023 Q1777.12 144.5 1778 142.764 Q1778.9 141.004 1778.9 139.315 Q1778.9 136.56 1776.96 134.824 Q1775.03 133.088 1771.93 133.088 Q1769.73 133.088 1767.28 133.852 Q1764.85 134.615 1762.07 136.166 L1762.07 131.444 Q1764.9 130.31 1767.35 129.731 Q1769.8 129.153 1771.84 129.153 Q1777.21 129.153 1780.4 131.838 Q1783.6 134.523 1783.6 139.014 Q1783.6 141.143 1782.79 143.065 Q1782 144.963 1779.9 147.555 Q1779.32 148.227 1776.22 151.444 Q1773.11 154.639 1767.47 160.402 Z\" fill=\"#000000\" fill-rule=\"evenodd\" fill-opacity=\"1\" /><path clip-path=\"url(#clip070)\" d=\"M1803.04 141.791 Q1799.53 141.791 1797.63 144.338 Q1795.64 147 1795.64 151.398 Q1795.64 156.051 1797.6 158.736 Q1799.59 161.398 1803.04 161.398 Q1806.45 161.398 1808.44 158.713 Q1810.43 156.027 1810.43 151.398 Q1810.43 147.162 1808.44 144.338 Q1806.61 141.791 1803.04 141.791 M1803.04 138.412 L1817.19 138.412 L1817.19 142.671 L1812.42 142.671 Q1814.94 146.282 1814.94 151.398 Q1814.94 157.764 1811.77 161.375 Q1808.6 165.009 1803.04 165.009 Q1797.47 165.009 1794.32 161.375 Q1791.15 157.764 1791.15 151.398 Q1791.15 144.986 1794.32 141.398 Q1796.93 138.412 1803.04 138.412 Z\" fill=\"#000000\" fill-rule=\"evenodd\" fill-opacity=\"1\" /><path clip-path=\"url(#clip070)\" d=\"M1864.18 132.44 L1864.18 137.37 Q1861.82 135.171 1859.13 134.083 Q1856.47 132.995 1853.46 132.995 Q1847.53 132.995 1844.39 136.629 Q1841.24 140.24 1841.24 147.092 Q1841.24 153.921 1844.39 157.555 Q1847.53 161.166 1853.46 161.166 Q1856.47 161.166 1859.13 160.078 Q1861.82 158.99 1864.18 156.791 L1864.18 161.676 Q1861.72 163.342 1858.97 164.176 Q1856.24 165.009 1853.18 165.009 Q1845.34 165.009 1840.82 160.217 Q1836.31 155.402 1836.31 147.092 Q1836.31 138.759 1840.82 133.967 Q1845.34 129.153 1853.18 129.153 Q1856.28 129.153 1859.02 129.986 Q1861.77 130.796 1864.18 132.44 Z\" fill=\"#000000\" fill-rule=\"evenodd\" fill-opacity=\"1\" /><path clip-path=\"url(#clip070)\" d=\"M1881.26 141.398 Q1877.83 141.398 1875.84 144.083 Q1873.85 146.745 1873.85 151.398 Q1873.85 156.051 1875.82 158.736 Q1877.81 161.398 1881.26 161.398 Q1884.66 161.398 1886.65 158.713 Q1888.65 156.027 1888.65 151.398 Q1888.65 146.791 1886.65 144.106 Q1884.66 141.398 1881.26 141.398 M1881.26 137.787 Q1886.82 137.787 1889.99 141.398 Q1893.16 145.009 1893.16 151.398 Q1893.16 157.764 1889.99 161.398 Q1886.82 165.009 1881.26 165.009 Q1875.68 165.009 1872.51 161.398 Q1869.36 157.764 1869.36 151.398 Q1869.36 145.009 1872.51 141.398 Q1875.68 137.787 1881.26 137.787 Z\" fill=\"#000000\" fill-rule=\"evenodd\" fill-opacity=\"1\" /><path clip-path=\"url(#clip070)\" d=\"M1921.77 148.689 L1921.77 164.338 L1917.51 164.338 L1917.51 148.828 Q1917.51 145.148 1916.08 143.319 Q1914.64 141.49 1911.77 141.49 Q1908.32 141.49 1906.33 143.69 Q1904.34 145.889 1904.34 149.685 L1904.34 164.338 L1900.06 164.338 L1900.06 138.412 L1904.34 138.412 L1904.34 142.44 Q1905.87 140.102 1907.93 138.944 Q1910.01 137.787 1912.72 137.787 Q1917.19 137.787 1919.48 140.565 Q1921.77 143.319 1921.77 148.689 Z\" fill=\"#000000\" fill-rule=\"evenodd\" fill-opacity=\"1\" /><path clip-path=\"url(#clip070)\" d=\"M1943.39 128.319 L1943.39 131.861 L1939.32 131.861 Q1937.02 131.861 1936.12 132.787 Q1935.24 133.713 1935.24 136.12 L1935.24 138.412 L1942.26 138.412 L1942.26 141.722 L1935.24 141.722 L1935.24 164.338 L1930.96 164.338 L1930.96 141.722 L1926.89 141.722 L1926.89 138.412 L1930.96 138.412 L1930.96 136.606 Q1930.96 132.278 1932.97 130.31 Q1934.99 128.319 1939.36 128.319 L1943.39 128.319 Z\" fill=\"#000000\" fill-rule=\"evenodd\" fill-opacity=\"1\" /><path clip-path=\"url(#clip070)\" d=\"M1946.95 138.412 L1951.21 138.412 L1951.21 164.338 L1946.95 164.338 L1946.95 138.412 M1946.95 128.319 L1951.21 128.319 L1951.21 133.713 L1946.95 133.713 L1946.95 128.319 Z\" fill=\"#000000\" fill-rule=\"evenodd\" fill-opacity=\"1\" /><path clip-path=\"url(#clip070)\" d=\"M1977.19 142.347 L1977.19 128.319 L1981.45 128.319 L1981.45 164.338 L1977.19 164.338 L1977.19 160.449 Q1975.84 162.763 1973.78 163.898 Q1971.75 165.009 1968.88 165.009 Q1964.18 165.009 1961.21 161.259 Q1958.27 157.509 1958.27 151.398 Q1958.27 145.287 1961.21 141.537 Q1964.18 137.787 1968.88 137.787 Q1971.75 137.787 1973.78 138.921 Q1975.84 140.032 1977.19 142.347 M1962.67 151.398 Q1962.67 156.097 1964.59 158.782 Q1966.54 161.444 1969.92 161.444 Q1973.3 161.444 1975.24 158.782 Q1977.19 156.097 1977.19 151.398 Q1977.19 146.699 1975.24 144.037 Q1973.3 141.352 1969.92 141.352 Q1966.54 141.352 1964.59 144.037 Q1962.67 146.699 1962.67 151.398 Z\" fill=\"#000000\" fill-rule=\"evenodd\" fill-opacity=\"1\" /><path clip-path=\"url(#clip070)\" d=\"M2012.39 150.31 L2012.39 152.393 L1992.81 152.393 Q1993.09 156.791 1995.45 159.106 Q1997.83 161.398 2002.07 161.398 Q2004.52 161.398 2006.82 160.796 Q2009.13 160.194 2011.4 158.99 L2011.4 163.018 Q2009.11 163.99 2006.7 164.5 Q2004.29 165.009 2001.82 165.009 Q1995.61 165.009 1991.98 161.398 Q1988.37 157.787 1988.37 151.629 Q1988.37 145.264 1991.79 141.537 Q1995.24 137.787 2001.08 137.787 Q2006.31 137.787 2009.34 141.166 Q2012.39 144.523 2012.39 150.31 M2008.14 149.06 Q2008.09 145.565 2006.17 143.481 Q2004.27 141.398 2001.12 141.398 Q1997.56 141.398 1995.4 143.412 Q1993.27 145.426 1992.95 149.083 L2008.14 149.06 Z\" fill=\"#000000\" fill-rule=\"evenodd\" fill-opacity=\"1\" /><path clip-path=\"url(#clip070)\" d=\"M2040.94 148.689 L2040.94 164.338 L2036.68 164.338 L2036.68 148.828 Q2036.68 145.148 2035.24 143.319 Q2033.81 141.49 2030.94 141.49 Q2027.49 141.49 2025.5 143.69 Q2023.51 145.889 2023.51 149.685 L2023.51 164.338 L2019.22 164.338 L2019.22 138.412 L2023.51 138.412 L2023.51 142.44 Q2025.03 140.102 2027.09 138.944 Q2029.18 137.787 2031.89 137.787 Q2036.35 137.787 2038.64 140.565 Q2040.94 143.319 2040.94 148.689 Z\" fill=\"#000000\" fill-rule=\"evenodd\" fill-opacity=\"1\" /><path clip-path=\"url(#clip070)\" d=\"M2068.09 139.407 L2068.09 143.389 Q2066.28 142.393 2064.45 141.907 Q2062.65 141.398 2060.8 141.398 Q2056.65 141.398 2054.36 144.037 Q2052.07 146.652 2052.07 151.398 Q2052.07 156.143 2054.36 158.782 Q2056.65 161.398 2060.8 161.398 Q2062.65 161.398 2064.45 160.912 Q2066.28 160.402 2068.09 159.407 L2068.09 163.342 Q2066.31 164.176 2064.38 164.592 Q2062.49 165.009 2060.33 165.009 Q2054.48 165.009 2051.03 161.328 Q2047.58 157.648 2047.58 151.398 Q2047.58 145.055 2051.05 141.421 Q2054.55 137.787 2060.61 137.787 Q2062.58 137.787 2064.45 138.203 Q2066.33 138.597 2068.09 139.407 Z\" fill=\"#000000\" fill-rule=\"evenodd\" fill-opacity=\"1\" /><path clip-path=\"url(#clip070)\" d=\"M2097.67 150.31 L2097.67 152.393 L2078.09 152.393 Q2078.37 156.791 2080.73 159.106 Q2083.11 161.398 2087.35 161.398 Q2089.8 161.398 2092.09 160.796 Q2094.41 160.194 2096.68 158.99 L2096.68 163.018 Q2094.38 163.99 2091.98 164.5 Q2089.57 165.009 2087.09 165.009 Q2080.89 165.009 2077.26 161.398 Q2073.64 157.787 2073.64 151.629 Q2073.64 145.264 2077.07 141.537 Q2080.52 137.787 2086.35 137.787 Q2091.58 137.787 2094.62 141.166 Q2097.67 144.523 2097.67 150.31 M2093.41 149.06 Q2093.37 145.565 2091.44 143.481 Q2089.55 141.398 2086.4 141.398 Q2082.83 141.398 2080.68 143.412 Q2078.55 145.426 2078.23 149.083 L2093.41 149.06 Z\" fill=\"#000000\" fill-rule=\"evenodd\" fill-opacity=\"1\" /><path clip-path=\"url(#clip070)\" d=\"M2138.34 151.398 Q2138.34 146.699 2136.4 144.037 Q2134.48 141.352 2131.1 141.352 Q2127.72 141.352 2125.77 144.037 Q2123.85 146.699 2123.85 151.398 Q2123.85 156.097 2125.77 158.782 Q2127.72 161.444 2131.1 161.444 Q2134.48 161.444 2136.4 158.782 Q2138.34 156.097 2138.34 151.398 M2123.85 142.347 Q2125.19 140.032 2127.23 138.921 Q2129.29 137.787 2132.14 137.787 Q2136.86 137.787 2139.8 141.537 Q2142.76 145.287 2142.76 151.398 Q2142.76 157.509 2139.8 161.259 Q2136.86 165.009 2132.14 165.009 Q2129.29 165.009 2127.23 163.898 Q2125.19 162.763 2123.85 160.449 L2123.85 164.338 L2119.57 164.338 L2119.57 128.319 L2123.85 128.319 L2123.85 142.347 Z\" fill=\"#000000\" fill-rule=\"evenodd\" fill-opacity=\"1\" /><path clip-path=\"url(#clip070)\" d=\"M2161.61 151.305 Q2156.44 151.305 2154.45 152.486 Q2152.46 153.666 2152.46 156.514 Q2152.46 158.782 2153.94 160.125 Q2155.45 161.444 2158.02 161.444 Q2161.56 161.444 2163.69 158.944 Q2165.84 156.421 2165.84 152.254 L2165.84 151.305 L2161.61 151.305 M2170.1 149.546 L2170.1 164.338 L2165.84 164.338 L2165.84 160.402 Q2164.38 162.763 2162.21 163.898 Q2160.03 165.009 2156.88 165.009 Q2152.9 165.009 2150.54 162.787 Q2148.2 160.541 2148.2 156.791 Q2148.2 152.416 2151.12 150.194 Q2154.06 147.972 2159.87 147.972 L2165.84 147.972 L2165.84 147.555 Q2165.84 144.615 2163.9 143.018 Q2161.98 141.398 2158.48 141.398 Q2156.26 141.398 2154.15 141.93 Q2152.05 142.463 2150.1 143.527 L2150.1 139.592 Q2152.44 138.69 2154.64 138.25 Q2156.84 137.787 2158.92 137.787 Q2164.55 137.787 2167.32 140.703 Q2170.1 143.62 2170.1 149.546 Z\" fill=\"#000000\" fill-rule=\"evenodd\" fill-opacity=\"1\" /><path clip-path=\"url(#clip070)\" d=\"M2200.43 148.689 L2200.43 164.338 L2196.17 164.338 L2196.17 148.828 Q2196.17 145.148 2194.73 143.319 Q2193.3 141.49 2190.43 141.49 Q2186.98 141.49 2184.99 143.69 Q2183 145.889 2183 149.685 L2183 164.338 L2178.71 164.338 L2178.71 138.412 L2183 138.412 L2183 142.44 Q2184.52 140.102 2186.58 138.944 Q2188.67 137.787 2191.37 137.787 Q2195.84 137.787 2198.13 140.565 Q2200.43 143.319 2200.43 148.689 Z\" fill=\"#000000\" fill-rule=\"evenodd\" fill-opacity=\"1\" /><path clip-path=\"url(#clip070)\" d=\"M2225.98 142.347 L2225.98 128.319 L2230.24 128.319 L2230.24 164.338 L2225.98 164.338 L2225.98 160.449 Q2224.64 162.763 2222.58 163.898 Q2220.54 165.009 2217.67 165.009 Q2212.97 165.009 2210.01 161.259 Q2207.07 157.509 2207.07 151.398 Q2207.07 145.287 2210.01 141.537 Q2212.97 137.787 2217.67 137.787 Q2220.54 137.787 2222.58 138.921 Q2224.64 140.032 2225.98 142.347 M2211.47 151.398 Q2211.47 156.097 2213.39 158.782 Q2215.33 161.444 2218.71 161.444 Q2222.09 161.444 2224.04 158.782 Q2225.98 156.097 2225.98 151.398 Q2225.98 146.699 2224.04 144.037 Q2222.09 141.352 2218.71 141.352 Q2215.33 141.352 2213.39 144.037 Q2211.47 146.699 2211.47 151.398 Z\" fill=\"#000000\" fill-rule=\"evenodd\" fill-opacity=\"1\" /><polyline clip-path=\"url(#clip070)\" style=\"stroke:#0000ff; stroke-linecap:round; stroke-linejoin:round; stroke-width:4; stroke-opacity:1; fill:none\" points=\"\n",
       "  1590.32,198.898 1737.34,198.898 \n",
       "  \"/>\n",
       "<path clip-path=\"url(#clip070)\" d=\"M1782.19 195.229 Q1783.78 192.358 1786.01 190.993 Q1788.23 189.627 1791.24 189.627 Q1795.29 189.627 1797.49 192.474 Q1799.69 195.298 1799.69 200.529 L1799.69 216.178 L1795.4 216.178 L1795.4 200.668 Q1795.4 196.942 1794.09 195.136 Q1792.77 193.33 1790.06 193.33 Q1786.75 193.33 1784.83 195.53 Q1782.9 197.729 1782.9 201.525 L1782.9 216.178 L1778.62 216.178 L1778.62 200.668 Q1778.62 196.918 1777.3 195.136 Q1775.98 193.33 1773.23 193.33 Q1769.97 193.33 1768.04 195.553 Q1766.12 197.752 1766.12 201.525 L1766.12 216.178 L1761.84 216.178 L1761.84 190.252 L1766.12 190.252 L1766.12 194.28 Q1767.58 191.895 1769.62 190.761 Q1771.65 189.627 1774.46 189.627 Q1777.28 189.627 1779.25 191.062 Q1781.24 192.497 1782.19 195.229 Z\" fill=\"#000000\" fill-rule=\"evenodd\" fill-opacity=\"1\" /><path clip-path=\"url(#clip070)\" d=\"M1830.36 202.15 L1830.36 204.233 L1810.78 204.233 Q1811.05 208.631 1813.41 210.946 Q1815.8 213.238 1820.03 213.238 Q1822.49 213.238 1824.78 212.636 Q1827.09 212.034 1829.36 210.83 L1829.36 214.858 Q1827.07 215.83 1824.66 216.34 Q1822.26 216.849 1819.78 216.849 Q1813.58 216.849 1809.94 213.238 Q1806.33 209.627 1806.33 203.469 Q1806.33 197.104 1809.76 193.377 Q1813.21 189.627 1819.04 189.627 Q1824.27 189.627 1827.3 193.006 Q1830.36 196.363 1830.36 202.15 M1826.1 200.9 Q1826.05 197.405 1824.13 195.321 Q1822.23 193.238 1819.09 193.238 Q1815.52 193.238 1813.37 195.252 Q1811.24 197.266 1810.91 200.923 L1826.1 200.9 Z\" fill=\"#000000\" fill-rule=\"evenodd\" fill-opacity=\"1\" /><path clip-path=\"url(#clip070)\" d=\"M1849.13 203.145 Q1843.97 203.145 1841.98 204.326 Q1839.99 205.506 1839.99 208.354 Q1839.99 210.622 1841.47 211.965 Q1842.97 213.284 1845.54 213.284 Q1849.09 213.284 1851.21 210.784 Q1853.37 208.261 1853.37 204.094 L1853.37 203.145 L1849.13 203.145 M1857.63 201.386 L1857.63 216.178 L1853.37 216.178 L1853.37 212.242 Q1851.91 214.603 1849.73 215.738 Q1847.56 216.849 1844.41 216.849 Q1840.43 216.849 1838.07 214.627 Q1835.73 212.381 1835.73 208.631 Q1835.73 204.256 1838.65 202.034 Q1841.59 199.812 1847.4 199.812 L1853.37 199.812 L1853.37 199.395 Q1853.37 196.455 1851.42 194.858 Q1849.5 193.238 1846.01 193.238 Q1843.78 193.238 1841.68 193.77 Q1839.57 194.303 1837.63 195.367 L1837.63 191.432 Q1839.96 190.53 1842.16 190.09 Q1844.36 189.627 1846.45 189.627 Q1852.07 189.627 1854.85 192.543 Q1857.63 195.46 1857.63 201.386 Z\" fill=\"#000000\" fill-rule=\"evenodd\" fill-opacity=\"1\" /><path clip-path=\"url(#clip070)\" d=\"M1887.95 200.529 L1887.95 216.178 L1883.69 216.178 L1883.69 200.668 Q1883.69 196.988 1882.26 195.159 Q1880.82 193.33 1877.95 193.33 Q1874.5 193.33 1872.51 195.53 Q1870.52 197.729 1870.52 201.525 L1870.52 216.178 L1866.24 216.178 L1866.24 190.252 L1870.52 190.252 L1870.52 194.28 Q1872.05 191.942 1874.11 190.784 Q1876.19 189.627 1878.9 189.627 Q1883.37 189.627 1885.66 192.405 Q1887.95 195.159 1887.95 200.529 Z\" fill=\"#000000\" fill-rule=\"evenodd\" fill-opacity=\"1\" /><path clip-path=\"url(#clip070)\" d=\"M1915.64 212.289 L1915.64 226.039 L1911.35 226.039 L1911.35 190.252 L1915.64 190.252 L1915.64 194.187 Q1916.98 191.872 1919.02 190.761 Q1921.08 189.627 1923.92 189.627 Q1928.64 189.627 1931.58 193.377 Q1934.55 197.127 1934.55 203.238 Q1934.55 209.349 1931.58 213.099 Q1928.64 216.849 1923.92 216.849 Q1921.08 216.849 1919.02 215.738 Q1916.98 214.603 1915.64 212.289 M1930.13 203.238 Q1930.13 198.539 1928.18 195.877 Q1926.26 193.192 1922.88 193.192 Q1919.5 193.192 1917.56 195.877 Q1915.64 198.539 1915.64 203.238 Q1915.64 207.937 1917.56 210.622 Q1919.5 213.284 1922.88 213.284 Q1926.26 213.284 1928.18 210.622 Q1930.13 207.937 1930.13 203.238 Z\" fill=\"#000000\" fill-rule=\"evenodd\" fill-opacity=\"1\" /><path clip-path=\"url(#clip070)\" d=\"M1956.63 194.233 Q1955.91 193.817 1955.06 193.631 Q1954.22 193.423 1953.2 193.423 Q1949.59 193.423 1947.65 195.784 Q1945.73 198.122 1945.73 202.52 L1945.73 216.178 L1941.45 216.178 L1941.45 190.252 L1945.73 190.252 L1945.73 194.28 Q1947.07 191.918 1949.22 190.784 Q1951.38 189.627 1954.45 189.627 Q1954.89 189.627 1955.43 189.696 Q1955.96 189.743 1956.61 189.858 L1956.63 194.233 Z\" fill=\"#000000\" fill-rule=\"evenodd\" fill-opacity=\"1\" /><path clip-path=\"url(#clip070)\" d=\"M1982.23 202.15 L1982.23 204.233 L1962.65 204.233 Q1962.93 208.631 1965.29 210.946 Q1967.67 213.238 1971.91 213.238 Q1974.36 213.238 1976.65 212.636 Q1978.97 212.034 1981.24 210.83 L1981.24 214.858 Q1978.95 215.83 1976.54 216.34 Q1974.13 216.849 1971.65 216.849 Q1965.45 216.849 1961.82 213.238 Q1958.2 209.627 1958.2 203.469 Q1958.2 197.104 1961.63 193.377 Q1965.08 189.627 1970.91 189.627 Q1976.14 189.627 1979.18 193.006 Q1982.23 196.363 1982.23 202.15 M1977.97 200.9 Q1977.93 197.405 1976.01 195.321 Q1974.11 193.238 1970.96 193.238 Q1967.39 193.238 1965.24 195.252 Q1963.11 197.266 1962.79 200.923 L1977.97 200.9 Z\" fill=\"#000000\" fill-rule=\"evenodd\" fill-opacity=\"1\" /><path clip-path=\"url(#clip070)\" d=\"M2006.28 194.187 L2006.28 180.159 L2010.54 180.159 L2010.54 216.178 L2006.28 216.178 L2006.28 212.289 Q2004.94 214.603 2002.88 215.738 Q2000.84 216.849 1997.97 216.849 Q1993.27 216.849 1990.31 213.099 Q1987.37 209.349 1987.37 203.238 Q1987.37 197.127 1990.31 193.377 Q1993.27 189.627 1997.97 189.627 Q2000.84 189.627 2002.88 190.761 Q2004.94 191.872 2006.28 194.187 M1991.77 203.238 Q1991.77 207.937 1993.69 210.622 Q1995.64 213.284 1999.01 213.284 Q2002.39 213.284 2004.34 210.622 Q2006.28 207.937 2006.28 203.238 Q2006.28 198.539 2004.34 195.877 Q2002.39 193.192 1999.01 193.192 Q1995.64 193.192 1993.69 195.877 Q1991.77 198.539 1991.77 203.238 Z\" fill=\"#000000\" fill-rule=\"evenodd\" fill-opacity=\"1\" /><path clip-path=\"url(#clip070)\" d=\"M2019.32 190.252 L2023.57 190.252 L2023.57 216.178 L2019.32 216.178 L2019.32 190.252 M2019.32 180.159 L2023.57 180.159 L2023.57 185.553 L2019.32 185.553 L2019.32 180.159 Z\" fill=\"#000000\" fill-rule=\"evenodd\" fill-opacity=\"1\" /><path clip-path=\"url(#clip070)\" d=\"M2051.14 191.247 L2051.14 195.229 Q2049.34 194.233 2047.51 193.747 Q2045.7 193.238 2043.85 193.238 Q2039.71 193.238 2037.42 195.877 Q2035.13 198.492 2035.13 203.238 Q2035.13 207.983 2037.42 210.622 Q2039.71 213.238 2043.85 213.238 Q2045.7 213.238 2047.51 212.752 Q2049.34 212.242 2051.14 211.247 L2051.14 215.182 Q2049.36 216.016 2047.44 216.432 Q2045.54 216.849 2043.39 216.849 Q2037.53 216.849 2034.08 213.168 Q2030.64 209.488 2030.64 203.238 Q2030.64 196.895 2034.11 193.261 Q2037.6 189.627 2043.67 189.627 Q2045.63 189.627 2047.51 190.043 Q2049.38 190.437 2051.14 191.247 Z\" fill=\"#000000\" fill-rule=\"evenodd\" fill-opacity=\"1\" /><path clip-path=\"url(#clip070)\" d=\"M2062.76 182.891 L2062.76 190.252 L2071.54 190.252 L2071.54 193.562 L2062.76 193.562 L2062.76 207.636 Q2062.76 210.807 2063.62 211.71 Q2064.5 212.613 2067.16 212.613 L2071.54 212.613 L2071.54 216.178 L2067.16 216.178 Q2062.23 216.178 2060.36 214.349 Q2058.48 212.497 2058.48 207.636 L2058.48 193.562 L2055.36 193.562 L2055.36 190.252 L2058.48 190.252 L2058.48 182.891 L2062.76 182.891 Z\" fill=\"#000000\" fill-rule=\"evenodd\" fill-opacity=\"1\" /><path clip-path=\"url(#clip070)\" d=\"M2077.14 190.252 L2081.4 190.252 L2081.4 216.178 L2077.14 216.178 L2077.14 190.252 M2077.14 180.159 L2081.4 180.159 L2081.4 185.553 L2077.14 185.553 L2077.14 180.159 Z\" fill=\"#000000\" fill-rule=\"evenodd\" fill-opacity=\"1\" /><path clip-path=\"url(#clip070)\" d=\"M2100.36 193.238 Q2096.93 193.238 2094.94 195.923 Q2092.95 198.585 2092.95 203.238 Q2092.95 207.891 2094.92 210.576 Q2096.91 213.238 2100.36 213.238 Q2103.76 213.238 2105.75 210.553 Q2107.74 207.867 2107.74 203.238 Q2107.74 198.631 2105.75 195.946 Q2103.76 193.238 2100.36 193.238 M2100.36 189.627 Q2105.91 189.627 2109.08 193.238 Q2112.25 196.849 2112.25 203.238 Q2112.25 209.604 2109.08 213.238 Q2105.91 216.849 2100.36 216.849 Q2094.78 216.849 2091.61 213.238 Q2088.46 209.604 2088.46 203.238 Q2088.46 196.849 2091.61 193.238 Q2094.78 189.627 2100.36 189.627 Z\" fill=\"#000000\" fill-rule=\"evenodd\" fill-opacity=\"1\" /><path clip-path=\"url(#clip070)\" d=\"M2140.87 200.529 L2140.87 216.178 L2136.61 216.178 L2136.61 200.668 Q2136.61 196.988 2135.17 195.159 Q2133.74 193.33 2130.87 193.33 Q2127.42 193.33 2125.43 195.53 Q2123.44 197.729 2123.44 201.525 L2123.44 216.178 L2119.15 216.178 L2119.15 190.252 L2123.44 190.252 L2123.44 194.28 Q2124.96 191.942 2127.02 190.784 Q2129.11 189.627 2131.82 189.627 Q2136.28 189.627 2138.57 192.405 Q2140.87 195.159 2140.87 200.529 Z\" fill=\"#000000\" fill-rule=\"evenodd\" fill-opacity=\"1\" /><circle clip-path=\"url(#clip070)\" cx=\"1663.83\" cy=\"250.738\" r=\"23.04\" fill=\"#ff0000\" fill-rule=\"evenodd\" fill-opacity=\"1\" stroke=\"#000000\" stroke-opacity=\"1\" stroke-width=\"5.12\"/>\n",
       "<path clip-path=\"url(#clip070)\" d=\"M1766.52 237.3 L1766.52 264.175 L1772.16 264.175 Q1779.32 264.175 1782.63 260.934 Q1785.96 257.694 1785.96 250.703 Q1785.96 243.758 1782.63 240.541 Q1779.32 237.3 1772.16 237.3 L1766.52 237.3 M1761.84 233.458 L1771.45 233.458 Q1781.49 233.458 1786.19 237.647 Q1790.89 241.814 1790.89 250.703 Q1790.89 259.638 1786.17 263.828 Q1781.45 268.018 1771.45 268.018 L1761.84 268.018 L1761.84 233.458 Z\" fill=\"#000000\" fill-rule=\"evenodd\" fill-opacity=\"1\" /><path clip-path=\"url(#clip070)\" d=\"M1809.94 254.985 Q1804.78 254.985 1802.79 256.166 Q1800.8 257.346 1800.8 260.194 Q1800.8 262.462 1802.28 263.805 Q1803.78 265.124 1806.35 265.124 Q1809.9 265.124 1812.03 262.624 Q1814.18 260.101 1814.18 255.934 L1814.18 254.985 L1809.94 254.985 M1818.44 253.226 L1818.44 268.018 L1814.18 268.018 L1814.18 264.082 Q1812.72 266.443 1810.54 267.578 Q1808.37 268.689 1805.22 268.689 Q1801.24 268.689 1798.88 266.467 Q1796.54 264.221 1796.54 260.471 Q1796.54 256.096 1799.46 253.874 Q1802.4 251.652 1808.21 251.652 L1814.18 251.652 L1814.18 251.235 Q1814.18 248.295 1812.23 246.698 Q1810.31 245.078 1806.82 245.078 Q1804.59 245.078 1802.49 245.61 Q1800.38 246.143 1798.44 247.207 L1798.44 243.272 Q1800.78 242.37 1802.97 241.93 Q1805.17 241.467 1807.26 241.467 Q1812.88 241.467 1815.66 244.383 Q1818.44 247.3 1818.44 253.226 Z\" fill=\"#000000\" fill-rule=\"evenodd\" fill-opacity=\"1\" /><path clip-path=\"url(#clip070)\" d=\"M1831.42 234.731 L1831.42 242.092 L1840.2 242.092 L1840.2 245.402 L1831.42 245.402 L1831.42 259.476 Q1831.42 262.647 1832.28 263.55 Q1833.16 264.453 1835.82 264.453 L1840.2 264.453 L1840.2 268.018 L1835.82 268.018 Q1830.89 268.018 1829.02 266.189 Q1827.14 264.337 1827.14 259.476 L1827.14 245.402 L1824.02 245.402 L1824.02 242.092 L1827.14 242.092 L1827.14 234.731 L1831.42 234.731 Z\" fill=\"#000000\" fill-rule=\"evenodd\" fill-opacity=\"1\" /><path clip-path=\"url(#clip070)\" d=\"M1857.58 254.985 Q1852.42 254.985 1850.43 256.166 Q1848.44 257.346 1848.44 260.194 Q1848.44 262.462 1849.92 263.805 Q1851.42 265.124 1853.99 265.124 Q1857.53 265.124 1859.66 262.624 Q1861.82 260.101 1861.82 255.934 L1861.82 254.985 L1857.58 254.985 M1866.08 253.226 L1866.08 268.018 L1861.82 268.018 L1861.82 264.082 Q1860.36 266.443 1858.18 267.578 Q1856.01 268.689 1852.86 268.689 Q1848.88 268.689 1846.52 266.467 Q1844.18 264.221 1844.18 260.471 Q1844.18 256.096 1847.09 253.874 Q1850.03 251.652 1855.84 251.652 L1861.82 251.652 L1861.82 251.235 Q1861.82 248.295 1859.87 246.698 Q1857.95 245.078 1854.46 245.078 Q1852.23 245.078 1850.13 245.61 Q1848.02 246.143 1846.08 247.207 L1846.08 243.272 Q1848.41 242.37 1850.61 241.93 Q1852.81 241.467 1854.9 241.467 Q1860.52 241.467 1863.3 244.383 Q1866.08 247.3 1866.08 253.226 Z\" fill=\"#000000\" fill-rule=\"evenodd\" fill-opacity=\"1\" /></svg>\n"
      ]
     },
     "execution_count": 10,
     "metadata": {},
     "output_type": "execute_result"
    }
   ],
   "source": [
    "plot(Xnew', ynew .+ twostdevs, c=:gray, label=\"\")\n",
    "plot!(Xnew', ynew .- twostdevs, fillrange = ynew .+ twostdevs, fillalpha = 0.25, c = :gray, label = \"2σ Confidence band\")\n",
    "plot!(Xnew', ynew, c=:blue, lw=2, label=\"mean prediction\")\n",
    "plot!(X', yvec, seriestype=:scatter, color=:red, label=\"Data\")"
   ]
  },
  {
   "cell_type": "code",
   "execution_count": 11,
   "id": "05484e2a",
   "metadata": {},
   "outputs": [],
   "source": [
    "savefig(\"gpr_demo.pdf\")"
   ]
  },
  {
   "cell_type": "code",
   "execution_count": 12,
   "id": "23f7ccfc",
   "metadata": {},
   "outputs": [],
   "source": [
    "savefig(\"gpr_demo.png\")"
   ]
  },
  {
   "cell_type": "code",
   "execution_count": null,
   "id": "a604e9f4",
   "metadata": {},
   "outputs": [],
   "source": []
  }
 ],
 "metadata": {
  "kernelspec": {
   "display_name": "Julia 1.8.2",
   "language": "julia",
   "name": "julia-1.8"
  },
  "language_info": {
   "file_extension": ".jl",
   "mimetype": "application/julia",
   "name": "julia",
   "version": "1.8.2"
  }
 },
 "nbformat": 4,
 "nbformat_minor": 5
}
